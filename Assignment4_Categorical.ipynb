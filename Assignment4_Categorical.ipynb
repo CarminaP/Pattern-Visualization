{
  "nbformat": 4,
  "nbformat_minor": 0,
  "metadata": {
    "colab": {
      "name": "Assignment4-Categorical",
      "provenance": [],
      "collapsed_sections": [
        "i05n1ilqId-z"
      ]
    },
    "kernelspec": {
      "name": "python3",
      "display_name": "Python 3"
    },
    "language_info": {
      "name": "python"
    }
  },
  "cells": [
    {
      "cell_type": "code",
      "metadata": {
        "colab": {
          "base_uri": "https://localhost:8080/"
        },
        "id": "pLw9zOSz7sLl",
        "outputId": "9ac99601-9fa3-4e37-d80c-27ecbfeb293c"
      },
      "source": [
        "!pip install PBC4cip"
      ],
      "execution_count": null,
      "outputs": [
        {
          "output_type": "stream",
          "name": "stdout",
          "text": [
            "Collecting PBC4cip\n",
            "  Downloading PBC4cip-0.0.0.8-py3-none-any.whl (57 kB)\n",
            "\u001b[?25l\r\u001b[K     |█████▊                          | 10 kB 17.6 MB/s eta 0:00:01\r\u001b[K     |███████████▍                    | 20 kB 15.3 MB/s eta 0:00:01\r\u001b[K     |█████████████████▏              | 30 kB 10.3 MB/s eta 0:00:01\r\u001b[K     |██████████████████████▉         | 40 kB 8.7 MB/s eta 0:00:01\r\u001b[K     |████████████████████████████▌   | 51 kB 4.6 MB/s eta 0:00:01\r\u001b[K     |████████████████████████████████| 57 kB 1.8 MB/s \n",
            "\u001b[?25hRequirement already satisfied: tqdm in /usr/local/lib/python3.7/dist-packages (from PBC4cip) (4.62.3)\n",
            "Requirement already satisfied: scikit-learn in /usr/local/lib/python3.7/dist-packages (from PBC4cip) (0.22.2.post1)\n",
            "Requirement already satisfied: pandas in /usr/local/lib/python3.7/dist-packages (from PBC4cip) (1.1.5)\n",
            "Requirement already satisfied: numpy in /usr/local/lib/python3.7/dist-packages (from PBC4cip) (1.19.5)\n",
            "Requirement already satisfied: pytz>=2017.2 in /usr/local/lib/python3.7/dist-packages (from pandas->PBC4cip) (2018.9)\n",
            "Requirement already satisfied: python-dateutil>=2.7.3 in /usr/local/lib/python3.7/dist-packages (from pandas->PBC4cip) (2.8.2)\n",
            "Requirement already satisfied: six>=1.5 in /usr/local/lib/python3.7/dist-packages (from python-dateutil>=2.7.3->pandas->PBC4cip) (1.15.0)\n",
            "Requirement already satisfied: joblib>=0.11 in /usr/local/lib/python3.7/dist-packages (from scikit-learn->PBC4cip) (1.0.1)\n",
            "Requirement already satisfied: scipy>=0.17.0 in /usr/local/lib/python3.7/dist-packages (from scikit-learn->PBC4cip) (1.4.1)\n",
            "Installing collected packages: PBC4cip\n",
            "Successfully installed PBC4cip-0.0.0.8\n"
          ]
        }
      ]
    },
    {
      "cell_type": "code",
      "metadata": {
        "id": "EkvX91Og53-2"
      },
      "source": [
        "import pandas as pd\n",
        "import numpy as np\n",
        "\n",
        "#Feature Selection\n",
        "from sklearn.feature_selection import SelectKBest, chi2\n",
        "\n",
        "# Modify PBC4cip implementation\n",
        "from PBC4cip.core.PBC4cip import PBC4cip\n",
        "from PBC4cip.core.Dataset import Dataset, FileDataset, PandasDataset\n",
        "from PBC4cip.core.DecisionTreeBuilder import DecisionTreeBuilder, MultivariateDecisionTreeBuilder\n",
        "from PBC4cip.core.PatternMiner import PatternMinerWithoutFiltering\n",
        "from PBC4cip.core.DistributionEvaluatorHelper import get_distribution_evaluator\n",
        "# Child for DecisionTreeBuilder\n",
        "from PBC4cip.core.DecisionTreeBuilder import DecisionTreeBuilder\n",
        "from PBC4cip.core.Helpers import combine_instances, ArgMax\n",
        "from PBC4cip.core.DistributionTester import PureNodeStopCondition\n",
        "from PBC4cip.core.SplitIterator import SplitIteratorProvider"
      ],
      "execution_count": null,
      "outputs": []
    },
    {
      "cell_type": "markdown",
      "metadata": {
        "id": "i05n1ilqId-z"
      },
      "source": [
        "## PBC4cip"
      ]
    },
    {
      "cell_type": "code",
      "metadata": {
        "id": "ZQ8RAFQSIcou"
      },
      "source": [
        "# New child class from DecisionTreeBuilder\n",
        "class DTB(DecisionTreeBuilder):\n",
        "    # Adds max_depth and min_obj_leaf to constructor\n",
        "    def __init__(self, dataset, X, y, max_depth=-1, min_obj_leaf=2):\n",
        "        self.__MinimalInstanceMembership = 0.05\n",
        "        self.__MinimalSplitGain = 1e-30\n",
        "        # Min Leaf\n",
        "        self.__MinimalObjByLeaf = min_obj_leaf\n",
        "        # Max depth\n",
        "        self.__MaxDepth = max_depth\n",
        "        self.__PruneResult = False\n",
        "        self.__Dataset = dataset\n",
        "        self.__trainInstances = combine_instances(X, y)\n",
        "        self.__FeatureCount = 0\n",
        "        self.__StopCondition = PureNodeStopCondition\n",
        "        self.__distributionEvaluator = None\n",
        "        self.__OnSelectingFeaturesToConsider = None\n",
        "        self.__SplitIteratorProvider = SplitIteratorProvider(self.Dataset)\n",
        "    \n",
        "    @property\n",
        "    def Dataset(self):\n",
        "        return self.__Dataset\n",
        "    @Dataset.setter\n",
        "    def Dataset(self, new_dataset):\n",
        "        self.__Dataset = new_dataset\n",
        "    \n",
        "    @property\n",
        "    def MinimalObjByLeaf(self):\n",
        "        return self.__MinimalObjByLeaf\n",
        "    @MinimalObjByLeaf.setter\n",
        "    def MinimalObjByLeaf(self, new_MinimalObjByLeaf):\n",
        "        self.__MinimalObjByLeaf = new_MinimalObjByLeaf\n",
        "    \n",
        "    @property\n",
        "    def MinimalInstanceMembership(self):\n",
        "        return self.__MinimalInstanceMembership\n",
        "    \n",
        "    @property\n",
        "    def StopCondition(self):\n",
        "        return self.__StopCondition\n",
        "    \n",
        "    @property\n",
        "    def SplitIteratorProvider(self):\n",
        "        return self.__SplitIteratorProvider\n",
        "    \n",
        "    @property\n",
        "    def FeatureCount(self):\n",
        "        return self.__FeatureCount\n",
        "    @FeatureCount.setter\n",
        "    def FeatureCount(self, new_feature_count):\n",
        "        self.__FeatureCount = new_feature_count\n",
        "    \n",
        "    @property\n",
        "    def MaxDepth(self):\n",
        "        return self.__MaxDepth\n",
        "    @MaxDepth.setter\n",
        "    def MaxDepth(self, new_MaxDepth):\n",
        "        self.__MaxDepth = new_MaxDepth\n",
        "    \n",
        "    @property\n",
        "    def distributionEvaluator(self):\n",
        "        return self.__distributionEvaluator\n",
        "\n",
        "    @distributionEvaluator.setter\n",
        "    def distributionEvaluator(self, new_distributionEvaluator):\n",
        "        self.__distributionEvaluator = new_distributionEvaluator\n",
        "    \n",
        "    @property\n",
        "    def MinimalSplitGain(self):\n",
        "        return self.__MinimalSplitGain\n",
        "    @MinimalSplitGain.setter\n",
        "    def MinimalSplitGain(self, new_minimal_split_gain):\n",
        "        self.__MinimalSplitGain = new_minimal_split_gain\n",
        "    \n",
        "    @property\n",
        "    def trainInstances(self):\n",
        "        return self.__trainInstances\n",
        "    @trainInstances.setter\n",
        "    def trainInstances(self, new_train_instances):\n",
        "        self.__trainInstances = new_train_instances\n",
        "    \n",
        "    def __FillNode(self, node, instanceTuples, level, currentContext):\n",
        "        #print(f\"nodeData: {node.Data}\")\n",
        "        if self.StopCondition(node.Data, self.Dataset.Model, self.Dataset.Class):\n",
        "            return\n",
        "        if self.MaxDepth >= 0 and (level >= self.MaxDepth - 1):\n",
        "            return\n",
        "        if sum(node.Data) <= self.MinimalObjByLeaf:\n",
        "            return\n",
        "        \n",
        "        whichBetterToFind = 1\n",
        "        winningSplitSelector = WinningSplitSelector(whichBetterToFind)\n",
        "        attr = self.Dataset.Attributes\n",
        "        \n",
        "        sampleFeatures = self.OnSelectingFeaturesToConsider(\n",
        "            list(map(lambda attribute: attribute[0], attr)), self.FeatureCount)\n",
        "        if isinstance(self.distributionEvaluator, types.FunctionType):\n",
        "            for feature in sampleFeatures:\n",
        "                if feature != self.Dataset.Class[0]:\n",
        "                    splitIterator = self.SplitIteratorProvider.GetSplitIterator(feature)\n",
        "                    splitIterator.Initialize(instanceTuples)\n",
        "                    while splitIterator.FindNext():\n",
        "                        currentGain = self.distributionEvaluator(\n",
        "                            node.Data, splitIterator.CurrentDistribution)\n",
        "                        if currentGain >= self.MinimalSplitGain:\n",
        "                            winningSplitSelector.EvaluateThis(\n",
        "                                currentGain, splitIterator)\n",
        "\n",
        "        else:\n",
        "            for feature in sampleFeatures:\n",
        "                if feature != self.Dataset.Class[0]:\n",
        "                    splitIterator = self.SplitIteratorProvider.GetSplitIterator(feature)\n",
        "                    splitIterator.Initialize(instanceTuples)\n",
        "                    while splitIterator.FindNext():\n",
        "                        self.distributionEvaluator.add_candidate_splits(node.Data, splitIterator.CurrentDistribution)\n",
        "\n",
        "            winning_split_index = self.distributionEvaluator.get_best_split_idx()\n",
        "            idx = 0\n",
        "            for feature in sampleFeatures:\n",
        "                if feature != self.Dataset.Class[0]:\n",
        "                    splitIterator = self.SplitIteratorProvider.GetSplitIterator(feature)\n",
        "                    splitIterator.Initialize(instanceTuples)\n",
        "                    while splitIterator.FindNext():\n",
        "                        if idx == winning_split_index:\n",
        "                            winningSplitSelector.List = list(tuple())\n",
        "                            winningSplitSelector.EvaluateThis(None, splitIterator)\n",
        "                        idx = idx + 1\n",
        "                \n",
        "        if winningSplitSelector.IsWinner():\n",
        "            maxSelector = winningSplitSelector.WinningSelector\n",
        "            node.ChildSelector = maxSelector\n",
        "            node.Children = list()\n",
        "            instancesPerChildNode = CreateChildrenInstances(\n",
        "                instanceTuples, maxSelector, self.MinimalInstanceMembership)\n",
        "\n",
        "            for index in range(maxSelector.ChildrenCount):\n",
        "                childNode = DecisionTreeNode(winningSplitSelector.WinningDistribution[index])\n",
        "                childNode.Parent = node\n",
        "                node.Children.append(childNode)\n",
        "\n",
        "                self.__FillNode(\n",
        "                    childNode, instancesPerChildNode[index], level + 1, currentContext)\n",
        "\n",
        "        return"
      ],
      "execution_count": null,
      "outputs": []
    },
    {
      "cell_type": "code",
      "metadata": {
        "id": "BD_NBnHxIe9s"
      },
      "source": [
        "# Apply new class DTB in new PBC4cip\n",
        "class NewPBC4cip(PBC4cip):\n",
        "    def __init__(self, tree_count=100, distribution_evaluator='quinlan gain', file_dataset = None, max_depth=-1, min_obj_leaf=2):\n",
        "        self.File = None\n",
        "        self.__miner = None\n",
        "        self.__treeCount = tree_count\n",
        "        if file_dataset is not None:\n",
        "            self.__dataset = FileDataset(file_dataset)\n",
        "        else:\n",
        "            self.__dataset = None\n",
        "        self.__EmergingPatterns = list()\n",
        "        self.__class_nominal_feature = None\n",
        "        self.__normalizing_vector = None\n",
        "        self.__distribution_evaluator = get_distribution_evaluator(distribution_evaluator)\n",
        "        self.__votesSum = None\n",
        "        self.__classDistribution = None\n",
        "        self.__max_depth = max_depth\n",
        "        self.__min_obj_leaf = min_obj_leaf\n",
        "    \n",
        "    @property\n",
        "    def max_depth(self):\n",
        "        return self.__max_depth\n",
        "\n",
        "    @max_depth.setter\n",
        "    def max_depth(self, new_maxdepth):\n",
        "        self.__max_depth = new_maxdepth\n",
        "    \n",
        "    @property\n",
        "    def min_obj_leaf(self):\n",
        "        return self.__min_obj_leaf\n",
        "\n",
        "    @min_obj_leaf.setter\n",
        "    def min_obj_leaf(self, new_min_obj_leaf):\n",
        "        self.__min_obj_leaf = new_min_obj_leaf\n",
        "    \n",
        "    @property\n",
        "    def dataset(self):\n",
        "        return self.__dataset\n",
        "\n",
        "    @dataset.setter\n",
        "    def dataset(self, new_dataset):\n",
        "        self.__dataset = new_dataset\n",
        "    \n",
        "    @property\n",
        "    def miner(self):\n",
        "        return self.__miner\n",
        "\n",
        "    @miner.setter\n",
        "    def miner(self, new_miner):\n",
        "        self.__miner = new_miner\n",
        "        \n",
        "    @property\n",
        "    def treeCount(self):\n",
        "        return self.__treeCount\n",
        "\n",
        "    @treeCount.setter\n",
        "    def treeCount(self, new_treeCount):\n",
        "        self.__treeCount = new_treeCount\n",
        "    \n",
        "    @property\n",
        "    def distribution_evaluator(self):\n",
        "        return self.__distribution_evaluator\n",
        "\n",
        "    @distribution_evaluator.setter\n",
        "    def distribution_evaluator(self, new_distribution_evaluator):\n",
        "        self.__distribution_evaluator = new_distribution_evaluator\n",
        "    \n",
        "    # Replace DecisionTreeBuilder with DTB\n",
        "    def fit(self, X, y):\n",
        "        if not isinstance(self.dataset, FileDataset):\n",
        "            self.dataset = PandasDataset(X,y)\n",
        "            X = X.to_numpy()\n",
        "            y = y.to_numpy()\n",
        "            if  not isinstance(y[0], np.ndarray):\n",
        "                y = convert_to_ndarray(y)    \n",
        "\n",
        "        self.miner = PatternMinerWithoutFiltering()\n",
        "        miner = self.miner\n",
        "        miner.dataset = self.dataset\n",
        "        miner.TreeCount = self.treeCount\n",
        "        # Adds extra parameters\n",
        "        miner.decisionTreeBuilder = DTB(self.dataset, X, y, self.max_depth, self.min_obj_leaf)\n",
        "        miner.decisionTreeBuilder.distributionEvaluator = self.distribution_evaluator\n",
        "        self.EmergingPatterns = miner.Mine()\n",
        "        self.__ComputeVotes(X, y, self.dataset.Class[1])\n",
        "        return self.EmergingPatterns\n",
        "    \n",
        "    def __predict_inst(self, instance):\n",
        "        votes = [0]*len(self._class_nominal_feature)\n",
        "\n",
        "        for pattern in self.EmergingPatterns:\n",
        "            if pattern.IsMatch(instance):\n",
        "                for i in range(len(votes)):\n",
        "                    votes[i] += pattern.Supports[i]\n",
        "\n",
        "        result = [0]*(len(votes)) \n",
        "        for i,_ in enumerate(votes):\n",
        "            try:\n",
        "                result[i] = votes[i] * \\\n",
        "                    self._normalizing_vector[i] / self.__votesSum[i]\n",
        "            except ZeroDivisionError:\n",
        "                result[i] = 0\n",
        "\n",
        "        if sum(result) > 0:\n",
        "            return result\n",
        "        else:\n",
        "            return self.__classDistribution\n",
        "    \n",
        "    def predict(self, X):\n",
        "        scored_samples = self.score_samples(X)  \n",
        "        predicted = [ArgMax(instance) for instance in scored_samples]\n",
        "        return predicted\n",
        "    \n",
        "    def score_samples(self, X):\n",
        "        if isinstance(self.dataset, PandasDataset):\n",
        "            X = X.to_numpy()\n",
        "\n",
        "        classification_results = list()\n",
        "        for instance in tqdm(X, desc=f\"Classifying instances\", unit=\"instance\", leave=False):\n",
        "            result = self.__predict_inst(instance)\n",
        "            classification_results.append(result)\n",
        "\n",
        "        return classification_results\n",
        "\n",
        "    \n",
        "    def __ComputeVotes(self, X, y, classes):\n",
        "        self._class_nominal_feature = classes\n",
        "        instancesByClass = self.__GroupInstancesByClass(\n",
        "            X, y, classes)\n",
        "        self._normalizing_vector = self.__ComputeNormalizingVector(\n",
        "            instancesByClass, len(y))\n",
        "        self.__classDistribution = self.__ComputeClassDistribution(\n",
        "            instancesByClass,  len(y))\n",
        "\n",
        "        self.__votesSum = [0]*len(classes)\n",
        "        for pattern in self.EmergingPatterns:\n",
        "            for i,_ in enumerate(classes):\n",
        "                self.__votesSum[i] += pattern.Supports[i]\n",
        "\n",
        "    def __GroupInstancesByClass(self, X, y, classes):\n",
        "        instancesByClass = list()\n",
        "\n",
        "        for _ in enumerate(classes):\n",
        "            instancesByClass.append(list())\n",
        "\n",
        "        for i,instance in enumerate(y):\n",
        "            instancesByClass[self.dataset.GetClassValue(instance)].append(X[i])\n",
        "\n",
        "        return instancesByClass\n",
        "\n",
        "    def __ComputeNormalizingVector(self, instancesByClass, instanceCount):\n",
        "        vectorSum = 0\n",
        "        normalizingVector = [0]*len(instancesByClass)\n",
        "\n",
        "        for i, _ in enumerate(instancesByClass):\n",
        "            try:\n",
        "                normalizingVector[i] = 1.0 - 1.0 * \\\n",
        "                    len(instancesByClass[i]) / \\\n",
        "                    instanceCount\n",
        "            except ZeroDivisionError:\n",
        "                normalizingVector[i] = 0\n",
        "            vectorSum += normalizingVector[i]\n",
        "\n",
        "        for i, _ in enumerate(normalizingVector):\n",
        "            try:\n",
        "                normalizingVector[i] /= vectorSum\n",
        "            except ZeroDivisionError:\n",
        "                normalizingVector[i] = 0\n",
        "\n",
        "        return normalizingVector\n",
        "\n",
        "    def __ComputeClassDistribution(self, instancesByClass, instanceCount):\n",
        "        classDistribution = [0]*len(instancesByClass)\n",
        "        for i, _ in enumerate(instancesByClass):\n",
        "            try:\n",
        "                classDistribution[i] = 1.0 * \\\n",
        "                    len(instancesByClass[i]) / \\\n",
        "                    instanceCount\n",
        "            except ZeroDivisionError:\n",
        "                classDistribution[i] = 0\n",
        "\n",
        "        return classDistribution"
      ],
      "execution_count": null,
      "outputs": []
    },
    {
      "cell_type": "markdown",
      "metadata": {
        "id": "zmAdREciIq0C"
      },
      "source": [
        "## Dataset"
      ]
    },
    {
      "cell_type": "code",
      "metadata": {
        "colab": {
          "base_uri": "https://localhost:8080/",
          "height": 244
        },
        "id": "zNzLawF657hG",
        "outputId": "89c4f0f5-d7e2-489a-d96d-b2851fc903c8"
      },
      "source": [
        "url = 'https://archive.ics.uci.edu/ml/machine-learning-databases/flags/flag.data'\n",
        "#url = 'flag.data'\n",
        "col_names = ['name','landmass','zone','area','population','language','religion','bars','stripes','colours','red','green','blue','gold','white','black','orange','mainhue','circles','crosses','saltires','quarters','sunstars','crescent','triangle','icon','animate','text','topleft','botright']\n",
        "df = pd.read_csv(url, names = col_names)\n",
        "df.head()"
      ],
      "execution_count": null,
      "outputs": [
        {
          "output_type": "execute_result",
          "data": {
            "text/html": [
              "<div>\n",
              "<style scoped>\n",
              "    .dataframe tbody tr th:only-of-type {\n",
              "        vertical-align: middle;\n",
              "    }\n",
              "\n",
              "    .dataframe tbody tr th {\n",
              "        vertical-align: top;\n",
              "    }\n",
              "\n",
              "    .dataframe thead th {\n",
              "        text-align: right;\n",
              "    }\n",
              "</style>\n",
              "<table border=\"1\" class=\"dataframe\">\n",
              "  <thead>\n",
              "    <tr style=\"text-align: right;\">\n",
              "      <th></th>\n",
              "      <th>name</th>\n",
              "      <th>landmass</th>\n",
              "      <th>zone</th>\n",
              "      <th>area</th>\n",
              "      <th>population</th>\n",
              "      <th>language</th>\n",
              "      <th>religion</th>\n",
              "      <th>bars</th>\n",
              "      <th>stripes</th>\n",
              "      <th>colours</th>\n",
              "      <th>red</th>\n",
              "      <th>green</th>\n",
              "      <th>blue</th>\n",
              "      <th>gold</th>\n",
              "      <th>white</th>\n",
              "      <th>black</th>\n",
              "      <th>orange</th>\n",
              "      <th>mainhue</th>\n",
              "      <th>circles</th>\n",
              "      <th>crosses</th>\n",
              "      <th>saltires</th>\n",
              "      <th>quarters</th>\n",
              "      <th>sunstars</th>\n",
              "      <th>crescent</th>\n",
              "      <th>triangle</th>\n",
              "      <th>icon</th>\n",
              "      <th>animate</th>\n",
              "      <th>text</th>\n",
              "      <th>topleft</th>\n",
              "      <th>botright</th>\n",
              "    </tr>\n",
              "  </thead>\n",
              "  <tbody>\n",
              "    <tr>\n",
              "      <th>0</th>\n",
              "      <td>Afghanistan</td>\n",
              "      <td>5</td>\n",
              "      <td>1</td>\n",
              "      <td>648</td>\n",
              "      <td>16</td>\n",
              "      <td>10</td>\n",
              "      <td>2</td>\n",
              "      <td>0</td>\n",
              "      <td>3</td>\n",
              "      <td>5</td>\n",
              "      <td>1</td>\n",
              "      <td>1</td>\n",
              "      <td>0</td>\n",
              "      <td>1</td>\n",
              "      <td>1</td>\n",
              "      <td>1</td>\n",
              "      <td>0</td>\n",
              "      <td>green</td>\n",
              "      <td>0</td>\n",
              "      <td>0</td>\n",
              "      <td>0</td>\n",
              "      <td>0</td>\n",
              "      <td>1</td>\n",
              "      <td>0</td>\n",
              "      <td>0</td>\n",
              "      <td>1</td>\n",
              "      <td>0</td>\n",
              "      <td>0</td>\n",
              "      <td>black</td>\n",
              "      <td>green</td>\n",
              "    </tr>\n",
              "    <tr>\n",
              "      <th>1</th>\n",
              "      <td>Albania</td>\n",
              "      <td>3</td>\n",
              "      <td>1</td>\n",
              "      <td>29</td>\n",
              "      <td>3</td>\n",
              "      <td>6</td>\n",
              "      <td>6</td>\n",
              "      <td>0</td>\n",
              "      <td>0</td>\n",
              "      <td>3</td>\n",
              "      <td>1</td>\n",
              "      <td>0</td>\n",
              "      <td>0</td>\n",
              "      <td>1</td>\n",
              "      <td>0</td>\n",
              "      <td>1</td>\n",
              "      <td>0</td>\n",
              "      <td>red</td>\n",
              "      <td>0</td>\n",
              "      <td>0</td>\n",
              "      <td>0</td>\n",
              "      <td>0</td>\n",
              "      <td>1</td>\n",
              "      <td>0</td>\n",
              "      <td>0</td>\n",
              "      <td>0</td>\n",
              "      <td>1</td>\n",
              "      <td>0</td>\n",
              "      <td>red</td>\n",
              "      <td>red</td>\n",
              "    </tr>\n",
              "    <tr>\n",
              "      <th>2</th>\n",
              "      <td>Algeria</td>\n",
              "      <td>4</td>\n",
              "      <td>1</td>\n",
              "      <td>2388</td>\n",
              "      <td>20</td>\n",
              "      <td>8</td>\n",
              "      <td>2</td>\n",
              "      <td>2</td>\n",
              "      <td>0</td>\n",
              "      <td>3</td>\n",
              "      <td>1</td>\n",
              "      <td>1</td>\n",
              "      <td>0</td>\n",
              "      <td>0</td>\n",
              "      <td>1</td>\n",
              "      <td>0</td>\n",
              "      <td>0</td>\n",
              "      <td>green</td>\n",
              "      <td>0</td>\n",
              "      <td>0</td>\n",
              "      <td>0</td>\n",
              "      <td>0</td>\n",
              "      <td>1</td>\n",
              "      <td>1</td>\n",
              "      <td>0</td>\n",
              "      <td>0</td>\n",
              "      <td>0</td>\n",
              "      <td>0</td>\n",
              "      <td>green</td>\n",
              "      <td>white</td>\n",
              "    </tr>\n",
              "    <tr>\n",
              "      <th>3</th>\n",
              "      <td>American-Samoa</td>\n",
              "      <td>6</td>\n",
              "      <td>3</td>\n",
              "      <td>0</td>\n",
              "      <td>0</td>\n",
              "      <td>1</td>\n",
              "      <td>1</td>\n",
              "      <td>0</td>\n",
              "      <td>0</td>\n",
              "      <td>5</td>\n",
              "      <td>1</td>\n",
              "      <td>0</td>\n",
              "      <td>1</td>\n",
              "      <td>1</td>\n",
              "      <td>1</td>\n",
              "      <td>0</td>\n",
              "      <td>1</td>\n",
              "      <td>blue</td>\n",
              "      <td>0</td>\n",
              "      <td>0</td>\n",
              "      <td>0</td>\n",
              "      <td>0</td>\n",
              "      <td>0</td>\n",
              "      <td>0</td>\n",
              "      <td>1</td>\n",
              "      <td>1</td>\n",
              "      <td>1</td>\n",
              "      <td>0</td>\n",
              "      <td>blue</td>\n",
              "      <td>red</td>\n",
              "    </tr>\n",
              "    <tr>\n",
              "      <th>4</th>\n",
              "      <td>Andorra</td>\n",
              "      <td>3</td>\n",
              "      <td>1</td>\n",
              "      <td>0</td>\n",
              "      <td>0</td>\n",
              "      <td>6</td>\n",
              "      <td>0</td>\n",
              "      <td>3</td>\n",
              "      <td>0</td>\n",
              "      <td>3</td>\n",
              "      <td>1</td>\n",
              "      <td>0</td>\n",
              "      <td>1</td>\n",
              "      <td>1</td>\n",
              "      <td>0</td>\n",
              "      <td>0</td>\n",
              "      <td>0</td>\n",
              "      <td>gold</td>\n",
              "      <td>0</td>\n",
              "      <td>0</td>\n",
              "      <td>0</td>\n",
              "      <td>0</td>\n",
              "      <td>0</td>\n",
              "      <td>0</td>\n",
              "      <td>0</td>\n",
              "      <td>0</td>\n",
              "      <td>0</td>\n",
              "      <td>0</td>\n",
              "      <td>blue</td>\n",
              "      <td>red</td>\n",
              "    </tr>\n",
              "  </tbody>\n",
              "</table>\n",
              "</div>"
            ],
            "text/plain": [
              "             name  landmass  zone  area  ...  animate  text  topleft  botright\n",
              "0     Afghanistan         5     1   648  ...        0     0    black     green\n",
              "1         Albania         3     1    29  ...        1     0      red       red\n",
              "2         Algeria         4     1  2388  ...        0     0    green     white\n",
              "3  American-Samoa         6     3     0  ...        1     0     blue       red\n",
              "4         Andorra         3     1     0  ...        0     0     blue       red\n",
              "\n",
              "[5 rows x 30 columns]"
            ]
          },
          "metadata": {},
          "execution_count": 5
        }
      ]
    },
    {
      "cell_type": "code",
      "metadata": {
        "colab": {
          "base_uri": "https://localhost:8080/"
        },
        "id": "sr0CdOrp_LBq",
        "outputId": "81c63589-ea1f-4c9d-c9b8-f9d01f95d392"
      },
      "source": [
        "df.shape"
      ],
      "execution_count": null,
      "outputs": [
        {
          "output_type": "execute_result",
          "data": {
            "text/plain": [
              "(194, 30)"
            ]
          },
          "metadata": {},
          "execution_count": 6
        }
      ]
    },
    {
      "cell_type": "code",
      "metadata": {
        "id": "UkrojaZD3GV6"
      },
      "source": [
        "def extract_data(file_name, columns, item):\n",
        "    df = pd.read_csv(file_name, names = columns)\n",
        "    df = df.drop('name', axis=1)\n",
        "    #Obtain X and y\n",
        "    y = df[[item]]\n",
        "    X = df.drop(item, axis=1)\n",
        "    return X,y\n",
        "def extract_data(df, item):\n",
        "    df = df.drop('name', axis=1)\n",
        "    #Obtain X and y\n",
        "    y = df[[item]]\n",
        "    X = df.drop(item, axis=1)\n",
        "    return X,y"
      ],
      "execution_count": null,
      "outputs": []
    },
    {
      "cell_type": "markdown",
      "metadata": {
        "id": "3F3y33ys6jgc"
      },
      "source": [
        "## New attributes\n",
        "Justify and extract at least three new attributes from the existing columns."
      ]
    },
    {
      "cell_type": "code",
      "metadata": {
        "id": "SAGAUEM-BUsa"
      },
      "source": [
        "def categorical_quantile(dataframe, column):\n",
        "    \"\"\"\n",
        "        Encodes the column in form of quantile\n",
        "    \"\"\"\n",
        "    quant = dataframe[column].quantile([0.1,0.25,0.5,0.75])\n",
        "    quantile = quant.values\n",
        "    new_column = []\n",
        "    for val in dataframe[column]:\n",
        "        if val <= quantile[0]:\n",
        "            new_column.append(1)\n",
        "        elif val <= quantile[1]:\n",
        "            new_column.append(2)\n",
        "        elif val <= quantile[2]:\n",
        "            new_column.append(3)\n",
        "        elif val <= quantile[3]:\n",
        "            new_column.append(4)\n",
        "        else:\n",
        "            new_column.append(5)\n",
        "    return new_column"
      ],
      "execution_count": null,
      "outputs": []
    },
    {
      "cell_type": "code",
      "metadata": {
        "id": "HgeIuHC6pzMU"
      },
      "source": [
        "numerical_cols = ['area','population','bars','stripes','colours','circles','crosses','saltires','quarters','sunstars']\n",
        "for col in numerical_cols:\n",
        "  df['categorical_'+col] = categorical_quantile(df, col)\n",
        "\n",
        "df = df.drop(numerical_cols, axis=1)"
      ],
      "execution_count": null,
      "outputs": []
    },
    {
      "cell_type": "code",
      "metadata": {
        "colab": {
          "base_uri": "https://localhost:8080/",
          "height": 244
        },
        "id": "xQRA6EH-qKXE",
        "outputId": "8a266a0c-bd33-40fb-a5fe-32f906f7fb5d"
      },
      "source": [
        "df.head()"
      ],
      "execution_count": null,
      "outputs": [
        {
          "output_type": "execute_result",
          "data": {
            "text/html": [
              "<div>\n",
              "<style scoped>\n",
              "    .dataframe tbody tr th:only-of-type {\n",
              "        vertical-align: middle;\n",
              "    }\n",
              "\n",
              "    .dataframe tbody tr th {\n",
              "        vertical-align: top;\n",
              "    }\n",
              "\n",
              "    .dataframe thead th {\n",
              "        text-align: right;\n",
              "    }\n",
              "</style>\n",
              "<table border=\"1\" class=\"dataframe\">\n",
              "  <thead>\n",
              "    <tr style=\"text-align: right;\">\n",
              "      <th></th>\n",
              "      <th>name</th>\n",
              "      <th>landmass</th>\n",
              "      <th>zone</th>\n",
              "      <th>language</th>\n",
              "      <th>religion</th>\n",
              "      <th>red</th>\n",
              "      <th>green</th>\n",
              "      <th>blue</th>\n",
              "      <th>gold</th>\n",
              "      <th>white</th>\n",
              "      <th>black</th>\n",
              "      <th>orange</th>\n",
              "      <th>mainhue</th>\n",
              "      <th>crescent</th>\n",
              "      <th>triangle</th>\n",
              "      <th>icon</th>\n",
              "      <th>animate</th>\n",
              "      <th>text</th>\n",
              "      <th>topleft</th>\n",
              "      <th>botright</th>\n",
              "      <th>categorical_area</th>\n",
              "      <th>categorical_population</th>\n",
              "      <th>categorical_bars</th>\n",
              "      <th>categorical_stripes</th>\n",
              "      <th>categorical_colours</th>\n",
              "      <th>categorical_circles</th>\n",
              "      <th>categorical_crosses</th>\n",
              "      <th>categorical_saltires</th>\n",
              "      <th>categorical_quarters</th>\n",
              "      <th>categorical_sunstars</th>\n",
              "    </tr>\n",
              "  </thead>\n",
              "  <tbody>\n",
              "    <tr>\n",
              "      <th>0</th>\n",
              "      <td>Afghanistan</td>\n",
              "      <td>5</td>\n",
              "      <td>1</td>\n",
              "      <td>10</td>\n",
              "      <td>2</td>\n",
              "      <td>1</td>\n",
              "      <td>1</td>\n",
              "      <td>0</td>\n",
              "      <td>1</td>\n",
              "      <td>1</td>\n",
              "      <td>1</td>\n",
              "      <td>0</td>\n",
              "      <td>green</td>\n",
              "      <td>0</td>\n",
              "      <td>0</td>\n",
              "      <td>1</td>\n",
              "      <td>0</td>\n",
              "      <td>0</td>\n",
              "      <td>black</td>\n",
              "      <td>green</td>\n",
              "      <td>5</td>\n",
              "      <td>5</td>\n",
              "      <td>1</td>\n",
              "      <td>4</td>\n",
              "      <td>5</td>\n",
              "      <td>1</td>\n",
              "      <td>1</td>\n",
              "      <td>1</td>\n",
              "      <td>1</td>\n",
              "      <td>4</td>\n",
              "    </tr>\n",
              "    <tr>\n",
              "      <th>1</th>\n",
              "      <td>Albania</td>\n",
              "      <td>3</td>\n",
              "      <td>1</td>\n",
              "      <td>6</td>\n",
              "      <td>6</td>\n",
              "      <td>1</td>\n",
              "      <td>0</td>\n",
              "      <td>0</td>\n",
              "      <td>1</td>\n",
              "      <td>0</td>\n",
              "      <td>1</td>\n",
              "      <td>0</td>\n",
              "      <td>red</td>\n",
              "      <td>0</td>\n",
              "      <td>0</td>\n",
              "      <td>0</td>\n",
              "      <td>1</td>\n",
              "      <td>0</td>\n",
              "      <td>red</td>\n",
              "      <td>red</td>\n",
              "      <td>3</td>\n",
              "      <td>3</td>\n",
              "      <td>1</td>\n",
              "      <td>1</td>\n",
              "      <td>2</td>\n",
              "      <td>1</td>\n",
              "      <td>1</td>\n",
              "      <td>1</td>\n",
              "      <td>1</td>\n",
              "      <td>4</td>\n",
              "    </tr>\n",
              "    <tr>\n",
              "      <th>2</th>\n",
              "      <td>Algeria</td>\n",
              "      <td>4</td>\n",
              "      <td>1</td>\n",
              "      <td>8</td>\n",
              "      <td>2</td>\n",
              "      <td>1</td>\n",
              "      <td>1</td>\n",
              "      <td>0</td>\n",
              "      <td>0</td>\n",
              "      <td>1</td>\n",
              "      <td>0</td>\n",
              "      <td>0</td>\n",
              "      <td>green</td>\n",
              "      <td>1</td>\n",
              "      <td>0</td>\n",
              "      <td>0</td>\n",
              "      <td>0</td>\n",
              "      <td>0</td>\n",
              "      <td>green</td>\n",
              "      <td>white</td>\n",
              "      <td>5</td>\n",
              "      <td>5</td>\n",
              "      <td>5</td>\n",
              "      <td>1</td>\n",
              "      <td>2</td>\n",
              "      <td>1</td>\n",
              "      <td>1</td>\n",
              "      <td>1</td>\n",
              "      <td>1</td>\n",
              "      <td>4</td>\n",
              "    </tr>\n",
              "    <tr>\n",
              "      <th>3</th>\n",
              "      <td>American-Samoa</td>\n",
              "      <td>6</td>\n",
              "      <td>3</td>\n",
              "      <td>1</td>\n",
              "      <td>1</td>\n",
              "      <td>1</td>\n",
              "      <td>0</td>\n",
              "      <td>1</td>\n",
              "      <td>1</td>\n",
              "      <td>1</td>\n",
              "      <td>0</td>\n",
              "      <td>1</td>\n",
              "      <td>blue</td>\n",
              "      <td>0</td>\n",
              "      <td>1</td>\n",
              "      <td>1</td>\n",
              "      <td>1</td>\n",
              "      <td>0</td>\n",
              "      <td>blue</td>\n",
              "      <td>red</td>\n",
              "      <td>1</td>\n",
              "      <td>1</td>\n",
              "      <td>1</td>\n",
              "      <td>1</td>\n",
              "      <td>5</td>\n",
              "      <td>1</td>\n",
              "      <td>1</td>\n",
              "      <td>1</td>\n",
              "      <td>1</td>\n",
              "      <td>1</td>\n",
              "    </tr>\n",
              "    <tr>\n",
              "      <th>4</th>\n",
              "      <td>Andorra</td>\n",
              "      <td>3</td>\n",
              "      <td>1</td>\n",
              "      <td>6</td>\n",
              "      <td>0</td>\n",
              "      <td>1</td>\n",
              "      <td>0</td>\n",
              "      <td>1</td>\n",
              "      <td>1</td>\n",
              "      <td>0</td>\n",
              "      <td>0</td>\n",
              "      <td>0</td>\n",
              "      <td>gold</td>\n",
              "      <td>0</td>\n",
              "      <td>0</td>\n",
              "      <td>0</td>\n",
              "      <td>0</td>\n",
              "      <td>0</td>\n",
              "      <td>blue</td>\n",
              "      <td>red</td>\n",
              "      <td>1</td>\n",
              "      <td>1</td>\n",
              "      <td>5</td>\n",
              "      <td>1</td>\n",
              "      <td>2</td>\n",
              "      <td>1</td>\n",
              "      <td>1</td>\n",
              "      <td>1</td>\n",
              "      <td>1</td>\n",
              "      <td>1</td>\n",
              "    </tr>\n",
              "  </tbody>\n",
              "</table>\n",
              "</div>"
            ],
            "text/plain": [
              "             name  landmass  ...  categorical_quarters  categorical_sunstars\n",
              "0     Afghanistan         5  ...                     1                     4\n",
              "1         Albania         3  ...                     1                     4\n",
              "2         Algeria         4  ...                     1                     4\n",
              "3  American-Samoa         6  ...                     1                     1\n",
              "4         Andorra         3  ...                     1                     1\n",
              "\n",
              "[5 rows x 30 columns]"
            ]
          },
          "metadata": {},
          "execution_count": 10
        }
      ]
    },
    {
      "cell_type": "markdown",
      "metadata": {
        "id": "TYxq2PJr6ZaV"
      },
      "source": [
        "## Remove irrelevant attributes\n",
        "Identify and remove at least three irrelevant attributes."
      ]
    },
    {
      "cell_type": "code",
      "metadata": {
        "id": "uM62B2dnBVKy"
      },
      "source": [
        "def k_best_select(df, item, k=10):\n",
        "  X, y = extract_data(df, item)\n",
        "  #Change to object\n",
        "  y_new = y.copy()\n",
        "  y_new[item] = y_new[item].map({0:'negative',1:'positive'})\n",
        "  #Label encode string attributes so SelectKBest can handle them\n",
        "  X_cat = X.copy()\n",
        "  str_col = list(X_cat.select_dtypes(include=['object']).columns)\n",
        "  for col in str_col:\n",
        "    X_cat[col] = X_cat[col].astype('category').cat.codes.astype('int64')\n",
        "  # Create and fit selector\n",
        "  # Regarding chi square: https://towardsdatascience.com/chi-square-test-for-feature-selection-in-machine-learning-206b1f0b8223\n",
        "  selector = SelectKBest(score_func=chi2,k=k)\n",
        "  selector.fit(X_cat,y)\n",
        "  # Get columns to keep and create new dataframe with those only\n",
        "  cols = selector.get_support(indices=True)\n",
        "  X_new = X.iloc[:,cols]\n",
        "  return X_new,y_new"
      ],
      "execution_count": null,
      "outputs": []
    },
    {
      "cell_type": "code",
      "metadata": {
        "colab": {
          "base_uri": "https://localhost:8080/",
          "height": 206
        },
        "id": "R_fY2rWR3LRH",
        "outputId": "d58f8032-ee3a-43ed-cf93-c82e4b9f9871"
      },
      "source": [
        "#Example with <<blue>> as the target variable\n",
        "X,y = k_best_select(df.copy(), 'blue', k=15)\n",
        "X.head()"
      ],
      "execution_count": null,
      "outputs": [
        {
          "output_type": "execute_result",
          "data": {
            "text/html": [
              "<div>\n",
              "<style scoped>\n",
              "    .dataframe tbody tr th:only-of-type {\n",
              "        vertical-align: middle;\n",
              "    }\n",
              "\n",
              "    .dataframe tbody tr th {\n",
              "        vertical-align: top;\n",
              "    }\n",
              "\n",
              "    .dataframe thead th {\n",
              "        text-align: right;\n",
              "    }\n",
              "</style>\n",
              "<table border=\"1\" class=\"dataframe\">\n",
              "  <thead>\n",
              "    <tr style=\"text-align: right;\">\n",
              "      <th></th>\n",
              "      <th>zone</th>\n",
              "      <th>language</th>\n",
              "      <th>religion</th>\n",
              "      <th>green</th>\n",
              "      <th>black</th>\n",
              "      <th>mainhue</th>\n",
              "      <th>topleft</th>\n",
              "      <th>botright</th>\n",
              "      <th>categorical_area</th>\n",
              "      <th>categorical_population</th>\n",
              "      <th>categorical_bars</th>\n",
              "      <th>categorical_colours</th>\n",
              "      <th>categorical_crosses</th>\n",
              "      <th>categorical_saltires</th>\n",
              "      <th>categorical_quarters</th>\n",
              "    </tr>\n",
              "  </thead>\n",
              "  <tbody>\n",
              "    <tr>\n",
              "      <th>0</th>\n",
              "      <td>1</td>\n",
              "      <td>10</td>\n",
              "      <td>2</td>\n",
              "      <td>1</td>\n",
              "      <td>1</td>\n",
              "      <td>green</td>\n",
              "      <td>black</td>\n",
              "      <td>green</td>\n",
              "      <td>5</td>\n",
              "      <td>5</td>\n",
              "      <td>1</td>\n",
              "      <td>5</td>\n",
              "      <td>1</td>\n",
              "      <td>1</td>\n",
              "      <td>1</td>\n",
              "    </tr>\n",
              "    <tr>\n",
              "      <th>1</th>\n",
              "      <td>1</td>\n",
              "      <td>6</td>\n",
              "      <td>6</td>\n",
              "      <td>0</td>\n",
              "      <td>1</td>\n",
              "      <td>red</td>\n",
              "      <td>red</td>\n",
              "      <td>red</td>\n",
              "      <td>3</td>\n",
              "      <td>3</td>\n",
              "      <td>1</td>\n",
              "      <td>2</td>\n",
              "      <td>1</td>\n",
              "      <td>1</td>\n",
              "      <td>1</td>\n",
              "    </tr>\n",
              "    <tr>\n",
              "      <th>2</th>\n",
              "      <td>1</td>\n",
              "      <td>8</td>\n",
              "      <td>2</td>\n",
              "      <td>1</td>\n",
              "      <td>0</td>\n",
              "      <td>green</td>\n",
              "      <td>green</td>\n",
              "      <td>white</td>\n",
              "      <td>5</td>\n",
              "      <td>5</td>\n",
              "      <td>5</td>\n",
              "      <td>2</td>\n",
              "      <td>1</td>\n",
              "      <td>1</td>\n",
              "      <td>1</td>\n",
              "    </tr>\n",
              "    <tr>\n",
              "      <th>3</th>\n",
              "      <td>3</td>\n",
              "      <td>1</td>\n",
              "      <td>1</td>\n",
              "      <td>0</td>\n",
              "      <td>0</td>\n",
              "      <td>blue</td>\n",
              "      <td>blue</td>\n",
              "      <td>red</td>\n",
              "      <td>1</td>\n",
              "      <td>1</td>\n",
              "      <td>1</td>\n",
              "      <td>5</td>\n",
              "      <td>1</td>\n",
              "      <td>1</td>\n",
              "      <td>1</td>\n",
              "    </tr>\n",
              "    <tr>\n",
              "      <th>4</th>\n",
              "      <td>1</td>\n",
              "      <td>6</td>\n",
              "      <td>0</td>\n",
              "      <td>0</td>\n",
              "      <td>0</td>\n",
              "      <td>gold</td>\n",
              "      <td>blue</td>\n",
              "      <td>red</td>\n",
              "      <td>1</td>\n",
              "      <td>1</td>\n",
              "      <td>5</td>\n",
              "      <td>2</td>\n",
              "      <td>1</td>\n",
              "      <td>1</td>\n",
              "      <td>1</td>\n",
              "    </tr>\n",
              "  </tbody>\n",
              "</table>\n",
              "</div>"
            ],
            "text/plain": [
              "   zone  language  ...  categorical_saltires  categorical_quarters\n",
              "0     1        10  ...                     1                     1\n",
              "1     1         6  ...                     1                     1\n",
              "2     1         8  ...                     1                     1\n",
              "3     3         1  ...                     1                     1\n",
              "4     1         6  ...                     1                     1\n",
              "\n",
              "[5 rows x 15 columns]"
            ]
          },
          "metadata": {},
          "execution_count": 12
        }
      ]
    },
    {
      "cell_type": "code",
      "metadata": {
        "colab": {
          "base_uri": "https://localhost:8080/",
          "height": 424
        },
        "id": "4WW3raS0ulNk",
        "outputId": "49882904-85ad-4e89-a96d-02e45a27122e"
      },
      "source": [
        "y"
      ],
      "execution_count": null,
      "outputs": [
        {
          "output_type": "execute_result",
          "data": {
            "text/html": [
              "<div>\n",
              "<style scoped>\n",
              "    .dataframe tbody tr th:only-of-type {\n",
              "        vertical-align: middle;\n",
              "    }\n",
              "\n",
              "    .dataframe tbody tr th {\n",
              "        vertical-align: top;\n",
              "    }\n",
              "\n",
              "    .dataframe thead th {\n",
              "        text-align: right;\n",
              "    }\n",
              "</style>\n",
              "<table border=\"1\" class=\"dataframe\">\n",
              "  <thead>\n",
              "    <tr style=\"text-align: right;\">\n",
              "      <th></th>\n",
              "      <th>blue</th>\n",
              "    </tr>\n",
              "  </thead>\n",
              "  <tbody>\n",
              "    <tr>\n",
              "      <th>0</th>\n",
              "      <td>negative</td>\n",
              "    </tr>\n",
              "    <tr>\n",
              "      <th>1</th>\n",
              "      <td>negative</td>\n",
              "    </tr>\n",
              "    <tr>\n",
              "      <th>2</th>\n",
              "      <td>negative</td>\n",
              "    </tr>\n",
              "    <tr>\n",
              "      <th>3</th>\n",
              "      <td>positive</td>\n",
              "    </tr>\n",
              "    <tr>\n",
              "      <th>4</th>\n",
              "      <td>positive</td>\n",
              "    </tr>\n",
              "    <tr>\n",
              "      <th>...</th>\n",
              "      <td>...</td>\n",
              "    </tr>\n",
              "    <tr>\n",
              "      <th>189</th>\n",
              "      <td>positive</td>\n",
              "    </tr>\n",
              "    <tr>\n",
              "      <th>190</th>\n",
              "      <td>positive</td>\n",
              "    </tr>\n",
              "    <tr>\n",
              "      <th>191</th>\n",
              "      <td>negative</td>\n",
              "    </tr>\n",
              "    <tr>\n",
              "      <th>192</th>\n",
              "      <td>negative</td>\n",
              "    </tr>\n",
              "    <tr>\n",
              "      <th>193</th>\n",
              "      <td>negative</td>\n",
              "    </tr>\n",
              "  </tbody>\n",
              "</table>\n",
              "<p>194 rows × 1 columns</p>\n",
              "</div>"
            ],
            "text/plain": [
              "         blue\n",
              "0    negative\n",
              "1    negative\n",
              "2    negative\n",
              "3    positive\n",
              "4    positive\n",
              "..        ...\n",
              "189  positive\n",
              "190  positive\n",
              "191  negative\n",
              "192  negative\n",
              "193  negative\n",
              "\n",
              "[194 rows x 1 columns]"
            ]
          },
          "metadata": {},
          "execution_count": 13
        }
      ]
    },
    {
      "cell_type": "markdown",
      "metadata": {
        "id": "aa5hS6oc6vB9"
      },
      "source": [
        "## Extract patterns\n",
        "Extract patterns (at least four for each attribute) from at least four attributes with the following restrictions:\n",
        "\n",
        "\n",
        "*   s1 - s2 > 0.3 \n",
        "*   c1 - c2 > 30\n",
        "*   c1 / (c1+c2) > 0.6\n",
        "\n",
        "s1 is the support of the pattern in the target class.\n",
        "\n",
        "s2 is the support of the pattern in the complement of the target class.\n",
        "\n",
        "c1 is the number of objects that the pattern covers in the target class.\n",
        "\n",
        "c2 is the number of objects that the pattern covers in the complement of the target class."
      ]
    },
    {
      "cell_type": "code",
      "metadata": {
        "id": "EZvXc1A2KNzT"
      },
      "source": [
        "def handle_patterns(patterns,filename):\n",
        "    property_patterns=[]\n",
        "\n",
        "    for pattern in patterns:\n",
        "        '''\n",
        "        s1 - s2 > 0.3, c1 - c2 > 30, and c1 / (c1+c2) > 0.6.\n",
        "        '''\n",
        "        s_diff = abs(pattern.Supports[0]-pattern.Supports[1])\n",
        "        c1 = pattern.Counts[0]\n",
        "        c2 = pattern.Counts[1]\n",
        "        c_diff = abs(c1-c2)\n",
        "        try:\n",
        "          rule3 = c1/(c1+c2)\n",
        "        except ZeroDivisionError:\n",
        "          rule3 = 0\n",
        "        if s_diff > 0.3 and c_diff > 30 and rule3 > 0.6:\n",
        "            p = str(pattern).splitlines()\n",
        "            property_patterns.append([p[0],pattern.Counts[0],pattern.Counts[1],pattern.Supports[0],pattern.Supports[1],s_diff, c_diff, rule3])\n",
        "            \n",
        "    #Save Results in a csv\n",
        "    pd.DataFrame(property_patterns, columns=['pattern','p_count','n_count','p_support','n_support','supp_diff','count_diff','property3']).to_csv(filename)\n",
        "    \n",
        "    return property_patterns\n",
        "\n",
        "def save_PBC4cip_patterns(X,y, saved_name, tree_count=100, max_depth=-1, min_obj_leaf=2):\n",
        "    classifier = NewPBC4cip(tree_count=tree_count, max_depth=max_depth, min_obj_leaf=min_obj_leaf)\n",
        "    patterns = classifier.fit(X, y)\n",
        "\n",
        "    property_patterns = handle_patterns(patterns,saved_name)\n",
        "\n",
        "    print(f\"\\n numPatterns: {len(property_patterns)} of {len(patterns)}\")"
      ],
      "execution_count": null,
      "outputs": []
    },
    {
      "cell_type": "code",
      "metadata": {
        "colab": {
          "base_uri": "https://localhost:8080/"
        },
        "id": "zeAj8oIZLjzM",
        "outputId": "5c0ad056-c86a-4611-da1d-f78fb7f66133"
      },
      "source": [
        "#Example with <<blue>> as the target variable\n",
        "save_PBC4cip_patterns(X,y,'test.csv', tree_count=50)"
      ],
      "execution_count": null,
      "outputs": [
        {
          "output_type": "stream",
          "name": "stderr",
          "text": [
            "                                                                                         "
          ]
        },
        {
          "output_type": "stream",
          "name": "stdout",
          "text": [
            "\n",
            " numPatterns: 3 of 1995\n"
          ]
        },
        {
          "output_type": "stream",
          "name": "stderr",
          "text": [
            "\r"
          ]
        }
      ]
    },
    {
      "cell_type": "markdown",
      "metadata": {
        "id": "K6o6vXuLvFH8"
      },
      "source": [
        "#Four Attributes:\n",
        "Green, Gold, Black, Orange"
      ]
    },
    {
      "cell_type": "markdown",
      "metadata": {
        "id": "V95eiaqlOPOI"
      },
      "source": [
        "Change int categorical to string"
      ]
    },
    {
      "cell_type": "code",
      "metadata": {
        "id": "jXbaTyzfOSrt"
      },
      "source": [
        "variables = {'landmass': {1:'North America',2:'South America',3:'Europe',4:'Africa',5:'Asia',6:'Oceania'},\n",
        "             'zone':{1:'NE',2:'SE',3:'SW',4:'NW'},\n",
        "             'language':{1:'English',2:'Spanish',3:'French',4:'German',5:'Slavic',6:'Indo-European',7:'Chinese',8:'Arabic',9:'Jap/Turk/Fin/Magyar',10:'Other'},\n",
        "             'religion': {0:'Catholic',1:'Christian',2:'Muslim',3:'Buddhist',4:'Hindu',5:'Ethnic',5:'Marxist',7:'Other'}}\n",
        "binaries = ['red','green','blue','gold','white','black','orange','crescent','triangle','icon','animate','text']\n",
        "for var in binaries:\n",
        "  variables[var] = {0:'negative',1:'positive'}\n",
        "for col in numerical_cols:\n",
        "  variables['categorical_'+col] = {1:'Q1',2:'Q2',3:'Q3',4:'Q4',5:'Outlier'}"
      ],
      "execution_count": null,
      "outputs": []
    },
    {
      "cell_type": "code",
      "metadata": {
        "id": "EqgUgH61sqP2"
      },
      "source": [
        "def change_int_cat(dataframe, values):\n",
        "  df = dataframe.copy()\n",
        "  for item in list(df.columns):\n",
        "    val = values.get(item,None)\n",
        "    if val is not None:\n",
        "      df[item] = df[item].map(val)\n",
        "  return df"
      ],
      "execution_count": null,
      "outputs": []
    },
    {
      "cell_type": "code",
      "metadata": {
        "colab": {
          "base_uri": "https://localhost:8080/",
          "height": 278
        },
        "id": "6c5tzJw6txj0",
        "outputId": "04f3f551-cd58-434d-83aa-ebe5624e0e1a"
      },
      "source": [
        "cat_df = change_int_cat(df, variables)\n",
        "cat_df.head()"
      ],
      "execution_count": null,
      "outputs": [
        {
          "output_type": "execute_result",
          "data": {
            "text/html": [
              "<div>\n",
              "<style scoped>\n",
              "    .dataframe tbody tr th:only-of-type {\n",
              "        vertical-align: middle;\n",
              "    }\n",
              "\n",
              "    .dataframe tbody tr th {\n",
              "        vertical-align: top;\n",
              "    }\n",
              "\n",
              "    .dataframe thead th {\n",
              "        text-align: right;\n",
              "    }\n",
              "</style>\n",
              "<table border=\"1\" class=\"dataframe\">\n",
              "  <thead>\n",
              "    <tr style=\"text-align: right;\">\n",
              "      <th></th>\n",
              "      <th>name</th>\n",
              "      <th>landmass</th>\n",
              "      <th>zone</th>\n",
              "      <th>language</th>\n",
              "      <th>religion</th>\n",
              "      <th>red</th>\n",
              "      <th>green</th>\n",
              "      <th>blue</th>\n",
              "      <th>gold</th>\n",
              "      <th>white</th>\n",
              "      <th>black</th>\n",
              "      <th>orange</th>\n",
              "      <th>mainhue</th>\n",
              "      <th>crescent</th>\n",
              "      <th>triangle</th>\n",
              "      <th>icon</th>\n",
              "      <th>animate</th>\n",
              "      <th>text</th>\n",
              "      <th>topleft</th>\n",
              "      <th>botright</th>\n",
              "      <th>categorical_area</th>\n",
              "      <th>categorical_population</th>\n",
              "      <th>categorical_bars</th>\n",
              "      <th>categorical_stripes</th>\n",
              "      <th>categorical_colours</th>\n",
              "      <th>categorical_circles</th>\n",
              "      <th>categorical_crosses</th>\n",
              "      <th>categorical_saltires</th>\n",
              "      <th>categorical_quarters</th>\n",
              "      <th>categorical_sunstars</th>\n",
              "    </tr>\n",
              "  </thead>\n",
              "  <tbody>\n",
              "    <tr>\n",
              "      <th>0</th>\n",
              "      <td>Afghanistan</td>\n",
              "      <td>Asia</td>\n",
              "      <td>NE</td>\n",
              "      <td>Other</td>\n",
              "      <td>Muslim</td>\n",
              "      <td>positive</td>\n",
              "      <td>positive</td>\n",
              "      <td>negative</td>\n",
              "      <td>positive</td>\n",
              "      <td>positive</td>\n",
              "      <td>positive</td>\n",
              "      <td>negative</td>\n",
              "      <td>green</td>\n",
              "      <td>negative</td>\n",
              "      <td>negative</td>\n",
              "      <td>positive</td>\n",
              "      <td>negative</td>\n",
              "      <td>negative</td>\n",
              "      <td>black</td>\n",
              "      <td>green</td>\n",
              "      <td>Outlier</td>\n",
              "      <td>Outlier</td>\n",
              "      <td>Q1</td>\n",
              "      <td>Q4</td>\n",
              "      <td>Outlier</td>\n",
              "      <td>Q1</td>\n",
              "      <td>Q1</td>\n",
              "      <td>Q1</td>\n",
              "      <td>Q1</td>\n",
              "      <td>Q4</td>\n",
              "    </tr>\n",
              "    <tr>\n",
              "      <th>1</th>\n",
              "      <td>Albania</td>\n",
              "      <td>Europe</td>\n",
              "      <td>NE</td>\n",
              "      <td>Indo-European</td>\n",
              "      <td>NaN</td>\n",
              "      <td>positive</td>\n",
              "      <td>negative</td>\n",
              "      <td>negative</td>\n",
              "      <td>positive</td>\n",
              "      <td>negative</td>\n",
              "      <td>positive</td>\n",
              "      <td>negative</td>\n",
              "      <td>red</td>\n",
              "      <td>negative</td>\n",
              "      <td>negative</td>\n",
              "      <td>negative</td>\n",
              "      <td>positive</td>\n",
              "      <td>negative</td>\n",
              "      <td>red</td>\n",
              "      <td>red</td>\n",
              "      <td>Q3</td>\n",
              "      <td>Q3</td>\n",
              "      <td>Q1</td>\n",
              "      <td>Q1</td>\n",
              "      <td>Q2</td>\n",
              "      <td>Q1</td>\n",
              "      <td>Q1</td>\n",
              "      <td>Q1</td>\n",
              "      <td>Q1</td>\n",
              "      <td>Q4</td>\n",
              "    </tr>\n",
              "    <tr>\n",
              "      <th>2</th>\n",
              "      <td>Algeria</td>\n",
              "      <td>Africa</td>\n",
              "      <td>NE</td>\n",
              "      <td>Arabic</td>\n",
              "      <td>Muslim</td>\n",
              "      <td>positive</td>\n",
              "      <td>positive</td>\n",
              "      <td>negative</td>\n",
              "      <td>negative</td>\n",
              "      <td>positive</td>\n",
              "      <td>negative</td>\n",
              "      <td>negative</td>\n",
              "      <td>green</td>\n",
              "      <td>positive</td>\n",
              "      <td>negative</td>\n",
              "      <td>negative</td>\n",
              "      <td>negative</td>\n",
              "      <td>negative</td>\n",
              "      <td>green</td>\n",
              "      <td>white</td>\n",
              "      <td>Outlier</td>\n",
              "      <td>Outlier</td>\n",
              "      <td>Outlier</td>\n",
              "      <td>Q1</td>\n",
              "      <td>Q2</td>\n",
              "      <td>Q1</td>\n",
              "      <td>Q1</td>\n",
              "      <td>Q1</td>\n",
              "      <td>Q1</td>\n",
              "      <td>Q4</td>\n",
              "    </tr>\n",
              "    <tr>\n",
              "      <th>3</th>\n",
              "      <td>American-Samoa</td>\n",
              "      <td>Oceania</td>\n",
              "      <td>SW</td>\n",
              "      <td>English</td>\n",
              "      <td>Christian</td>\n",
              "      <td>positive</td>\n",
              "      <td>negative</td>\n",
              "      <td>positive</td>\n",
              "      <td>positive</td>\n",
              "      <td>positive</td>\n",
              "      <td>negative</td>\n",
              "      <td>positive</td>\n",
              "      <td>blue</td>\n",
              "      <td>negative</td>\n",
              "      <td>positive</td>\n",
              "      <td>positive</td>\n",
              "      <td>positive</td>\n",
              "      <td>negative</td>\n",
              "      <td>blue</td>\n",
              "      <td>red</td>\n",
              "      <td>Q1</td>\n",
              "      <td>Q1</td>\n",
              "      <td>Q1</td>\n",
              "      <td>Q1</td>\n",
              "      <td>Outlier</td>\n",
              "      <td>Q1</td>\n",
              "      <td>Q1</td>\n",
              "      <td>Q1</td>\n",
              "      <td>Q1</td>\n",
              "      <td>Q1</td>\n",
              "    </tr>\n",
              "    <tr>\n",
              "      <th>4</th>\n",
              "      <td>Andorra</td>\n",
              "      <td>Europe</td>\n",
              "      <td>NE</td>\n",
              "      <td>Indo-European</td>\n",
              "      <td>Catholic</td>\n",
              "      <td>positive</td>\n",
              "      <td>negative</td>\n",
              "      <td>positive</td>\n",
              "      <td>positive</td>\n",
              "      <td>negative</td>\n",
              "      <td>negative</td>\n",
              "      <td>negative</td>\n",
              "      <td>gold</td>\n",
              "      <td>negative</td>\n",
              "      <td>negative</td>\n",
              "      <td>negative</td>\n",
              "      <td>negative</td>\n",
              "      <td>negative</td>\n",
              "      <td>blue</td>\n",
              "      <td>red</td>\n",
              "      <td>Q1</td>\n",
              "      <td>Q1</td>\n",
              "      <td>Outlier</td>\n",
              "      <td>Q1</td>\n",
              "      <td>Q2</td>\n",
              "      <td>Q1</td>\n",
              "      <td>Q1</td>\n",
              "      <td>Q1</td>\n",
              "      <td>Q1</td>\n",
              "      <td>Q1</td>\n",
              "    </tr>\n",
              "  </tbody>\n",
              "</table>\n",
              "</div>"
            ],
            "text/plain": [
              "             name landmass  ... categorical_quarters categorical_sunstars\n",
              "0     Afghanistan     Asia  ...                   Q1                   Q4\n",
              "1         Albania   Europe  ...                   Q1                   Q4\n",
              "2         Algeria   Africa  ...                   Q1                   Q4\n",
              "3  American-Samoa  Oceania  ...                   Q1                   Q1\n",
              "4         Andorra   Europe  ...                   Q1                   Q1\n",
              "\n",
              "[5 rows x 30 columns]"
            ]
          },
          "metadata": {},
          "execution_count": 17
        }
      ]
    },
    {
      "cell_type": "code",
      "metadata": {
        "colab": {
          "base_uri": "https://localhost:8080/"
        },
        "id": "cIvDzIlzvoDr",
        "outputId": "d3156e6b-d82e-40bd-b24b-fef677847473"
      },
      "source": [
        "#Green\n",
        "X,y = k_best_select(df.copy(), 'green', k=15)\n",
        "print(list(X.columns))\n",
        "X_cat = change_int_cat(X, variables)\n",
        "save_PBC4cip_patterns(X_cat,y,'green.csv', tree_count=100)"
      ],
      "execution_count": null,
      "outputs": [
        {
          "output_type": "stream",
          "name": "stdout",
          "text": [
            "['religion', 'blue', 'gold', 'black', 'orange', 'icon', 'animate', 'text', 'topleft', 'categorical_bars', 'categorical_colours', 'categorical_circles', 'categorical_crosses', 'categorical_saltires', 'categorical_quarters']\n"
          ]
        },
        {
          "output_type": "stream",
          "name": "stderr",
          "text": [
            "                                                                                           "
          ]
        },
        {
          "output_type": "stream",
          "name": "stdout",
          "text": [
            "\n",
            " numPatterns: 21 of 3075\n"
          ]
        },
        {
          "output_type": "stream",
          "name": "stderr",
          "text": [
            "\r"
          ]
        }
      ]
    },
    {
      "cell_type": "code",
      "metadata": {
        "colab": {
          "base_uri": "https://localhost:8080/",
          "height": 143
        },
        "id": "-uiTZlf8dB6g",
        "outputId": "8e3d20f2-a0df-4a11-e16d-dfe22d01e85c"
      },
      "source": [
        "cat_df[['green','categorical_colours']][cat_df['categorical_colours']!='Q2'].groupby('green').count()"
      ],
      "execution_count": null,
      "outputs": [
        {
          "output_type": "execute_result",
          "data": {
            "text/html": [
              "<div>\n",
              "<style scoped>\n",
              "    .dataframe tbody tr th:only-of-type {\n",
              "        vertical-align: middle;\n",
              "    }\n",
              "\n",
              "    .dataframe tbody tr th {\n",
              "        vertical-align: top;\n",
              "    }\n",
              "\n",
              "    .dataframe thead th {\n",
              "        text-align: right;\n",
              "    }\n",
              "</style>\n",
              "<table border=\"1\" class=\"dataframe\">\n",
              "  <thead>\n",
              "    <tr style=\"text-align: right;\">\n",
              "      <th></th>\n",
              "      <th>categorical_colours</th>\n",
              "    </tr>\n",
              "    <tr>\n",
              "      <th>green</th>\n",
              "      <th></th>\n",
              "    </tr>\n",
              "  </thead>\n",
              "  <tbody>\n",
              "    <tr>\n",
              "      <th>negative</th>\n",
              "      <td>54</td>\n",
              "    </tr>\n",
              "    <tr>\n",
              "      <th>positive</th>\n",
              "      <td>65</td>\n",
              "    </tr>\n",
              "  </tbody>\n",
              "</table>\n",
              "</div>"
            ],
            "text/plain": [
              "          categorical_colours\n",
              "green                        \n",
              "negative                   54\n",
              "positive                   65"
            ]
          },
          "metadata": {},
          "execution_count": 33
        }
      ]
    },
    {
      "cell_type": "code",
      "metadata": {
        "colab": {
          "base_uri": "https://localhost:8080/",
          "height": 143
        },
        "id": "HpHsvk_zdCCO",
        "outputId": "aff450f5-c13e-49bd-ee58-63861c87fd3d"
      },
      "source": [
        "cat_df[['green','categorical_colours','blue']][(cat_df['categorical_colours']!='Q2')&(cat_df['blue']=='negative')].groupby('green').count()"
      ],
      "execution_count": null,
      "outputs": [
        {
          "output_type": "execute_result",
          "data": {
            "text/html": [
              "<div>\n",
              "<style scoped>\n",
              "    .dataframe tbody tr th:only-of-type {\n",
              "        vertical-align: middle;\n",
              "    }\n",
              "\n",
              "    .dataframe tbody tr th {\n",
              "        vertical-align: top;\n",
              "    }\n",
              "\n",
              "    .dataframe thead th {\n",
              "        text-align: right;\n",
              "    }\n",
              "</style>\n",
              "<table border=\"1\" class=\"dataframe\">\n",
              "  <thead>\n",
              "    <tr style=\"text-align: right;\">\n",
              "      <th></th>\n",
              "      <th>categorical_colours</th>\n",
              "      <th>blue</th>\n",
              "    </tr>\n",
              "    <tr>\n",
              "      <th>green</th>\n",
              "      <th></th>\n",
              "      <th></th>\n",
              "    </tr>\n",
              "  </thead>\n",
              "  <tbody>\n",
              "    <tr>\n",
              "      <th>negative</th>\n",
              "      <td>28</td>\n",
              "      <td>28</td>\n",
              "    </tr>\n",
              "    <tr>\n",
              "      <th>positive</th>\n",
              "      <td>35</td>\n",
              "      <td>35</td>\n",
              "    </tr>\n",
              "  </tbody>\n",
              "</table>\n",
              "</div>"
            ],
            "text/plain": [
              "          categorical_colours  blue\n",
              "green                              \n",
              "negative                   28    28\n",
              "positive                   35    35"
            ]
          },
          "metadata": {},
          "execution_count": 37
        }
      ]
    },
    {
      "cell_type": "code",
      "metadata": {
        "colab": {
          "base_uri": "https://localhost:8080/",
          "height": 143
        },
        "id": "1ZbxEWpWdCIm",
        "outputId": "3751610c-8b9a-45e0-af40-ca45dedff68f"
      },
      "source": [
        "cat_df[['green','categorical_colours','blue']][(cat_df['categorical_colours']!='Q2')&(cat_df['blue']=='negative')&(cat_df['topleft']!='green')].groupby('green').count()"
      ],
      "execution_count": null,
      "outputs": [
        {
          "output_type": "execute_result",
          "data": {
            "text/html": [
              "<div>\n",
              "<style scoped>\n",
              "    .dataframe tbody tr th:only-of-type {\n",
              "        vertical-align: middle;\n",
              "    }\n",
              "\n",
              "    .dataframe tbody tr th {\n",
              "        vertical-align: top;\n",
              "    }\n",
              "\n",
              "    .dataframe thead th {\n",
              "        text-align: right;\n",
              "    }\n",
              "</style>\n",
              "<table border=\"1\" class=\"dataframe\">\n",
              "  <thead>\n",
              "    <tr style=\"text-align: right;\">\n",
              "      <th></th>\n",
              "      <th>categorical_colours</th>\n",
              "      <th>blue</th>\n",
              "    </tr>\n",
              "    <tr>\n",
              "      <th>green</th>\n",
              "      <th></th>\n",
              "      <th></th>\n",
              "    </tr>\n",
              "  </thead>\n",
              "  <tbody>\n",
              "    <tr>\n",
              "      <th>negative</th>\n",
              "      <td>28</td>\n",
              "      <td>28</td>\n",
              "    </tr>\n",
              "    <tr>\n",
              "      <th>positive</th>\n",
              "      <td>19</td>\n",
              "      <td>19</td>\n",
              "    </tr>\n",
              "  </tbody>\n",
              "</table>\n",
              "</div>"
            ],
            "text/plain": [
              "          categorical_colours  blue\n",
              "green                              \n",
              "negative                   28    28\n",
              "positive                   19    19"
            ]
          },
          "metadata": {},
          "execution_count": 45
        }
      ]
    },
    {
      "cell_type": "code",
      "metadata": {
        "colab": {
          "base_uri": "https://localhost:8080/"
        },
        "id": "KE5QCvNyvTtc",
        "outputId": "c48ef70f-c7a3-4602-a602-5cee17b35ef3"
      },
      "source": [
        "#Gold\n",
        "X,y = k_best_select(df.copy(), 'gold', k=15)\n",
        "print(list(X.columns))\n",
        "X_cat = change_int_cat(X, variables)\n",
        "save_PBC4cip_patterns(X_cat,y,'gold.csv', tree_count=100)"
      ],
      "execution_count": null,
      "outputs": [
        {
          "output_type": "stream",
          "name": "stdout",
          "text": [
            "['zone', 'language', 'green', 'white', 'black', 'mainhue', 'triangle', 'icon', 'animate', 'text', 'categorical_area', 'categorical_population', 'categorical_colours', 'categorical_saltires', 'categorical_sunstars']\n"
          ]
        },
        {
          "output_type": "stream",
          "name": "stderr",
          "text": [
            "                                                                                           "
          ]
        },
        {
          "output_type": "stream",
          "name": "stdout",
          "text": [
            "\n",
            " numPatterns: 67 of 4095\n"
          ]
        },
        {
          "output_type": "stream",
          "name": "stderr",
          "text": [
            "\r"
          ]
        }
      ]
    },
    {
      "cell_type": "code",
      "metadata": {
        "colab": {
          "base_uri": "https://localhost:8080/",
          "height": 143
        },
        "id": "pTU119CNIIE5",
        "outputId": "53af1519-aa43-4fa4-9ce6-01827ab645de"
      },
      "source": [
        "cat_df[['gold','white']][cat_df['white']=='negative'].groupby('gold').count()"
      ],
      "execution_count": null,
      "outputs": [
        {
          "output_type": "execute_result",
          "data": {
            "text/html": [
              "<div>\n",
              "<style scoped>\n",
              "    .dataframe tbody tr th:only-of-type {\n",
              "        vertical-align: middle;\n",
              "    }\n",
              "\n",
              "    .dataframe tbody tr th {\n",
              "        vertical-align: top;\n",
              "    }\n",
              "\n",
              "    .dataframe thead th {\n",
              "        text-align: right;\n",
              "    }\n",
              "</style>\n",
              "<table border=\"1\" class=\"dataframe\">\n",
              "  <thead>\n",
              "    <tr style=\"text-align: right;\">\n",
              "      <th></th>\n",
              "      <th>white</th>\n",
              "    </tr>\n",
              "    <tr>\n",
              "      <th>gold</th>\n",
              "      <th></th>\n",
              "    </tr>\n",
              "  </thead>\n",
              "  <tbody>\n",
              "    <tr>\n",
              "      <th>negative</th>\n",
              "      <td>7</td>\n",
              "    </tr>\n",
              "    <tr>\n",
              "      <th>positive</th>\n",
              "      <td>41</td>\n",
              "    </tr>\n",
              "  </tbody>\n",
              "</table>\n",
              "</div>"
            ],
            "text/plain": [
              "          white\n",
              "gold           \n",
              "negative      7\n",
              "positive     41"
            ]
          },
          "metadata": {},
          "execution_count": 48
        }
      ]
    },
    {
      "cell_type": "code",
      "metadata": {
        "colab": {
          "base_uri": "https://localhost:8080/",
          "height": 143
        },
        "id": "NOsOkfdKIIJ1",
        "outputId": "53f64a5a-d048-421a-cd9b-5ed7eca7c1d9"
      },
      "source": [
        "cat_df[['gold','white','categorical_colours']][(cat_df['white']=='positive')&(cat_df['categorical_colours']!='Q1')].groupby('gold').count()"
      ],
      "execution_count": null,
      "outputs": [
        {
          "output_type": "execute_result",
          "data": {
            "text/html": [
              "<div>\n",
              "<style scoped>\n",
              "    .dataframe tbody tr th:only-of-type {\n",
              "        vertical-align: middle;\n",
              "    }\n",
              "\n",
              "    .dataframe tbody tr th {\n",
              "        vertical-align: top;\n",
              "    }\n",
              "\n",
              "    .dataframe thead th {\n",
              "        text-align: right;\n",
              "    }\n",
              "</style>\n",
              "<table border=\"1\" class=\"dataframe\">\n",
              "  <thead>\n",
              "    <tr style=\"text-align: right;\">\n",
              "      <th></th>\n",
              "      <th>white</th>\n",
              "      <th>categorical_colours</th>\n",
              "    </tr>\n",
              "    <tr>\n",
              "      <th>gold</th>\n",
              "      <th></th>\n",
              "      <th></th>\n",
              "    </tr>\n",
              "  </thead>\n",
              "  <tbody>\n",
              "    <tr>\n",
              "      <th>negative</th>\n",
              "      <td>65</td>\n",
              "      <td>65</td>\n",
              "    </tr>\n",
              "    <tr>\n",
              "      <th>positive</th>\n",
              "      <td>50</td>\n",
              "      <td>50</td>\n",
              "    </tr>\n",
              "  </tbody>\n",
              "</table>\n",
              "</div>"
            ],
            "text/plain": [
              "          white  categorical_colours\n",
              "gold                                \n",
              "negative     65                   65\n",
              "positive     50                   50"
            ]
          },
          "metadata": {},
          "execution_count": 54
        }
      ]
    },
    {
      "cell_type": "code",
      "metadata": {
        "colab": {
          "base_uri": "https://localhost:8080/",
          "height": 143
        },
        "id": "40QgkcbkIIRL",
        "outputId": "e16d3a78-89fc-422f-b312-48b69068d5c0"
      },
      "source": [
        "cat_df[['gold','white','categorical_sunstars','icon']][(cat_df['white']=='negative')&(cat_df['categorical_sunstars']!='Q1')&(cat_df['icon']=='negative')].groupby('gold').count()"
      ],
      "execution_count": null,
      "outputs": [
        {
          "output_type": "execute_result",
          "data": {
            "text/html": [
              "<div>\n",
              "<style scoped>\n",
              "    .dataframe tbody tr th:only-of-type {\n",
              "        vertical-align: middle;\n",
              "    }\n",
              "\n",
              "    .dataframe tbody tr th {\n",
              "        vertical-align: top;\n",
              "    }\n",
              "\n",
              "    .dataframe thead th {\n",
              "        text-align: right;\n",
              "    }\n",
              "</style>\n",
              "<table border=\"1\" class=\"dataframe\">\n",
              "  <thead>\n",
              "    <tr style=\"text-align: right;\">\n",
              "      <th></th>\n",
              "      <th>white</th>\n",
              "      <th>categorical_sunstars</th>\n",
              "      <th>icon</th>\n",
              "    </tr>\n",
              "    <tr>\n",
              "      <th>gold</th>\n",
              "      <th></th>\n",
              "      <th></th>\n",
              "      <th></th>\n",
              "    </tr>\n",
              "  </thead>\n",
              "  <tbody>\n",
              "    <tr>\n",
              "      <th>negative</th>\n",
              "      <td>3</td>\n",
              "      <td>3</td>\n",
              "      <td>3</td>\n",
              "    </tr>\n",
              "    <tr>\n",
              "      <th>positive</th>\n",
              "      <td>12</td>\n",
              "      <td>12</td>\n",
              "      <td>12</td>\n",
              "    </tr>\n",
              "  </tbody>\n",
              "</table>\n",
              "</div>"
            ],
            "text/plain": [
              "          white  categorical_sunstars  icon\n",
              "gold                                       \n",
              "negative      3                     3     3\n",
              "positive     12                    12    12"
            ]
          },
          "metadata": {},
          "execution_count": 63
        }
      ]
    },
    {
      "cell_type": "code",
      "metadata": {
        "colab": {
          "base_uri": "https://localhost:8080/"
        },
        "id": "rhAR_FXDwBNb",
        "outputId": "7ea9a069-3f12-49fd-ca32-ac092e7c6971"
      },
      "source": [
        "#Black\n",
        "X,y = k_best_select(df.copy(), 'black', k=15)\n",
        "print(list(X.columns))\n",
        "X_cat = change_int_cat(X, variables)\n",
        "save_PBC4cip_patterns(X_cat,y,'black.csv', tree_count=100)"
      ],
      "execution_count": null,
      "outputs": [
        {
          "output_type": "stream",
          "name": "stdout",
          "text": [
            "['language', 'religion', 'blue', 'gold', 'mainhue', 'crescent', 'triangle', 'icon', 'animate', 'topleft', 'botright', 'categorical_stripes', 'categorical_colours', 'categorical_crosses', 'categorical_quarters']\n"
          ]
        },
        {
          "output_type": "stream",
          "name": "stderr",
          "text": [
            "                                                                                           "
          ]
        },
        {
          "output_type": "stream",
          "name": "stdout",
          "text": [
            "\n",
            " numPatterns: 15 of 3365\n"
          ]
        },
        {
          "output_type": "stream",
          "name": "stderr",
          "text": [
            "\r"
          ]
        }
      ]
    },
    {
      "cell_type": "code",
      "metadata": {
        "colab": {
          "base_uri": "https://localhost:8080/",
          "height": 143
        },
        "id": "xYnIiMv-Ra-m",
        "outputId": "219129a5-0885-43f3-fa29-39d68c4d64e3"
      },
      "source": [
        "cat_df[['black','religion']][cat_df['religion']!='Marxist'].groupby('black').count()"
      ],
      "execution_count": null,
      "outputs": [
        {
          "output_type": "execute_result",
          "data": {
            "text/html": [
              "<div>\n",
              "<style scoped>\n",
              "    .dataframe tbody tr th:only-of-type {\n",
              "        vertical-align: middle;\n",
              "    }\n",
              "\n",
              "    .dataframe tbody tr th {\n",
              "        vertical-align: top;\n",
              "    }\n",
              "\n",
              "    .dataframe thead th {\n",
              "        text-align: right;\n",
              "    }\n",
              "</style>\n",
              "<table border=\"1\" class=\"dataframe\">\n",
              "  <thead>\n",
              "    <tr style=\"text-align: right;\">\n",
              "      <th></th>\n",
              "      <th>religion</th>\n",
              "    </tr>\n",
              "    <tr>\n",
              "      <th>black</th>\n",
              "      <th></th>\n",
              "    </tr>\n",
              "  </thead>\n",
              "  <tbody>\n",
              "    <tr>\n",
              "      <th>negative</th>\n",
              "      <td>115</td>\n",
              "    </tr>\n",
              "    <tr>\n",
              "      <th>positive</th>\n",
              "      <td>37</td>\n",
              "    </tr>\n",
              "  </tbody>\n",
              "</table>\n",
              "</div>"
            ],
            "text/plain": [
              "          religion\n",
              "black             \n",
              "negative       115\n",
              "positive        37"
            ]
          },
          "metadata": {},
          "execution_count": 65
        }
      ]
    },
    {
      "cell_type": "code",
      "metadata": {
        "colab": {
          "base_uri": "https://localhost:8080/",
          "height": 143
        },
        "id": "lh6pCYb_RbC8",
        "outputId": "9ac4acbb-606b-4224-c150-af1a23c416e3"
      },
      "source": [
        "cat_df[['black','religion','topleft']][(cat_df['religion']=='Marxist')&(cat_df['topleft']!='black')].groupby('black').count()"
      ],
      "execution_count": null,
      "outputs": [
        {
          "output_type": "execute_result",
          "data": {
            "text/html": [
              "<div>\n",
              "<style scoped>\n",
              "    .dataframe tbody tr th:only-of-type {\n",
              "        vertical-align: middle;\n",
              "    }\n",
              "\n",
              "    .dataframe tbody tr th {\n",
              "        vertical-align: top;\n",
              "    }\n",
              "\n",
              "    .dataframe thead th {\n",
              "        text-align: right;\n",
              "    }\n",
              "</style>\n",
              "<table border=\"1\" class=\"dataframe\">\n",
              "  <thead>\n",
              "    <tr style=\"text-align: right;\">\n",
              "      <th></th>\n",
              "      <th>religion</th>\n",
              "      <th>topleft</th>\n",
              "    </tr>\n",
              "    <tr>\n",
              "      <th>black</th>\n",
              "      <th></th>\n",
              "      <th></th>\n",
              "    </tr>\n",
              "  </thead>\n",
              "  <tbody>\n",
              "    <tr>\n",
              "      <th>negative</th>\n",
              "      <td>14</td>\n",
              "      <td>14</td>\n",
              "    </tr>\n",
              "    <tr>\n",
              "      <th>positive</th>\n",
              "      <td>10</td>\n",
              "      <td>10</td>\n",
              "    </tr>\n",
              "  </tbody>\n",
              "</table>\n",
              "</div>"
            ],
            "text/plain": [
              "          religion  topleft\n",
              "black                      \n",
              "negative        14       14\n",
              "positive        10       10"
            ]
          },
          "metadata": {},
          "execution_count": 72
        }
      ]
    },
    {
      "cell_type": "code",
      "metadata": {
        "colab": {
          "base_uri": "https://localhost:8080/",
          "height": 143
        },
        "id": "7rhKVvwtRbKq",
        "outputId": "6b062a4a-8072-42e7-b15b-99d0803610a1"
      },
      "source": [
        "cat_df[['black','religion','topleft','botright']][(cat_df['religion']=='Marxist')&(cat_df['topleft']!='black')&(cat_df['botright']!='black')].groupby('black').count()"
      ],
      "execution_count": null,
      "outputs": [
        {
          "output_type": "execute_result",
          "data": {
            "text/html": [
              "<div>\n",
              "<style scoped>\n",
              "    .dataframe tbody tr th:only-of-type {\n",
              "        vertical-align: middle;\n",
              "    }\n",
              "\n",
              "    .dataframe tbody tr th {\n",
              "        vertical-align: top;\n",
              "    }\n",
              "\n",
              "    .dataframe thead th {\n",
              "        text-align: right;\n",
              "    }\n",
              "</style>\n",
              "<table border=\"1\" class=\"dataframe\">\n",
              "  <thead>\n",
              "    <tr style=\"text-align: right;\">\n",
              "      <th></th>\n",
              "      <th>religion</th>\n",
              "      <th>topleft</th>\n",
              "      <th>botright</th>\n",
              "    </tr>\n",
              "    <tr>\n",
              "      <th>black</th>\n",
              "      <th></th>\n",
              "      <th></th>\n",
              "      <th></th>\n",
              "    </tr>\n",
              "  </thead>\n",
              "  <tbody>\n",
              "    <tr>\n",
              "      <th>negative</th>\n",
              "      <td>14</td>\n",
              "      <td>14</td>\n",
              "      <td>14</td>\n",
              "    </tr>\n",
              "    <tr>\n",
              "      <th>positive</th>\n",
              "      <td>8</td>\n",
              "      <td>8</td>\n",
              "      <td>8</td>\n",
              "    </tr>\n",
              "  </tbody>\n",
              "</table>\n",
              "</div>"
            ],
            "text/plain": [
              "          religion  topleft  botright\n",
              "black                                \n",
              "negative        14       14        14\n",
              "positive         8        8         8"
            ]
          },
          "metadata": {},
          "execution_count": 81
        }
      ]
    },
    {
      "cell_type": "code",
      "metadata": {
        "colab": {
          "base_uri": "https://localhost:8080/"
        },
        "id": "7ubSrPITv_Ss",
        "outputId": "fbf44436-c9bd-4985-dfa0-33fb55a4478b"
      },
      "source": [
        "#Orange\n",
        "X,y = k_best_select(df.copy(), 'orange', k=15)\n",
        "print(list(X.columns))\n",
        "X_cat = change_int_cat(X, variables)\n",
        "save_PBC4cip_patterns(X_cat,y,'orange.csv', tree_count=100)"
      ],
      "execution_count": null,
      "outputs": [
        {
          "output_type": "stream",
          "name": "stdout",
          "text": [
            "['language', 'green', 'mainhue', 'triangle', 'icon', 'animate', 'text', 'topleft', 'botright', 'categorical_colours', 'categorical_circles', 'categorical_crosses', 'categorical_saltires', 'categorical_quarters', 'categorical_sunstars']\n"
          ]
        },
        {
          "output_type": "stream",
          "name": "stderr",
          "text": [
            "                                                                                           "
          ]
        },
        {
          "output_type": "stream",
          "name": "stdout",
          "text": [
            "\n",
            " numPatterns: 95 of 2722\n"
          ]
        },
        {
          "output_type": "stream",
          "name": "stderr",
          "text": [
            "\r"
          ]
        }
      ]
    },
    {
      "cell_type": "code",
      "metadata": {
        "colab": {
          "base_uri": "https://localhost:8080/",
          "height": 143
        },
        "id": "-jQmWqxIuA2U",
        "outputId": "fb5eaffd-eecb-41ee-9af7-d7cfca6e0b8f"
      },
      "source": [
        "cat_df[['orange','animate']][cat_df['animate']=='negative'].groupby('orange').count()"
      ],
      "execution_count": null,
      "outputs": [
        {
          "output_type": "execute_result",
          "data": {
            "text/html": [
              "<div>\n",
              "<style scoped>\n",
              "    .dataframe tbody tr th:only-of-type {\n",
              "        vertical-align: middle;\n",
              "    }\n",
              "\n",
              "    .dataframe tbody tr th {\n",
              "        vertical-align: top;\n",
              "    }\n",
              "\n",
              "    .dataframe thead th {\n",
              "        text-align: right;\n",
              "    }\n",
              "</style>\n",
              "<table border=\"1\" class=\"dataframe\">\n",
              "  <thead>\n",
              "    <tr style=\"text-align: right;\">\n",
              "      <th></th>\n",
              "      <th>animate</th>\n",
              "    </tr>\n",
              "    <tr>\n",
              "      <th>orange</th>\n",
              "      <th></th>\n",
              "    </tr>\n",
              "  </thead>\n",
              "  <tbody>\n",
              "    <tr>\n",
              "      <th>negative</th>\n",
              "      <td>147</td>\n",
              "    </tr>\n",
              "    <tr>\n",
              "      <th>positive</th>\n",
              "      <td>8</td>\n",
              "    </tr>\n",
              "  </tbody>\n",
              "</table>\n",
              "</div>"
            ],
            "text/plain": [
              "          animate\n",
              "orange           \n",
              "negative      147\n",
              "positive        8"
            ]
          },
          "metadata": {},
          "execution_count": 20
        }
      ]
    },
    {
      "cell_type": "code",
      "metadata": {
        "colab": {
          "base_uri": "https://localhost:8080/",
          "height": 143
        },
        "id": "w5sVOFNO-sM2",
        "outputId": "413ceb38-a8d9-4681-e2d6-69689b982f02"
      },
      "source": [
        "cat_df[['orange','animate','botright']][(cat_df['animate']=='positive')&(cat_df['botright']!='red')].groupby('orange').count()"
      ],
      "execution_count": null,
      "outputs": [
        {
          "output_type": "execute_result",
          "data": {
            "text/html": [
              "<div>\n",
              "<style scoped>\n",
              "    .dataframe tbody tr th:only-of-type {\n",
              "        vertical-align: middle;\n",
              "    }\n",
              "\n",
              "    .dataframe tbody tr th {\n",
              "        vertical-align: top;\n",
              "    }\n",
              "\n",
              "    .dataframe thead th {\n",
              "        text-align: right;\n",
              "    }\n",
              "</style>\n",
              "<table border=\"1\" class=\"dataframe\">\n",
              "  <thead>\n",
              "    <tr style=\"text-align: right;\">\n",
              "      <th></th>\n",
              "      <th>animate</th>\n",
              "      <th>botright</th>\n",
              "    </tr>\n",
              "    <tr>\n",
              "      <th>orange</th>\n",
              "      <th></th>\n",
              "      <th></th>\n",
              "    </tr>\n",
              "  </thead>\n",
              "  <tbody>\n",
              "    <tr>\n",
              "      <th>negative</th>\n",
              "      <td>13</td>\n",
              "      <td>13</td>\n",
              "    </tr>\n",
              "    <tr>\n",
              "      <th>positive</th>\n",
              "      <td>10</td>\n",
              "      <td>10</td>\n",
              "    </tr>\n",
              "  </tbody>\n",
              "</table>\n",
              "</div>"
            ],
            "text/plain": [
              "          animate  botright\n",
              "orange                     \n",
              "negative       13        13\n",
              "positive       10        10"
            ]
          },
          "metadata": {},
          "execution_count": 27
        }
      ]
    },
    {
      "cell_type": "code",
      "metadata": {
        "colab": {
          "base_uri": "https://localhost:8080/",
          "height": 143
        },
        "id": "QHxaEjxB1DFd",
        "outputId": "65684e2d-a725-43f3-c31d-785692eb9cb7"
      },
      "source": [
        "cat_df[['orange','animate','botright','green']][(cat_df['animate']=='negative')&(cat_df['botright']!='blue')&(cat_df['green']=='negative')].groupby('orange').count()"
      ],
      "execution_count": null,
      "outputs": [
        {
          "output_type": "execute_result",
          "data": {
            "text/html": [
              "<div>\n",
              "<style scoped>\n",
              "    .dataframe tbody tr th:only-of-type {\n",
              "        vertical-align: middle;\n",
              "    }\n",
              "\n",
              "    .dataframe tbody tr th {\n",
              "        vertical-align: top;\n",
              "    }\n",
              "\n",
              "    .dataframe thead th {\n",
              "        text-align: right;\n",
              "    }\n",
              "</style>\n",
              "<table border=\"1\" class=\"dataframe\">\n",
              "  <thead>\n",
              "    <tr style=\"text-align: right;\">\n",
              "      <th></th>\n",
              "      <th>animate</th>\n",
              "      <th>botright</th>\n",
              "      <th>green</th>\n",
              "    </tr>\n",
              "    <tr>\n",
              "      <th>orange</th>\n",
              "      <th></th>\n",
              "      <th></th>\n",
              "      <th></th>\n",
              "    </tr>\n",
              "  </thead>\n",
              "  <tbody>\n",
              "    <tr>\n",
              "      <th>negative</th>\n",
              "      <td>60</td>\n",
              "      <td>60</td>\n",
              "      <td>60</td>\n",
              "    </tr>\n",
              "    <tr>\n",
              "      <th>positive</th>\n",
              "      <td>1</td>\n",
              "      <td>1</td>\n",
              "      <td>1</td>\n",
              "    </tr>\n",
              "  </tbody>\n",
              "</table>\n",
              "</div>"
            ],
            "text/plain": [
              "          animate  botright  green\n",
              "orange                            \n",
              "negative       60        60     60\n",
              "positive        1         1      1"
            ]
          },
          "metadata": {},
          "execution_count": 29
        }
      ]
    },
    {
      "cell_type": "code",
      "metadata": {
        "id": "dgHKueIF60kI"
      },
      "source": [
        "#from google.colab import drive\n",
        "#drive.mount('/content/drive')"
      ],
      "execution_count": null,
      "outputs": []
    },
    {
      "cell_type": "markdown",
      "metadata": {
        "id": "HazXg2jM7XJz"
      },
      "source": [
        "## Designing visualizations\n",
        "\n",
        "The design of the graphs that represent contrast patterns of one, two, and three categorical items in a binary classification problem is based on circle ring bars. \n",
        "\n",
        "\n",
        "* The color of the ring's sections denote the portion of occurences where the class is positive or negative.\n",
        "* The shadings that fill the rings denote if:\n",
        "      - one categorical item is positive or negative /\n",
        "      - one categorical item is equal to something or different than something.\n",
        "* The outer ring has more occurrences than the inner ring.\n",
        "* When deling with two caregorical items, two different ring sets are positioned over an x-axis that separates whether the second item is:\n",
        "      - positive or negative /\n",
        "      - equal to something or different than something.\n",
        "* When deling with three caregorical items, four different ring sets are positioned over an x-axis and y-axis that separates whether the second and third item are:\n",
        "      - positive or negative /\n",
        "      - equal to something or different than something.\n",
        "* The overall sizes of the ring sets shows which one has more overall occurences.\n",
        "* The number of occurences are also included as labels within the rings.\n",
        "\n",
        "\n",
        "\n",
        "\n"
      ]
    },
    {
      "cell_type": "markdown",
      "metadata": {
        "id": "oJO_tlBj7gUF"
      },
      "source": [
        "## Building visualizations"
      ]
    },
    {
      "cell_type": "markdown",
      "metadata": {
        "id": "qvQoCSmKb0d1"
      },
      "source": [
        "The building of the graphs was done in Excel. The results can be found in the report. As an example, the graphs for the binary class \"green\" are included."
      ]
    },
    {
      "cell_type": "markdown",
      "metadata": {
        "id": "lGR5bH1IcJVD"
      },
      "source": [
        "![imagen.png](data:image/png;base64,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)"
      ]
    },
    {
      "cell_type": "markdown",
      "metadata": {
        "id": "mRk2QbeQca_8"
      },
      "source": [
        ""
      ]
    },
    {
      "cell_type": "markdown",
      "metadata": {
        "id": "_fuUQsGOcbJb"
      },
      "source": [
        "![imagen.png](data:image/png;base64,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)"
      ]
    },
    {
      "cell_type": "markdown",
      "metadata": {
        "id": "Y1fM2t4nchqF"
      },
      "source": [
        "![imagen.png](data:image/png;base64,iVBORw0KGgoAAAANSUhEUgAAA04AAAK+CAYAAACVRU4sAAAgAElEQVR4nOzde3BU550n/K6pmV29szVTqdHUu5XdpSpVO7W12re2JsTKepJJxh6NsziO49iaOHYc23ImseNxErtNiO3YFiDAGIy5I8IdzFWAhcRFQoBA3MVNLUBIQiAhGiQhCfX9fju/9w/Sh1arW916zjn9O939/VSdSiyk08/z9DnPeb7n8hwDAQAAAAAAwLgM3AUAAAAAAADQOwQnAAAAAACAFBCcAAAAAAAAUkBwAgAAAAAASAHBCQAAAAAAIAUEJwAAAAAAgBQQnAAAAAAAAFJAcAIAAAAAAEgBwQkAAAAAACAFBCcAAAAAAIAUEJwAAAAAAABSQHCCjCoqKqKioiIiIiopKaHCwkLmEmmvrKyMDAYDmUwmVdeXaYWFhVRSUpLxz00ktg0qKirSat/o70WXdLe98T6rqqqKDAYDVVVVjbsOg8FAZWVlaX1eukwmExkMBqqoqEj7M6J/E7uks12KfJaaRLf52O98vG1XZHvKB9F20cv2qzexfWLssQ0AcheCE2RUUVGRfKApKSnJiwMNgpP6ysrK5OATHeiOJ/o7sQEn1WA6nc/SQ3CKfnbsIHS8348tR1FRUVoBcqKfpTbRbT7ddp/o9pQP4oONVuvn2qbUUFhYKG9fscc2AMhdODpARpWUlMgHl7KyMlWDE1egyDQEpweD2+hANxpexpPo6ma6Z4jH+yzO4BRdb/SzCwsLxx14JrqSMpFtabzP0vrqscg2n+y7SfRdTHR7UkOyOumlH8vElbeJbL96VFRUJG9Lscc2AMhd/L0z5BUEJ+UQnCY+0I2/6pfo6ovIZ2VTcIqWNfZ3CgsL094HEZzUheCE4AQA2Ye/d4a8UlJSIh9oysrKxhxoYu+pjx/kRQc0iZ5RKSwsHPPsRvzALvbfEg2c4v8+/vfiyxY/UIze7hO7LpPJlHAAEl+X+HYY7zkU0YHVeG2b6DPj/z1RcIpv1/hBeKKrOvHtEXsbXXQ90cFUUVFRwnVXVFTI/11VVZXWoD26jujnpTvIGe+zYgfnsdtgou8zui0luwUqUVvFf2eJ1httx8LCwpQBLtqe0TJMJOwk+6xE+01sOWK/w0R1iA4+4/fBVNv8eP1B/HYZ/dz4n8Xenpfu9hQbssbrU0T6KyX9WOytb/H/Hl1Psv0pXvx3luikQ7Lve7xyxBtv+41vv/jtJ3qrd+w+kk7bR6Wzb6Vqs2h/Ei1Ptj2jBQATh+AEupHoWaDowTDRYCZ+IJ8sUMQPSOOvNsSfmU40sI0OWGLLFj2gxn9+fDmTTSgQu/6ioqJRA9HYz4k/my8SnMZr22h9Y9syWsbYgUB8e8fXP/o7sWWdSHCKX1eieis5Ix37OakCRroShb1EV7NEglOiqzgTCXyJxA561RzkJbviFL89ENGYAWh0O4qve6J9KyrRyYj457UmcsVpIuJPjMR+VvQ7VdJfifZjsd9tojrHli+dK67jnfCJ/bvo78WvW8l+lmgfif/c6DaSqn8hGrttpLNvibQZAOQ+BCfQjYkelOInlxjvrHT87SaxB87olaJYsQ/6Jhvoxv88UTghGnsgn+jsS/EPq4sEp/HaNtmgN/7nsQO/ZIPS+J9P9IpTOuUSER1kRc/ox36Xib7/dCVrh/iyTzQ4xT84H1vWiX73UdF2jrZBoqAseltWou8q2a1e6ewPyfatqNiH8uPrEG0zrYNTfL1S7dfp9FfJfp5OPzbewD7Rz1OVN1kASfQ3ibZdNdo4Vnz7xYfrqFTbRrr7lkibAUDuQ3ACXUhnBqdEt9OluhKT7Ba82L9NdcVpvOdYYg+uyQZC8QOQVM8KJboVJvbvJzp4TtW2yQYDiQar0XInGzzGf9ZEglOydSm9yhJ/Rjw64Ir9b9HBULJtY7xBWDrBKdltStFlouKvKsbfrqh0JrlEwSnZdppOuCYaf98ar224glN8G4j0V8l+nk4/Nt5+nqjOqU5MJKpnsr4rUYBTcnU43StOicqfattId98SaTMAyH0ITqALqQ620cFE7CAonVvY0nnAOdGBNPaAmcngNN6tMPkWnKJivx+RwViiwU40PEXrKDqQ1jo4qXVLYaI2jg1PE5kkIhGO4JTqO+MMTqL9VbKfp9OP5WJwil0SPV+ZLDiN9/0qmdAFwQkAEJxAN8Y74CW6KpDsDG+sdA6SqWZDmuitevEmcqteojooDU5EfLfqpXMLV7qzd4neJpPslp7Y2/dEidyql+i/iRLf7qTWLGPJbodM9LyOiES3O2p9q16qq5DJvptEt3JNRDq36on2V8l+nk4/longNJFb9ZRsu2VpzLg63nN1Iv15PAQnAEgEwQl0I9EEDNEBRHTgFD/YTjQQSTRQih+IlJWVjTmbHb/ET94Qv474B9/TDU7xt45F1x97G0miB62VBKfx2jadB76j9Y0dkKTz4H/8d5JooJ5sIFpYWDimvCK37EXrF/u38We0RW8FTDQ5RKL2jP/v+IfVE02QEDsDXlRFRYVwWROFxNhZ3JQMCOP3z9jPTDShQaJJRhLVPX798f8du32aTKa0JodQenVtvG042fOOE+mvRPuxTASnRP1C/NU1NYJTslsT07lVL51tI519C8EJABJBcAJdiZ9uN1F4iQ5AEp3ljv2ddKdErqioGLOeRIOuVFNvpxucYn+WqDzxQU6NK06Jyh8/sIgfpCQauCWaSjpVAIn93OiUw+kEp/hbKJUMdhPVL/75CZEBUew7f5IN8KL/luhnsb+f7CqFWm1ANHYa7EQBRvTKU+y642/vGq9tolcr4rf7WOPdvpbsb1JdFRVtz9hgk2x7itZLjf4q3X4sE8GJKPGtzbG/o0ZwSvQurfj1jlf+VNtG9O/H27cQnAAgEQQnyHuJDpDRn6t1qxQAJJZtM5Wle2spiEt2u53S2ywBAJRCcIK8l+jWnWS3HgGAuhCcIF78raxEyW9hBADIJN0Fp6amJmpqauIuBuSZRPfTZ4P4W3cSLRhogJ4hOEEi8bd4os0BQA80HR3OnDkz5aAu0fLVr35Vy2IBAAAAAABMiO5OqxuNRlq8eDF3MQAAAAAAAGQITgAAAAAAACkgOAEAAAAAAKSA4AQAAAAAAJCC7oLTa6+9Rhs3buQuBgAAAAAAgAzBCQAAAAAAIAUEJwAAAAAAgBQQnAAAAAAAAFJAcAIAAAAAAEgBwQkAAAAAACAFBCcAAAAAAIAUEJwAAAAAAABSQHACAAAAAABIAcEJAAAAAAAgBQQnAAAAAACAFBCcAAAAAAAAUkBwAgAAAAAASAHBCQAAAAAAIAUEJwAAAAAAgBQQnAAAAAAAAFJAcAIAAAAAAEgBwQkAAAAAACAF3QWnZ599lmpqariLAQAAAAAAIENwAgAAAAAASAHBCQAAAAAAIAUEJwAAAAAAgBQQnEC3bN771Hr3BO258kdaeep9mnXwVTJWT1F9Ka97Uf5M34l1ZCmfrO4y4xGyLysl1/ap5Dm0hPwtNRS63UoUiTC2LgAAAABMBIITAAAAAABACghOAAAAAAAAKSA4AQAAAAAApIDgBJpy+W105lYdrTr9oSbPJ2XFM04qLbbP/i95DsyjkLmV8RsFAAAAyE8ITgAAAAAAACkgOAEAAAAAAKSA4AQAAAAAAJACghMIOX/7EC1ueof9+aR8esZpQs9DLZhCnoMLKdR3jXErAYCJsvtG6ObwZTpzq47q27+gnS1LaN3ZGbS46R2qOPgKTav9Yco+7aL5KBERST7XuP2Edfa3yTb/CbIvfobsK39KjvW/IHf1dPKeWEeB9kYKD94kCgWYWwQAQD8QnAAAAAAAAFJAcAIAAAAAAEgBwQkAAAAAACAFBCcY40r/afr86K/Znz3K1DKr4VW57r4zW8g661tkmf4I+3NKWi+Ota9RoO0Q45YGkDt6Rq7RwY7NtKTJyN6npfuMk+bL9G+Qc8Pr5D22ikK9l5i/IQAA5XQXnB5//HFqamriLgYAAAAAAIAMwQkAAAAAACAFBCfIXZEwSSE/SX43SR4bRRxDFB4xU/heF4XMrRS8cZoCbYco1N388E+cw+Q37aXAtUYK3jhDodsmCvW3U3i4hyL2eyR57SQFfUSRMGPFAAAAACDTEJzy1NGuXfTBvufY78WPX2bUv0SbL8yjs731NOzqS12RSJgkj43C97oo0HaIPIeWkGPNqxO6D9+1Y5q8upC5dUJ/a19aSq7qj8nXXEWh2y0UcQyRlM57T6QIBbubydOwmOwrfsL+vFOixdOwKL26AOQgi2eQ6tu/oBn1L7H3i1n7jJPAYl/+Y/IeX0thyx3mLQAAYCwEJ8gKUihAYWsfBXvOk+/MVnLtfI9sn3xXlQO1kuCUdJn5TXLt+B35zm6jYO8lijgGicJBxhYEAAAAACUQnECfwiEK3+8l34Xd5Fj1sqZnODUJTkkW25JnyHt0JYVut5IU8DA2MAAAAABMBIIT6EMkTGFrH/lN+8ix4fWM3hoieWyjipLJz7YvfoZ8Z7ZQeLiHKBxianwAAAAASAXBKYfddw/Q2rMzWO+133huDl3uO5WwfBH7IAXaDpFz6zsZDSuxS+i2KWG5uMrj3PwWBa4eoohzOGGbhfrayVM3n6wq3aYoFPaW/IgC1w6ruq0CZJLVM0S1V1fTu3ueZH8eCc84CSwVj5Ln0JKk/SQAgFYQnCCjJJ+TAlcbyLboaf6Db/lkknzO0Vec/vQcEne5LOWTyTr7H8l3ZjNFrP1M3xYAAAAARCE4gfbCQQr1XiLn1rfZw0js4tz8GyKiUcFJCvqIiMi5+Tfs5YtdbPOfoMCVepJ8LpavEAAAACDfITiBNiSJwsM95Kn/nD105EJwil1cVb+n0N02IinC8tUCAAAA5CMEpxzg9FlpfXNFRu+hn1n/Mh27sZvCkdETGkSc98l3dht7uMjl4BS7+E5upIhjaMw2Eew+R84v3spsoNs+lSJui4ZbOkD6zt8+TLMbXmN/3ih2WdD4FtVcWUVX+8+QN5je1eNQJEguv40GHL3UNdRCLXeOUdONaqq9uoa2XJhPq09/TIuPvU1zGl6jD/Y9R+9WPznmGSfrJ/9E9iXPkGNNGbm2vkPuPdPJU/85eU9uIH/rPgrePEvhezce7L9pvjZB8tgevB7i1CZybv41WWZ+k70/jC7WuY+T//wu0U0HACApBCdQRcTWT+6aGewHzIkuRKTbZ5wmsjg3vUmhvnaOrx4AFJIkiXxBNw0671DbwFmqb/+Clp/4Hf2u5gc8k0NM/wY5Vr1CvpMbKdB2iMKDNx/cJixJzC0FAMALwQkUCY+YybVjGntwEF3CQ91j6zTUzV4u0cU2/wkKdjdjgAOgY76gh3otHVTfsZnmHXkjq2bVs6/86YN30fVeokjcqxwAAHIdghMICQ/ezPitYFotUsAbU7Ege3nUWKyffJeCN88iQAHogC/opp6Ra3Tg2gb6aP/zuTUdecWj5KlfQMHeS5i8BgByHoJTlvEEnBl7N9Phzu1jPj/U106ONa+yBwM1F9eOaQ/rZ25lL4+qy+zvJAxQ/pZasi8r1fzzbQumULDrpOb7BeSnEfcAbWiexfK80tLj79KJ7lpy+cdedQlHQnTPcZsau3ZRed0LGS8b53ucbPP+hbxNayjU3yE/MxpLCgUocLmOXNuMLH2ic/NvKDzQqfm2CQC5CcEJ0hIyt5ItAwNtjiWng9OfFvkKFOEKFIAWQpEg9Yxcoy0X5rEEOb0Ep/jFuelNCnafIynkZ/6GAACU011w+vrXv06tra3cxYA/idgGyLH+l+wH3wkvFY+SfcXz5No+ldxffkzu/Z+S5/BS8h5fS76z28jfUkuBa4cpeOMMhe73yvWV/B4KdjdToP0o+Vv3ke9cFflObiDvkRXkqZtP7j0zyLVjGjlWv0LWT77LX88JLrYFUyjUd41vgwLIIRJJ1G+/RTtNS9nDkl6DU+zirqmgUH8HUQSvUgCA7ITgBImFA+Q7uZH9QJs6CDxJzo1vkHv/XPKd3UbBG6cpYrmbsWaKOIcpeOsC+S98SZ6Dn5Nzy9tkX/wMe7ukWlxb30k4jTkApObwWej4zWp6d8+T7CEpm4JT7OI9+seM9tUAAGpAcNK5L87P1fQAu/bsDOq33xr1maHeS+wH1YQhaf4T5Nr1Afkv7KZQXztJfjfTt5KGcIjCQzcpcKWe3LWzyb7kWfb2S7T4zu8kioTlYkdcI+SuLtf0M11V7zF+MZCtvmxdkZHQ8e6eJ6nmyiqyeAZHfX4wHKC2gbM0v/FN9mCUC8HpYb/+PQpcOzLmeSgp4CHf6c0Z6zs9dfMzti0DQPZCcAJZxHmfnFvfYT+QRhfr3MfItX0q+c5uo/C9Lu7mUSxi7SO/aS+5q8vJtvAp9vZ92M6PUygH2hdAC96gm5pufMkehnI1OMUu3qY1JHmszN84AEByCE5AFAmR71wV+0HTMv0Rcm75LflObaLQ3TbuVtFcePgW+S/sJtfO98k6r4S9/T31n5MU8HA3C4AuOH1W2t+2nj0E5VNwii7uvbMoYu1n3gIAAMZCcMpzobtXyVLxKOtB0rnxDfJfqtb3rXcZEGg/Sq6q99gHLcGbZ7ibAoCNxX2PdlxaxB5+8jk4yceGLb+h8PCtFN8YAEDmIDjpiCfgpGXHp2pyIJ1Z/zNqv3f+4YdJEfIeW812QLQv/zF5j6+l8IiZr8F1SvLayX9+JznW/Rvb9+Pa9YdRQVbyu8m1Y5omn2X95J8o2HN+nBaBfOLy22nV6Q81DRZfnJ9LI+6BUZ9r9QzpYipxBKdEAeq3FI6Z/ZTowfOYnvoFmn6uY/UrOXGbOACoB8EpD0Vc98mx4icZP/hZP32cPAc+pdBtfL/pCg/3kPfoH9kml8B3BbnO7h2hHZcWsocdNZb3ap+h8gMv0tX+s0T04PUKtkVPk+2z75F17mNkZb67QHGA2v4uhTETHwAwQnDKM8Ge85k/2G14nQLXjnBXPesFb10g1873M/79eU9uIJLw4lzILYGwnw53bmMPO6mW8gMv0rITv6OqlkV0tGs3Xe0/Q11DrWS2Xqd7DjPZvMPkDbooIqX5biRJIsnroPBwDwV7zlPgch35Tm0iz8HPybXrA7JXvkCWmd9kD0njLZ76BST5nNpuIAAACSA45YtImLxHV2Y2MG3+NQVv4HkZtYUHOsldPT2z3+X6X5LkdXBXHUAV1waa2QNR/DLvyBu0oXkW7b+2gc7fPky3RtrJHeDb58L3eynQcYy8x9eRa/dHZF/6HHtgil/8pr04qQMAGYXgxOiew0yzG8pUPwCvb64gl98uf07EeZ/sy/41Ywcz1/apFLx1kbFl80N4+Ba5932S0YFKaKDzYQFCAXLt+oPqn2H95LsU6u/ga1jIqNqrazQJIrMbyqjlTtOoz7J4BmlJ07vsIclYPYXmHPo5VbUsoovmo2TzDvM0/gRFnPcp0N5InoMLybHmVfbgZCmfTPaFT1F4qHtUOYPXT5B9Wakmn+c9upKp9QFADxCcclyw+1zmAtOuP+TFNOJ6E7H1P3hIevo3MvI9+1tquasMMCGhSJAau3ayBqWZ9S/T1ovzqbm3ge67cmOqbSkUoOCNM+Spm0+2xT9kDVCeQ0tICni5mwQAchyCU66SIuQ9sjwjByz3nhmYeUgHIq4R8hxeRpYZxdp/57s/Iink564yQEo999vo3eonWcLS/CO/osOd2+me4zZ3M2REaKCTvMfXkmNNGVuAwu3hAKAlBKdcFA6Sa9u7mh+gHOt/QaHbJu7aQpyItY9cuz/U/Pu3LphCksvCXV2AhAJhH227uCDjYenjAz+h6ssr6dbINe4mYBWx9ZP3xDqyL/9xxsOT68uPSXJbuZsAAHIQglOGHbi2QfUDdXPvQXn9kt9NjpU/1XbA/Ml3yXeuirEVIR2BjmMZGbTEPl8QHuom26Kn1R0EVf2esRVBbXuvrlW9D9zdunzUZww4ejMemDadm0NX+k8ztaq+hXovkXvvbLLO/seMBqj4E3uew0tV/wzHmlcp4hhkalkAyDQEpxwiuS1k++S7mh6I3LWzKOLGVYZs4j22KgMDFOyzoA9nbh3IWFhaeOy3dLpnP3kCmBo7LZEw+Vv3kWP1KxkLTz68TgEAVITglCMi1j5NDz6O1a9QsLuZu5ogKDx8i1w7fqfpNoJnC4CTJ+CkP576Q0YC07LjU+ly30nuKme1YNcpcm59OyPhybHmNZI8Nu4qA0AO0F1w+trXvka9vb3cxcgq4Xtd2h10Kh4l3+kvuKsIKglcbdB09qtA22HuKkIeMluvZyQwrTz1AV27d467ujkl1NdO7pqZGQlQoTtXuasLAFkOwUljI+4Bmln/smoH7s+P/pqsniF5/aHeS5odZJwb36Cw5Q5j64EmImFNByr+S3vkj5K8dnKs+7m64ayzia/tYML2tan7TFNj185R6z9zq07zwLT27AzqGsJEOFoKW+6Qu6ZC8/DkO7OViB7euudvqSHL9EdUW79rxzS+RgQAzSE4ZbFAx1HNDi6eQ0u4qwca85/fpd3g5PRm7upBjguG/bT5wqeaBqZN5+bk/ex4mRbqayfXjmmahifnxl+R5MNzaQAwcQhOWcrfUqvJAcX6yT/hdqs8ErrbRvbKFzXZlrxHV3JXD3KUy2+jGXUvaRaY5h/5FbUN4JlOTsGe8+Tc9KamASo8kh/v1wIA9SA4ZaFA53FtzsJtepMi1j7u6kGmSRFy187SJjwdX8tdO8gxQ847ml5lOtS5jbuKEMPfup9s8/5Fs/AU6sMVRQBIH4KTBvrtt2jqnu+rdiBvjZm9KXTbpMnBw3N4KWOLgR74L3ypTXg69XBykYhrhOxLfqTauoPXTzC2GCRypf+0an3f7IYyumu7Ka/7tqVTs8C08dxsGnLeZWw5SEby2DV9LjPY/XDCj4htQNV3IfovfMnYcgCgNgSnLBIevKn6AcM693EKXDvCXTXQiVBfuyYvUPZfquGuGmS5zsFLmgSmOYd+Tq13EcCzQaDjmGazguI4CADpQHDKEhFbv+oHCvuK53GPN4wlSZq88yl44zR3zSBLme4e1yQ0Hbi2kbtqMFHhIHnqF2gSnvwXq7lrBwA6h+CUBSSPTfUDhGP9L0lyW7mrBjqmxdTAof4O7mpBljnds0/1wFRx8BXqHLzIXTVQINh9TpOJbbwnN3BXDQB0DMFJJQ6fhcrrXlTloL6z5eFU4FLAS7Z5JaoeGFzbpxJFIoytBdnC07BY9YFJ7AQknkNLVFtvsOvkODUBLZ1SKdwsbnqHAmG/vN5DHdtUD00bmmeRO+BgbC1Qk7exUvU+ynNwEcW+68m9Z4Y6x96d7/E1FACoAsFJz8JBcqx6WdUDgnvPDO5aQZbxnlin7sBk+jdI8tq5qwU619CxVfXQdOT6Du5qgQYCVxvIWvGousfKvbOIJCn1hwNAXkFw0itJUv0lgJ6DC7lrBVlK7Zfl2hb9kKRQgLtaoFPnehtUDUyzDr5K1wcvcVcLNBS+d53slS+oG572zeWuFgDoDIKTTvlOrFf1AID36YBSgasNqm6TrirctgJjtd87r2po2nhuDm7NyxNS0E+une+re+xsWs1dLQDQEQQnhZafmKbKwb2+fZO8ztDtFlU7fv/5nYwtBLkkePMsWed8R7Vt09e8XV63Wu8osy38AVE4xNhK+aGufZMqfV/bwFl5nbet13FrHijmPbZK3WNoy8PXKYTutpF11j8oP3G0833GFgIAUQhOOiO5rap2+L5mDBxAXcHuZlW30dAtzG4GRMOuPlVD0+me/dxVAkaBqwfJouJzT8GuU9xVAgAdQHDSEylCjtWvqNbR4xYD0Eqg7ZCq4SmCqfHzmtNnpXf3PKlaaDLdPc5dJdCB8EAn2Vf8RL2TPHfbuKsEAMwQnHTEd3KDah28p34Bd3Ugx/kv7FZte3Ws/TlmsMpT/pCXptf9VJXA9P7eZzEJBIwScY2oOjtt2HKHu0oAwAjBScCtkXZVDvKxb60PmVtV69jd1eV8jQN5xaviJCaxt5X6L1arss7YZxNAufr2LxT3e6tOfyivLyKFaeHR36rSn1YcfIXM1i7G1gG9kjw2cqx5VbW+KuK2yOt275ujeH2uXX9gbB0AmAjdBaevfOUrZLPZuIuRUZLHplqH7tz6Dnd1IM+o+RLb8D0MfPPJloufqRKaFjS+Rfdd/dzVAR2TvA5yrPu5Kv2Udf738DoFgDyF4MRNksix9jVVOnPHup8ThYPcNYI85K6dpU54mvEISQEvd3UgA05016gSmlacfI88ASd3dSALSH43OTe8rkpf5dr9EXd1AIABghMz36lNqnTi9uU/pohrhLs6kMfUemEzbjXNfTeGWlUJTYuO/Zb8IQRtSJ8U9JNz05uq9FW4FRgg/yA4TUDNldUqnB39vby+8OBNdW4bmPUtCg/fYmwZAHpw9VSlh7AD10/Iq/Uc/Fzx+hzrf8HYMNnNH/LSjLqXFPV7fzz18BkOu3dEldA059DPyeoZYmwZyFrhIDm/eEuVvio83COv1l07W/n6cLsygK4hOHGRJLItfEqdQeblOu7aABDRg+l/LdMfUWW7lrwO7uqAyiJShD49/EvFoemj/c9Tn72buzqQzaQIObe8rfzEZcWjJIX83LUBgAxBcGLibz2gyuAS046D3vgvqTMjnmvXB9xVAZUd6tymODS9W/0k3Ry+zF0VyAGSz0n25c8r7qvce2dzVwUAMgTBiYHktasysHSs+zl3VQASUmOKXkv5ZArdNnFXBVTSM3JNlVv0rvSf5q4K5JDwvetknf1txX1VsLOJuyoAkAEITmnYdG6O4oP9+duH5PW5a2Yovz1g1j+MurcaQG8cf3xJ+XZe8ShRJEREROHBG4rXZ19Wytwq2eP4zT2K+rylx6fK63IHHKqEpubeBsYWgVwV6DimyomeiP2evE6lE1B4Di5kbBEASAbBKcNCfe2qdND+1gxljSMAACAASURBVP3cVQEYV6i/Q51t/fwu7qqAIhKtOPme4tB0tGs3d0Ugh/nOblN+YmbxM0SRMHdVAEBDCE6ZFAmTZc53FHfOnrrPuGsCkBb/hS9VCU+S28pdFRBkuntccWiqalnEXQ3IA576BYr7Kt/pzdzVAAANIThlkBqDSMdaPNcE2UWNKXpdeLdTVvIEnIpD04LGtygiRbirAnnCte1dxf1VeMTMXQ0A0AiC0zh2mZYpOuDPbiiTD/iSy6LKmffw0E3mVgGYIClC9qXPKd72QwPX5VXaK19UeALiNcYG0Telz3SevfXw9QhVLYsVByez9fo4pQVQl+R3k73yBUX9S+yzlKHbJmV91R9fYmwNAIiXMjiZzWaqqqoas2hFT8FJTa4d0xQPHL3HVnFXA0BIoL1R8fZvW/AkEUncVYE03bF2KQ5Np3vwLCdknhrPZwY6jnFXAwA0kDQ4mc1mKioqIoPBkHDRKjzlYnAKD91U3AljNjDIdq6d76swGGnirgakISKF6f29zyoKTTvwXBMw8p3cqLi/kgJe7moAgMqSBqfS0lIyGAxUVlaW8IqT2azNPby5GJycm3+Ds1eQ98KWO2SZ/ojifSE6PTno18nuvYpC02eNb1JEwuxkwMu56d+V3SXSuIK7CgCgsqTBqaioiEpLM3+VQw/B6cC1jYoO+h/tf57C0XfPjJgVDxRduz5gbQ8AtXhPrFd+EuHyAXl9rt0fKVqXc8vbjK2hL0qeR5pZ/zKFwgEiInL4LIpv0btt6WRuDQCi8HBPypM98S/p9h5bNerfI9a78r/Zlzwr3ldtejPT1QeABJIGp5KSEiopKclkWYiIyGDQ3XwVirh2vqdsoDjjEYpY+7irAaAapRM7WMonE4Vx1UmvtlyYryg0nerZx10FAJmveUfyK0p/eu5YPqlztYEkn3PU7zjW/htzDQBATUlTSmNjIxkMBmpsbMxkeXIqOEVsA4oHiL6TG7irAaCqYNcp5Ved2jPbL0F6Bhy3FYWm5SemcVcBYIxkU5THB6X4IBVdgt3nmGsAAGpJmlLKysqooKCACgoKqKioaMyiVaDKpeDkrpmpaHDoWPlT7ioAaMK9Z4ay8FTxKJGEGfb0ZvGxtxUFp56Ra9xVABgjYusn6+xvJ+yLJJ+TIvbBB1fCiShwtWHs7838P3g2EyBHjBucEgWm6GIymZL9qbICMQYni2dQ0UF/6p7vk8v/4PmsiHNY8Vn14I3TbG0BoKWIY4iss76lbP+4dVFen31ZqbIrWG2HGVuD196raxVM4vDv8nr6bN2K+s89l1cytgLA+PyX9iTtPySfk4iIwkPdSX/Hf/nh+82UnDhyVb3H1QQAQDp8AW6uXHHy1H+uaCDn2j6VuwoAmvI2rVa0j9iX/Ii7ChBjyXGjcGgqr3uR/CFM3Qz65tz861F9UPTWvOjMueGhbiIae6tedKE/TaACANkrZUppbGzUdPrxeLkQnCSPTfnVppiz6QC5SPI5FV91Cg1g9jU96LP3KLra1NzbwF0FgJRCt1tH9T/hoW4K3TaNufoUP7OefGX76kHuKgCAQmm/ADf6wttJkyZRWVmZdgXKgeDkbaxUNBh0bv41dxUAMsJzeJmyfWXjr7irAES09Pi7wqFp1ekPuYsPkDb3lx+PCk7R55seHLt/Q0TjvLtx+iNEkQhzDQBAiaQpxWg0UkFBAVVVVY0KTpWVlVRQUKBdgZiC0+7W5YrOmN4cvkxERJLfrfxqE55tgjwRcY2QZfo3FO0v0en6I/Z7itbjWPsac2tkVufgReH+ruLgK/J6+hVebbpj7WJsBYCJCd/vHXOFKVbCySFGHd/PyL/r+ONLwv2V/1J1pqsOAJTmC3Bjg1Oi/1a1QFl+xSnQfkTZGfQNr3NXASCjPPULFO0znoZF3FXIa8tO/E44NO1rW8ddfIAJ8zQsEu6vbPOf4C4+ACgwbnCK3pIXG5TMZjOC0zjsy/5V0SAw0HGMuwoAGRWx9inaZyzlk0kK+rirkZcGHLeEQ9O7e54kp9/KXQWACZO8drLO+Y5wfxW6c5W7CgAgKGlKKS0tpaKioge/FBOUjEYjGQwGzSaLyObgpHQKcsfqV1J/CEAOcu+bo+yEQ/tR7irkpXVnZwoHp5orq7mLDyDMd3KjcH9lX/Uz7uIDgKBxJ4eIvvzWYDBQcXExTZo0iQwGg3wLnyYFynBwsntHFN2fH/ume9/ZrcoGf5hxB/JUePiWon3HXvmCvK5kM1qluwS7zzG2RGasPv2xcJ8XvUrk8FkU9Z0WzyBzKwAoY1v8Q+F+JjzcQ0REktdBlpnfFOv3lv+YuQUA8s+4KcVkMlFJSQkVFhaSwWDQfEY9oiy+4iRJqg38APKRu3q6on0o4sZtX5l0tGuncGjaZVrGXXwAxfwttcL9lWvXH7iLDwACdJdSsjU4jffG8HQW//md3FUAYBW6c1XZPtRSy12FvCFJEXq3+knh4DTkvMNdBQBV2OY/IdxnSV4Hd/EBYILwAlyVuOvmKxr0SV47dxUA2NkrXxTehzBbVebcsXYJh6btlz7nLj6AaryNK8RP9lzElOIA2SavX4Dba+lQdI/+lf4/vW8pHFQUmlxV72WszgB65ju5QdG+FLHfIyKi8OBNRevxndzA3BLauGPtov/1+H+R+/X4Pu2fXy+iv/rbAvnfJ/3vv6FfrH5szO11X5yfK9xv9tm7+RoAQGUR24BwP2Od+7i8Ht/pzcLrCbQ3MrYAQH7R1QtwbTYbfeUrX9Fk3VoK3rqoaJCGGcEAHojY+pUFnjObuaugWyaTSZ7gJ7rEqqysHPVv0aW4uHjU7/lDXuHQ9MX5uZmsMkBGuHZ/KH6yx9bPXXwAmABdvQA3W4OTc/NvxM84zSvhLj6Arji/eEt8f5r9be7i61ZVVZV8x0Ci4FRcXEwGg0G+o6CxsVH+vdhbtVvvnhAOTrdGrmWyygAZEbx1AVe3AfKErl6Am43BSfK7FZ0h99TN564CgK74TXsV7VPhEUw8MJ7oXQTxwSl6a7bRaCSiB3199ApVbH8/6+CrQqFp/pFfZbSeAJnkWPOqcJ9FksRdfABIk65egJvJ4NQ20Kzo+SZf0E1ERCFzq6JBXsjcmpH6AmQLKegnS8Wj4mdwz26V1+VY+VPh9XiPrWJsBfU13fiSjNVT6Kmpf5/wGafYZ5/ilzUbK4mIyOIZFO4zD3duZ24BAO0omZo8PPTgnU4Rx6D4SdiDC5lbACA/6OoFuNl4xcl7eJlwR2df/jx38QF0Sck7nWyf/V/u4utasitOZrOZSkpKHk4MMWmS/A6/6ImzQ53bhIPTfRee5YDcJjo1uadhEXfRASBNunoBbjYGJ8usb4mf0T6+jrv4ALoUvHFa0ZVcvB8luWTBKZGCgoJRdxiIhqaVpz7QuloA7DwNi4T7LIqEuYsPAGlIeuQ0mUzU2JjZKS6zLThJXoeiwV3Ecpe7CgC6ZVv4lPC+Fbp1gbv4ujXeFadonx979Sl6y7bVMyQcnJp7D2a8ngCZFuptEe+z+ju4iw8AaRh3coiSkszO+Jap4HSut0HR802hcICIiII958Vv06t8QfN6AmQzd02F8P4Ve7+/c8Mb4leFjyxnbAH1HLleNerZptjlz//iz8Y8+xS7RG/Tu2huFOovp+55ivwhL3MLAGSGbcGTYn1Ww2J5HaIzi3oOfMpYc4D8kDQ4FRcX52xwUou7br74wK7uM+7iA+ia//IB4f3LOutb3MXXndgrTbFL9L188e95Ki4uHjWbXuXJ94WC05YLmDkU8od7/1zhfosIs+sB6F3S4NTY2EgFBQXy1LSZkG3BSbRztJRPpkDHMe7iA+haxH5P0T4m+VzcVcgZoUhQ+Ar9tXvnuIsPkDHBG2eE+6yIa4S7+ACQwrhXnJJNTYv3OBFJbquyQR0eXgdIyb7sX4X3MUz1r54BR69QaPr4wE+4iw6Qcda5j4mdUL1+krvoAJBC0uBUWVlJZWVlSZdsfY/TsKtP+MzptJqnSfrTpfRg1ynhAZ1j9Sua1hEgV7j3fyq8n3kbV8jrsS9/Xng9vrPbGFtAuYaOLUL93dzDv5TXcezGbqF1bDo3h7HmADxEX6fgrpkpr8O56U2xddTOYqw5QO5LPR9tBmXTFSd3zUzhgZjn0BLu4gNkhUDbYeH9zDr/X7iLnzNmN5QJBadTPfu4iw6QcYH2o8L9Fp5zAtC3cW/VS/Z8U2lpqTzrnppXnrImOEmScKdoKZ9Mwa5T3DUAyAoRt0XRviYFMJubUv6QV/gq/T3Hbe7iA2ReOESWikeF+qyI28pdegAYx7jTkUdffFtQUEAVFRVERFRRUUEGg4FKS0upoKBAfseHGrIlOEk+l7LBXNDHXQWArGFf+VPhfS08eJO7+FmvZ+SaUGiaWf8z7qIDsHFtM4qdWL15hrvoADCOcYNTQUEBVVZWUklJiTxlbUlJiTxNeXR6W7VkIjjNO/KG8NnTPns3ERGF7/cKD+Qc6/5N0/oB5BpP/QLh/c3ful9ej23+E+InO/xuxhYQJ/rupQWNb8nrqGvfKLSOrRcxDTnkL+/xdUJ9jWffJ/I6HKtfEVqH79QmxpoD5LZxg1NpaSkRPXiLfHQmvaKiIiorK3u4giwLTmoIXj8pPADzNlZyFx8gqwQ6m4T3N/ee6dzFz3qzDr4qFJyaew9yFx2ATbC7WajPss76B+6iA8A4dBWcent76Wtf+5pq69OK74TYmSRL+WQKtDdyFx8gqyh5n5Pts+9xFz+rhSMh4Sv091393MUHYKPkln7J5+QuPgAkkTT1GI1G+dmm6DudTCYTFRYW0qRJk8hsNlNlZWVeBifn5t8Id4jhITxzATBR1tn/KLzPkRThLn7WcvqsQqFpTsNr3EUHYGdfIfYahFB/B3fRASCJpKnHbDZTUVGRPDlE9P8bDIYx/18tWgen/W3rhc+eVl9eKa/HMuMR8UFcOKhZ/QBylUPBBBGSz0VEym75c+36gLkFxEyreVqov7P7RoiI6LalU+jvq1oWMdccgJ+7pkKov/G31MjrsM4rEev3PDbGmgPkrgldLmpsbKTGxge3mlVUVKj+ItysuOIUDgoPvmyLf8hdeoCs5Nr1gfhV3hFMiS2qufegUHA62b2Xu+gA7PyXqoX6LM/+udxFB4AkdPUC3GwIThHXfeEBnHPLb7mLD5CVvMdWCe93we6z3MXPWtsvLRQKTteHWriLDsAufK9LqM+yr3ieu+gAkASC0wSF7rYJD+A89Qu4iw+QlQJX6oX3O9/ZbdzFz1rT618SCk5WzxB30QF0wTrnO0L9FpHEXXQASCCvgtN7e38kNAh4b++P5HX4TfuEB3D+C7s1qxtALgv1dwjvd67dH8nrcaz6mYIrV82MLTBxu0zLhPq7Q53biYgoIoXF+svaZ5hrDqAfzo1vCPU3UsBLRER+016xfm/7VOaaA+SmvApOanAfmCc+8Oq5wF18gKwk+d3C+5194VPcxc9Kbr9dKDgtOPpW6pUD5An3nhlC/VbEhun8AfRo3OBUWVkpT/5QVVVFJpNJ08JoHZwqKytp0qRJ8kyBJSUlCSe3iE6/bjAYyGg0jvo3+7J/FR7ARRyDmtUNINfZFjwpvO+RhNteJuqu7aZQcPriPB5sB4jyHv2jUJ8V6sVzggB6NG5wir70lojGvPhWC1oGp6qqKjkMxS4lJSWjfi/6bqroEl9nS8U3hTpB65zvaFIvgHzh3Pgr4eAkhfzcxc86l/tOCAWngx2buYsOoBv+llqhPgu39gPoU94Ep8Vr5tF//u9/TS99/i0yVk+h//zf/5oMBgP9zX/7T/IB/xerH6OCv/oL+vO/+DMq+Ku/IIPBQP/r8f9CNVdWyesRvl0Is+QAKCL6ThRL+WSSPHYiIgp2nRReh7dxBXMLpE/0xbWzDr4qr+PI9R1C67h05yhjzQH0Jdh9Tqi/cdfOltch/CLdvnbGmgPkprwJTvHKysrGvMA3+jOj0Si/5HdUnaWI8KDLsfa1jNQLIFd56hcI7394XmDitl5cIBSc7li7uIsOoBvhkdtiJ1uXlXIXHQASyMvgZDabqbCwkAwGA1VWVhIRkclkIoPBQJMmTSIiShycwiHhgZvzCzwwDaCEt7FSeP8LD/dwFz/rrDz1vlBw8gU93EUH0A0pFBDrt6Z/g7voAJBAXgankpISMhgMVFr68IxOdEKIxsZGIkocnKSgT3jg5qr6veb1AshlvlObxINTfwd38bPO3EO/nHBomlbzNHexAXTHNv8JoX4Lk9oA6E/eBKeaK6voF6sfo7/5b/9JfnYp9oCfaOKI6PL0j/8vERFJPpfwwM29Z4Ym9QLIF/7zu4T3v9DtBzOCRtwW8avGm3/N3ALpu9p/Ruhq0Y6WRfI6fl/7zIT//qP9eJYTIJ5j9StiwSkSJiIi3+nNQn+PCSYA1DducCooKJCvwBQXF4+ZmlttWgYnk8lEhYWFVFBQQBUVFWP+vaCgIGlwigZGScGgy1M3X5N6AeSLwOU64f0vePMsd/GzjtLJJQDgAVfV74X6LSkU4C46AMTJmxfgRid+SLREw2GsRLfqRWwDwgM375HsmZELQI8CnU3C+1+g4xh38bNKRIoIBaf5R37FXXQA3XHXzhYLTgEvd9EBII6uglNrayt9/etf12TdRqNxQsEp+sxT7FW28P1e4YGb7+QGTeoFkC+CPReE9z//5Tru4meVUCQoFJyWHn+Xu+gAuuM58KlYcPI6uIsOAHHk4FRRUUFlZWXjLmazmYxGIxUXF5PJZFK9MFoGp0XH3hYaCBirp9CQ8w4REYX6O8WD07mdmtQLIF+E7raJB6eYe/0tMwVfYv3pPzPWfmL2ta0T6utO9+wnIiJfyCP096tOf8hccwD9EX2VQsQ1QkREwRunhf7eXTuLueYAuUcOTtFb08ZbGhsb5d+LThqhJi2DkxpCvS3iA7fW/dzFB8hq4eFb4icuTn3BXfys4vLbhILTxnNzuIsOoDueQ0vEgpNtgLvoABBnwrfqmc3mhLe2qUHvwSl4/aTwwA3PWAAoE3EMCu9/3qMruYufVeze+0LBafulhdxFB9Ad0XfQhYd7uYsOAHHy5hknNQS7FASn9qPcxQfIahG7eHDyHFnOXfysYvUMCQWnPZcRUAHieZtWiwWn/k7uogNAnLwJTuubK4SfcbL7HtxnrOxWvX2a1AsgX4SHe1S54mRb+JTQOqwVjzLWfmLWnZ0h1NeZrdeJiMjiGRT6+7r2Tcw1B9Af38kNQn2O/P45W7/Q39srX2SuOUDuyZvgpIZQf4fwwM13Tv1nwgDyiZLJIbxNa7mLn1VErzjtb1vPXXQA3fGd2SLUbwV7LnAXHQDiIDhNgJKH070nMKAAUCLYc178xMX5hycuzGYzlZSUyC+9njRpElVWVo76rMbGRvmVBNHf0WImUb1y+EaEgtPuVtwSCRDPd65K7IqT+TJ30QEgDoLTBCh7AS4GFABKBDqOCe9/gbZD8nqSzSAaDUYmk0kOVbGLFjOJ6pXorHpbL37GXXQA3fFf+FKo3woPXOcuOgDEyZvgtLt1ufAzTh2DDy6XR1wjwgM3z4F5mtQLIF/4Lx8Q3v+CN88SEZEU8NDXv/qX9MFjXyVL+WSqefnv5GC0rvRrZCmfTN/92l+RwWCg//G3BdT0+v+Uf6/9s58wt0D69l/bINTXtQ00ExGRJ+AU+vv1zRXMNQfQH++J9WLB6f5tIiIK3bkq9Peu3R8x1xwg9yQNTsXFxWQ0Gsf8PHo2NttegKsGyecUHri5q6dzFx8gq/nP7xTe/0J325KuN/6KUmFh4agrUPnIF3QLBaeVpz7gLjqA7ngOLhTqtyL2e9xFB4A4SYNTUVERlZWVjfm52WzO2xfgSkGv8MDNtWMad/EBsprv5Ebh/S88fCvhOo1Go/wMU1Q0SMU+41RUVKTZ++v0KBDyCQWnxU3vcBcdQHfc1dPFgpPLwl10AIgzJjiVlZVRUVERFRQUUGFhIRUVFY1atDwbq/fgROGg8MDN+cVb3KUHyGrexhXC+1/EPjhmfY2NjVRQUDDmCnqi55+iQSpfBMMBoeA078jr3EUH0B3n1reF+i3J5+QuOgDEGROcSktLxw1ORUVFY2agUouWwelw53bhZ5yOXP/T1TUpIjxwc6wp06ReAPnCU/eZ8P4neexERBS4epAs5ZPpg8e+Sv/xz/+M/utf/weqefnvRv1uNCjFPt8U/Vm2uGA+ItTXHe3aRURE4UhY6O9n1r/MXHMA/XGsfU2s3wr6iIjId2ar0N/7zmxlrjlA7pnwrXpa0v0VJ5KEB2725c9zFx4gq7lrZooHp4BXXk9ZWZl8+53ZbB7zOdGr6tETRJWVlWQwGKiwsDBjddUDkeD0h33/yl1sAN2xL31OqN+iSJi76AAQRw5OZWVlVFJSQrH/rdWVpWT0H5yILDO/KdQBWmd9i7voAFnNueF14eBEkZC8nlS34kWDVfyS6RNJ3GYdfHXCwWnqnu9zFxtAd6yf/rNYv0USd9EBII4cnOKvMOGKU2KOtWXCg7eIbYC7+ABZy/bZ98SDU8wAJNE7muKfYSotLZV/r7CwMO9CExHRuuaZQledHD480A4QyzL9GxM/2TrnO9zFBoAE5OBUUlJCBQUFVFZWRmVlZfLzTdH/jl+0mByiqamJHn/8cdXXS0Tk8tuFn3H65NC/yevxHloiPHgLdjdrUjeAXKfkVQC2z74nr8e16w/C6wlcrmNsgYnpt98SnNzhDXkdB65tFFpH9/2rjDUH0BfJYxfqbxwrX5LX4dr5ntA6Qr0tjDUHyE1ycDKbzaOm3021aDEduZbBSS3Rh8tFFt859dsMIB+E7rYJ73fOrW9zFz8rnbt9SCg4ne2t5y46gG6EBzqF+i333tncRQeABHQ1OUQ2BKdQf4fwAM5TN5+7+ABZyX/5gPB+5z2+lrv4WenGcKtQcKq9uoa76AC6Idp3+c7t4C46ACSQNDhVVlZm/IWP2RCcIi6L+JlvvMsJQIiSdzgFb5zhLn5WGnb1CQWntWdncBcdQDc8grf349Z+AH0a98UkZrOZjEbjqGeaqqqqEk7hqwatg1P15ZXCzzmd6tn3YCUKXoJrW/gDzeoGkMtcVWL3+FvKJ1PEcpeIiML3rguvw7HqZ8wtMHHbLn0u1Nddu3eOiIi8QbfiZ0IB8p1zy28V9Vuh3haxPmv1K8w1B8hNSYOTyWSigoICeWap6DNNxcXFo6YtV1M2XHEiIrLMKBYegElBP3fxAbKOvfIF8X0u5h1OkL6IFBE+0RSRItzFB9AF2+ffR78FkEOSBqfS0lIqLCwks9k8Kjg1NjaSwWDQ5KpTtgQn58Y3hQdx4XvXuYsPkHWsFY8K73Mg7oN9zwkFp3sObe5KAMgmktehoN/CO5wA9CitySHiZ9HL51n1iIi8R1cKd4aBtsPcxQfIKhFrn/D+5lz/Onfxs9q6s2Lvcrraj+fKAEK3TWK32a16mbvoAJDEhIOTyWTK2uDkCTiFbz2ZVvO0vJ5A+1HhgZzn8FLN6geQiwLXjgjvb96mhzO82T5/UvxK8UAnYwuIcfltQn1ded2L8jpO9ewVWkdj107GmgPog//8LrF+69DDcYJ9ybNifRbubgHQRNLgZDQax9yqZzab5RflaiFbrjiFh28JD8Aca17lLj5AVvEc+FR4fwt2neIufla7bekUCk7rmyu4iw7Azr1frO8KtB/hLjoAJDHurHqTJk2SJ4coLCyUX35bUaHNQTFbgpMU8AoP5Czlk0nyubirAJA17MufF79SZLnDXfys5g26hILTh/t/zF10AHaO9b8Q67eGurmLDgBJjBuciIgqKiqopKSEioqKqLS0VJNb9KKyJTgREVk/+a7wYC7Q2cRdfICsEHEMKjtJgVksFftdzQ+EwpPZiluFIH9JQZ94v+XHyVUAvUoZnDIpE8HpzK064eecFjQ+fIGt59Bi4U7RU79A0zoC5IrAlTrh/cz26cO+xF07W3x/PTCPsQWU6Ri8qPhWuy0X5gmt42jXbsaaA/AKdDYJ9TfW2d+W1+E9Ivbib0/dZ4w1B8htcnBqbGykqqqqtJd8no6ciCjUe0l4IGavfDH1BwAAuWtniQeeg59zFz8ntNxtEgpOq898zF10ADaeA/PE+q2GRdxFB4BxyMGpqKhIfoYpnSUbZ9VTk5L3M1jKJ1PEbeGuAoDu2Zf8SHgfC926wF38nDDs6hMKTu/t/RF30QHY2Jc+J9hvXeQuOgCMQw5OJpNpQlectJBNwYmIyDKjWHhQh/c5AYwvYrmr6OQEJmFRRygSFL69ued+G3fxATIufL9XvN/yOriLDwDjyLtnnIiIDnVuFx4ILD8xTV6Pp+4z4c7RvX+u5vUEyGb+llrh/cs2/wl5PaLPCVjKJ5Nj/S8YW0Adu1uXC/V1NVdWy+uYe/gXQus41LmNseYAPHzndgr1N9ZZ/yCvw9Mg9hy1Y/UrjDUHyH3jBqfGxkZ5Rr3ootVU5ETZd8Up2HNeeEBmX1bKXXwAXXN/+bHw/uU7sZ67+DnlaNcuoeC08tT73EUHyDjX9qlC/VY2T0QDkC+SBqeqqioyGAxUUFAgh6bou5xKS7UZ9NfU1NCzzz6rybq1IHnswgM7S/lkCg/3cFcBQLds858Q37fudXEXP6cMOHqFgtPUPd8nf8jLXXyAjLLO/rZQvxXEc5kAupc0OBUXF1NhYeGY2fOMRiMZDAYymUyqFybbghOReAdpKZ9M3qMruYsPoEuBjmOKTkpQKMBdhZwSkcLCtzef7a3nLj5Axii5EwXvbwLQv6TBqaioiMrKyhL/kUaz6mUyOO25vFJ4ILDmTLm8Hs+R5eK36y3BrFMAibh2fSC8XznX/UKd9Wz6d8YWUNeWC/OF+rpN5+bI69h68TPcrgeQgqduvlB/Y1v0AyIiMpvN9Njf/x39xz//mvXwYQAAIABJREFUMzIYDPRf//o/0GffnzTqd1/8+7+hv/l//lye5fjrX/1LuvL2/0eOdf/GXHuA3Jc0OJWVlVFRUdGYn5tMJlxxihEe6FR0ZjzYg0vzALEkn1PRPuVv3c9dhZx0Y6hV+GTTfVc/d/EBtCdJZJ37mFC/5TuzlYiSvxomOuaK3vUTvxQXF3PWHCBvJA1OZrOZCgsLR00GYTabadKkSUmvRCmVjcGJwkFFgzz33tncNQDQFf+FLxXtUxH7Pe4q5CR/yCccnA51bucuPoDm/K37hfut8MiDxyKKi4vlcVdjY+OYd2dGg5XRaCQiooqKCjIYDDRp0iSeSgPkmXGfcUr3ZbhqycrgRETu2lnCnaV1zneIJIm7CgC64dzwunhwqniUu/g5rfLke0LBad6RN7iLDqA556Z/F+67ko0D4oNTWVkZGQwGKikpIbPZLP+3Vie0AWC0pKmnsrKSysrK0lrUkungtMu0VPgMqrF6CrkDD15UF+pvV3SGPHD1YMbqDKBnSl4caSmfTL6TG+R1OVa/Irwe59a3GVtBG4c6twn1c3MP/1Jex7WBc8L9Zc/INcbaA2grPHxLuL/xHl8rryf2xNGbj/6/8nNOsb//9P/8yqiT19/92l+Rc9ObjLUHyB+6egFutl5xokhY0WDPtc3IXQMAXfAeW6VoXwpb7nBXIaf5Qh7h4FR9uZK7+ACa8SqYKCpiuTtmfY2NjVRQUEAFBQWjnik3m83y7XrR/y0oKND0HZsA8NC4wclsNpPRaKTi4mJ5lj0tJoWIytrgRESeQ0sVDfgizvvcVQBgZ19WKrwPWT/NnpdnZ7MVJ38vFJw+2v88d9EBNGNb8KRYvzWvZMy6KioqqKCggCZNmkSNjY2j/i0alqI/jz4HVVBQMOb1MQCgvnEnh5g0aRIZDAYqLCwcNdNLZaU2Zw6zOTiFh3sUBafojDoA+SrUe0nRPhS4jNn0MkHJ7Xqmu8e5iw+gukD7UeF+y2/aN2pd0WeWioqKEgah+GeeojMdx4YpANBO0uBkNBqpoKBg1PuazGYzlZSUUGFhoSaF4QhO1wcvKXrOqbn3T88nSRJZZn5TuPO0L8nOwAigFtfO9xQFJ8nnJCKiUH+HovW493/K3BLauWg+KtzXXR9qISJlt+stacJtyZB7XNunivdb3j89K33bRJbyyUkn4fr6V/+SLOWT6X/8bUHCf9dqXAYAo437AtzS0tIxP4+e3dDizEY2X3EiIvKd2KBowOZvqeWuAgCLkML3obm2vctdhbyy49Ii4fDUNnCWu/gAqgmP3BbutxK9ZLugIHEwir6nyWQyUXFxsfx7BQUFVFxcrOljFADw0LjBKdmMebGXidWU7cEp4hhSNPizr/gJdxUAWLiryxXtO6E7V7irkFcGnXeEg9OKk+9xFx9ANe7a2eL9Vs8F7uIDwAQlDU4lJSVUVFQ05udVVVWj3mKtpmwPTkREjjWvKhoABq7Uc1cBIKOUPh9oKZ9MFAlzVyPvzGl4Tfy2v8FL3MUHUCw81K2s3woHuasAABOUNDhFZ2opKiqiiooKqqqqotLSUiooKEgYqNTAGZym1/1UeBAwu+E1eT3B7vOKOlLH6ldY6g/Axb1vjqJ9xndinbwu54Y3FK0rPHKbsSUyIxwJ0bTaHwr1dQuP/VZeT/u988J95uozHzO2AIA63HtmCPc1nkNL5fW4dkwT77PwCgaAjBp3OvLKykoqLCwcdZ9tsple1LBx40Z67bXXUv+inkVCis+eBzqOcdcCICMi1j7F+0vEMchdjbwUjoQUTazTff8qdxUAhIUVPpeJV5AAZKe0XoDb2NhIVVVVmr8jICeCExH5L+xSdtVp/S+5qwCQEZ76BYr2lUQPV0PmHO3aKRycNjTP4i4+gDDX7g+F+y13Na64AmSrpMGpsrIy4cx5JpOJjEZtppTNleAkBTyKz6IHb5zmrgaApiLO+2SZ/g1F+0mor527GnnN5bcpuupktl7nrgLAhIXutim72oTb6wCylq5m1eMOTl+2rlA0CNh68TN5Xd6jK5WdSf/iLbZ2AMgEz+FlivYR2/wn5HUFLtcpWpdr1weMLcGjqmWxcF/X0PHwhd1KpiZf31zB2AIAYlxV4u+cc256U16P9/g68T5r90eMLQCQv8YEJ5PJRFVVVTRp0iQqKSmhqqqqUYvRaMzZ4KSmiMui+KpT4NoR7moAaELJu0/kq00957mrAUR03z2g6IRTy50m7ioApE+SyHd+p3C/Fb7XxV0DAFBgTHAqKipK+ubq6DJp0iRNCpNLwYlI2Yw7lvLJZF/6HHcVADSh5IytpXwyWec+TiRJ3NWAP1l95qMxgcgbdBERJQxLNu+w/Le+kIciUoSr6ABCJI+N3DUzJ3ZMX/E8d7EBQKExwSk6EUSyK05aXGmKyrXgFLbcVXxW3dtYyV0NAFUFrh1WvF8Eu89xVwNiDLv65FB0sGMLERGZ7h4norHByeYdpp77baN+tr9tPWfxAdLSOXiR+u09o34WHrpJtmWl6V0l77vGVHIAUEvSZ5zKysqosjKzg3a9BKfFTe8ouvXkzK06eV2uncrOrFvKJ1N48CZjawCoy77kWYVXmx6TrzYFOo8r3r/yfYKJRcd+K9zXHbuxW17PF+fnjvq3aICK/5k36Eq4rrs29HOgX/dd/TSt5mkyVk+h2qtryB/yxvyrRMHrJ8a/2rTyRfm3fefEb/WzzPwmSW5r5hsAAIgozenIM0UvwUlNarynxrn1He5qAKjC27hChatNzdzVgAQsnqGUwSl6FSpW9OrT6tOYohn0a+3ZGaO25Y8PvECne/aP+h0p5CffyQ2JT9D0dzCVHADUhOCUAUqfdbKUT6bA5brUHwSgY+HBG4r3g9irTaA/ddc2jhuceu63jbriFP2d1ac/JmP1FDp/+xBn8QESOtm9N+lV18VN71Dn4MVRvx9xDpNrxzS533KsfoWp5ACgNgSnDIg4hhQPGG0LnyIKB7mrAiDMufVtXG3Kcf6QN2VwsnmHx0wicbBjCxmrp9CMupcoEPIx1wLgofvufvpdzQ9S3ra6+cI8Gnb1jfrbUF872eY/QeHhW0ylBwC1ITgl4Q260uosx1tqr66W16f0nTWW8snkaVjM2CIA4vyXDyje/u2LfyivT+l7mxDCRvMF3fLzGyJLVcvDvsl09/i4t+rFP+NERHJwMlZPod2ty1naACCRtWemT2hfqG/fNHqWyJgr5P7zuxT1WeGR2wwtAACxEJwyRPK7FQ/0LOWTKXTnKndVACZE8rvJ9vn3lW/7A53cVYE0SCTRjLqXEgan6HNM0aCUKEgZq6fQud4GzioAEBHRye5aoRMJFQdfwW2nADkKwSmD/FfqlZ91X/ETokiYuyoAaXPt+oPi7d5VNY27GqBAbDiKnyAi0cBz6p6nxkz7DJBJQ867NHXPU4ruOrl5/wp3NQBAZQhOmSRFyPrpPyseRLprZnLXBCAtvtObVbnSGnHd564KTNCmc3MUDToXN2E2UeCz+szHirbfz4/+hrsKAKABBKcUbgy3Kuo8jdVTaNXpD+X1hfquqTKQ9J/fydgqAKmFei+ps6231Mjr9J3apHh9gbbDjK2ib/cctxX1ddNqf0g27zAREbkDDsV955etK5hbBPLRiZs1irfdEfc9eX2OlT9V1GeF7rYxtgYAxEJwYqDG9OToTEHPpICX7EufU7yN2z5/kij2QWvIKpfuHFM8AD1/G0EXMqfX0kHv7nlS0TZ7rGt36g8CgKykq+C0ePFiMhqN3MXQnORzqhKc7JUvEkUwqAT9ce3+UJVtPDzUzV0VUOjzo79WNAj9Xc0PaMDRy10NyAMj7gGaWf+you3197U/pHAkxF0VANAIghOTQMcxVQaW7poK7qoAjOI7s1WVbdt7ZBl3VUAFFs89xVedljTlx3EB+ATCflp47LeKt9U71hvcVQEADSE4pckX9NBH+59X3Kl2DbXK63RufEOVAab/Am4LAH0I9baosk1byieTFHzwItSIfZCss/9R+X5i2svcOtllcdM7ivq6I9er5HWdEJzWOXbZcmE+Y2tArltzplzxNhr7DrJA2yFF/ZX108dJ8tgZWwQAEkFwYhRxDqs2yMTzTsBN8rnIvqxUle05eOsCd3VARZIk0WeNbyoemFZfXsldFchBO1oWKd42jdVTKBD2c1cFADSG4MQscLVBlYGm7fMn8VZxYOXc9O+qbMvuvbO5qwIacPgsqgxOD3Zs5q4K5JAD1zaosl3etd3krgoAZACCkw64tk9VZcBpX/ETkjw27upAHnLtfE+1q6dS0MtdHdBI5+BFVQapx2/u4a4K5AA1ph03Vk+h0z37uKsCABmC4CRgfXOF4o52/pFfyetTa5Y9S/lkcqz/JWbag4xy7/tEvVtO+9ofrremQvmV2EVPY39QaL8KZ+TbBs7K66u9ulqVweoFTFMOCrTcaVJlO9x4bo68zlB/B1mmf0NRn+WpX8DYKgCQCoKTToRum1QbfLq2T+WuDuQJ75Hlqm23vvNVqT8Qsp4kRWj+kV+pMmhtG2jmrg5kITVebG+snkLTap6mQNjHXR0AyCAEJx3xndyo2iDUXTOTuzqQ43ynNqkX9rfl736fj9wBB71brewlo8bqB+946rmPiXEgffcct+njAz9RJTjdd/dzVwcAMgzBSVckcm78lWqDUU/DIu4KQY7yX9qj2nZqKZ9MUsDDXSXIsH57jyqD1/f3Pkudg5e4qwNZwGztojkNr6my3V27d467OgDAAMFJgdM9+1XpgNc3P3yJreRzqTog9R5fx9hCkIsC7Y2qbqPh4Vvyuj0HF6qz3R9bxdhCuckdcNDM+p8p7u9O9+yX12m6e0KVPtRYPYVMd48ztg7o3bWBZnpv749U2dbq2zfJ61Xr3XXhgU7G1gGAdCE46VB48Ka64ekEwhOoI3DtsKrbZqDtEHeVgNm+tvWqhafYUAYQdba3XrVtbNGx35IkYcIZgHyF4KRT/iv1qg5QPQ2LuasEWc5/4UtVt0n3gXncVQIdkKQILT3+rmoD2yPXd3BXCXTkUOc21bYtY/UU8gbd3FUCAEYITjrmaVis7kC1piL1hwIk4Du5QdVt0b7yBaJIiLtaoBPeoFuVySKiS+3VNdxVAh3Y3bpc1dBk9QxxVwkAmCE4qaT68kpVOuY5Da+Ry29/sFJJIufm36g6YHXt+B2RJPE2FmQVz6Elqm6DlumPkOR1yut3bTOqE8aWPkdSAC/PzYQ7thuq9HcHrm2U12n1DKk6yN3Rgslx8lU4ElLlfYuxyz3HbXn9vuYdqvRZwa5TjK0EACIQnHROCvrI9tn3VB24Oje8TpLHzl01yALu2tnqhqbyyRS29nFXC3TKHbCrOthdd3YmOf1W7mpBBlk9Q7SkyajqdnTXdpO7WgCgEwhOWUDy2Mha8aiqg1d75QsUttzhrhromGvHNPVD070u7mqBzg0676g66J1Z/zNqv3eeu1qQAWbrdZrdUKbq9tNrwWx3APAQglOWiDiGVB/E2j7/PoX6rnFXDXRG8jrIufEN1be3kPkyd9UgSwy77qo6+DVWT6GGjq3c1QINtfadpN/X/lDVbebm8BXuagGAzugqOM2cOZNmzpzJXQzF/njqD6p13BfMR+T1hkfMqg9mLdO/Qf5L1YytBXoS7G4m26KnVd/OgjfPyp8RMl8m65zvqHPldMmzJPkxyxWny32nVOvvmnsb5PUOu/pUD09rz84gh8/C2FqgNn/IS1Uti1XfVjoHL8qfEeptIYtKd30Er59kbC0AUArBKcuE73WpH57KJ5N73xzuqgEztWfOiy6B9kbuqkGWuu/qV31APKPuJbo20MxdNVDB5b6TNLP+ZdW3kasDZ1N/OADkJQSnLBS6c0WTAa7jjy9RqL+Du3qQYZLXocnzTJbyyeRvqeWuHmS5EfeA6gNjY/UUOtixhbtqIEirq0zG6il0pf80d/UAQMcQnLJUsLtZk4GupXwy+S98yV09yJDgzbNkW/gDTbYj39nt3NWDHDHivqfJIHn5iWnUc7+Nu3owAVpdZXpwe94l7uoBgM4hOGls47k5qnXqU/c8RV1DrfK6g7cuahae3LWziaQIY8uB1rwn1mm2/fgu7JY/J2LrJ/vS51Rbt33xMyT5XIwtB8lEpDAtPT5VtT4v9pkni2dQk8GysXoKVV9eSb6gh7HlIBUtrzIZq6dQn61b/qzw0E2yL39elf7KtmAKhe/38jUcAKgKwSnLhcyXNRv82lf+FLPu5SDJbSXX9qmabTd+E27PA21YPUP0wb5STQbO5XUvjgpqoB+X+05SxcFXNPne36t9huze+9xVBIAsgeCUA8JD3ZoNgi3lk8l7ZAWRJHFXE1TgP7+LrHMf02xbCXY0cVcRclww7KfN5z/V7MrDqtMf0h0r3jemB06fVdOrTCtOTCN/yMtdTQDIIghOOSLiGCLLzP+j3dWnxc9QoO0QdzVBUMjcSs4Nr2sasEN3rnJXE/LI6Z79mg2ojdVTaF/bWgpHQtzVzEuhcIAOdmyhaTVPa/b9fnm5kiK4HR0AJgjBKYNa7jSp2vFPq/0htcVMmyr5XGRf/mNNB8euHdNwv3YWkQJe8tQv0HSbsJRPpvCIWf7M8HAP2StfUHX9noZFjK0Ios7eqlO1z9t+aSFJ9PDqd+9Iu6bh6eMDP6HDndtxVSKDjt+spo8PvKDp93qqe9+oz/Qc/FzV/sp3roqp9QBAawhOuSYU0PT5lejibVrNXVNIwW/aS7bPvqfpdmCd/y8UceOFosDH4bPQ7IYyTQfa7///7N1pcFNX3j941dQ8Vaqa+k91jV7Mm3FVV80rvev+P67/f6Zqnnp6XM9/6HSedKdJp9Pd6UTpTmfpdCdRCCGEQECBsC8hxATCGjAgIMZgYwxY3jA24EVe8YIXLNt437TY1v6dF0SKbIx1r6Sro+X7qTrVjaMr/c7VsXS/vveec+V5XLt/Eg6XVXR3U9a9vhv44sZfFX0f9bkr0DZcI7qrRJTEGJxSkd+P2aI9ioenmQMvwtVeJrq3tIhnqB22U/9Q/P23HX8Tfve86O4Swevz4KL5gOIH3R/mPYsrzUcwPTcmusspweV1ovTBRcWDrz53Bdblv4AJx7DoLhNRkmNwSmHOmouKHzxPbvg57Gc+gLuXf8UTzTvWA8eVzXF5z2ev7+F09ZRwai0mxQ/AA+37hq8xZh8U3eWkNDk7gvyWo/j4yvNxea+uth7n/WpEFBMMToJ4vC7sLX035l8Q31ZtWHA9vqfPHJcD6ckNP4ftu3fg7qwUuFfTk+dRGxy5G+L2Pruaixa8vuNy7MPaTPZL8M9OC9qjpJTrbTkx/8w7Ur0RdudM8DUezfTgw7xn4xagTtzdgsbBWwL3avLoGKnDmdpdcXtv9Lkr0Dtxf0EN85UnY//Hw4vrBO1RIoo3Bqc04HNMwfrta3E7sLYeex2u+yWiu53yPJYG2I1r4va+Tm76b/AOc5pmSnxurwuXmw/H9QD904IX8X3D1+iZ4Np3ocbsgyhqO40tN/4S1/fjdO1OzHu4qDERxRaDU7rw+zFflRO/g+wNP4f18CtwNRWK7nnKcffcgy3n/bi+l47cDfC7OLMYJZe+qQ58cOmXcT1g1+euwPbiN3Gj/WzaXspnd07jXt8NfFP5Sdz3vT53BVqH74reBUSUohic0oxnsDWuB9yTG36Oma9fhLPme/jnbaK7n9RcrTdhO/n3uL9/rtZi0V0nipjH68b1ttNCDuD1uSuQfetjVHTl4dFMj+hdoahhqwUlnRdxoGK1sH39VcWHsDmnRO8KIkphDE4Jwuvz4PDt9Yp8mRyuWo+p2dHga/nn7bDH+YxFoNkvrIWrrVTgnk4unj4zHAXbMLXtF/EPvHt+Bd/00IJ6Zgt3KvJaU1/8G9zddwTtZRKl+VEVPsiN3Rmhks6Lwef2zSycQW3U1o/N118TdlCvz12BDYV/wHf3tqKq9ypGbf3x3t0x5XBZ0Tp0B/ktR7Gj+C2h+1WfuwJNgwvvr/X0mTHz9e8V+bxymq8I2utEJFpCBSe9Xo99+/aJLiNtOOvzhISnyQ0/x/SO/8DstV3w9DeL3g0JxzvRh7mybzHz1QvC3p+5koOAzyt6VxDFlN/vx72+m8IP8gPNUPQKztTtxr2+G5hwDIXvgEATjmHUWkpwseEAdpr+LnzfBVpByzHMu3kvExHFB4NTmvNO9GF69zPCDtAnNzyeQW3+1nH4ptLzfgAA8DsdcNbmwnbiTaHvxeRn/wrPQIvo3UGkKJtzGifufC78oH9x+/jK89hT8k+cqtmO622nUd9fhoHprgUzpSrNOj+JztEG3Oq+jAvmr3CgYjU+LXhR+L5Z3I5Wb1pwJQURUTwwOBHg98HVWCD2gP2HZj30Z8ze+BLuzsqUn4zA02fGXNm3sJ14C5Of/avwfT9nyobf4xK9W4jiZmC6S/jle1KboegVHKxci4sNB5DfchQ32s+ioisPdx5eR8NABdpGatAz0YpHMz2YcAzB7pzG9NwYxuyDeDTTC8tUB7rHm9E+UoeGgQpUdOWhoOUYcmp34mDlWmwvfhPr8l8Q3k8p+6F/+oHooUNEaYrBKYGdq9+r6BfQre7LC17PP2eF47JB+AH8giB19K+YM2XD3XMv6S8d8wy0YL7yJGyn38XU5/+38H0baDNf/x7e8d4FtTrrcjFl+O+Kvab93GpB7wIlMr/fL/tz78TdLcHtvaM9YcfebOFO+F0LL+3qGW+GoegV4aGAbfnWMlQNP/whA8aHuZJvFP4O+gt8Vp7ZIqLHGJzoCZ6hDkzv+A/hB/RPtI2ZsJ18G3PlR+B+cDuhL+3z2cbg7q3BfPUZ2M+uwtTWfxe//5Zoro4K0buKKGH0jLfg86JXhQcEtoWtqvcqPD636OFBRMTgRE/h98FpviL8wD5sM/x3zHz9e9iNH2HO9DWcDQXwDLTAP2dVfhe5nfAOd8LVchNz5Udg//5TWA+/gqkv/k38fgnT5sq+hd89r/g+IkpGvROt2HxdJzwwpHNbdekZ1FqK4fY6RQ8HIqIgBidaln92Bo68jcIP9CNp0zv/B6xH/gLbqX/AblwDR94mzF7bhTlTNuYrT8J57wKcjVfhaiuFu+ce3L21cHdUwNV0Dc6a7zF/+zvMlR7CbNEeOC5vhv3CWthOvwfrsdcxvfc/hfcvkmb77p0npmkmoqX1TtzHlht/FR4i0qntKnkH3eNN8Pt9ot9+IqInMDglkSHrQ+wpfVfxL66DlWvRN9m+4LW9Iw+ELL7KFps2/eVv4BlsXfiejj+E/cIncXl9Z8338fxVoRRj6jAu+IwyFL0SnILa756P2Ti1HnoZrsbCJ15/2NqH7+5tEx4qUrmdrduNMfuTl1+7e2pgN34Ul8+p2aI9io9lIkpuDE4ki3eiD/Zz8fkSY4u+Te/8/+DprRU9bIhSwpzbgTqLCRuuviQ8aKRKK31wAQ6X8pdWExHFAoMTRcQ3PZS0l/ClQ7N++yrXYyJS0LhjCFdbTwgPHsnYjt/djJ7xFvj8yT1TKhGlHwYniorPNobZa7uFBwW5zXbqn8E+ePrMC/7bXOkhAIB/3ia8TrnNfm41vGO9T3u7iCjGvD4Pusebcej2p8IDSSK3k/e2onu8CW4v14ojouTF4JTkxuyD2F/+Qdy+/NZffQnFHeeeWMnePzuNOdNB4cFBavPNjMA3MwJgYXDyjnb/2KckCk6zhTvhs448MT5czddhPfa3uNUx8/WL8PQ3KTvoiQD4ph8Jue/SevgVzFefgc82/kRN8+5Z3B++hyPVG4UHlURoOTU70DPeAs9SYcnrhqv5OuzGNXF/D2ey/wB35604jFIiSjUMThRTfucsXPdNmPnqt8LDxNNa4IySq/k6gIXByT9vC/484YPTZ/8Vztpc+Odtwt5vIlqaz+/FmH0At3sKsMv0jvAQE4/28ZXnkd9yFH2T7Vx3iYhSEoMTKcZnHcX87VPiA8ai5psZgXe0OxigFl+qN7nh5wASNzg5Lm16vJK93y/y7SUiGVxeJyxTnSi6fwrrCn4nPOTEou0u+QdKOi/CMtUZnOWQiCiVMTiR8vx+eIcfwJG/RXjoCISludJDSRWcbDnvwd1bA7+H9wcQpQKnZw6DMz2o6SvGefN+fH79VeFBaLm26tKvcKpmG8wD5ZhwDMHr84jehUREccfglKJqLMVYL2jK3C9u/BVFbacxaht4oi6/xwl3VzVsR/4iJIAE7m0KDVGJGpysh3VwtZfD71z6L7mu+yWwnXxbWH2OK5sBH2fFogTj82K2aI/wP3YE2syXz8NxZTNcTdcenylernS/Dw6XFYPT3ajrL0VuYza23nw9bp/d6wp+h2+rPkNR2ymYBypgmerEzNw43F7n8nVbR+BquYnZwp2wHnpZ+D4PtLmSg7EcWUREiRWcXnvtNZw4cUJ0GRQnftcsPJZGzN74EpOb/ltcvkifxjva/cTjRAQn29kP4e6s5H1LRLSAx+fGvHsWNucUJhxDGJzpQfd4E5oe3UZ17zXcbD+Hks4LMJq/xJm6XbjYcABXWo7ielsOSh98j9u9BaixFKNh4BZah+/iwVgDBqe7MTU7AqdnDn6/T3QXiYgSHoMTJQz/7DTcD27HbX2oRDjjZDv5dzjNV+Cd6Ad46QsRESU5Jc+Kvvf9f+BS45NnEp11l374Xv1Z3P/wSumFwYkSk9//+PKP5uuwnf0wbsFpqTM9i89GRXdG6QO4morgm37Ey9yIiCjlMDhRKmNwSjMdI3XYafq7kHufntb2lb2Pq60n8GCsYZnK/fA77fCO9cLVVoq54gOwfvuq4meEIm1T27NgN67GfHUOPP2N8Dmmlp0Fzzc9BFfzdTiubMbUtv9XeP2BNpP9EtwdXO+EUofrfgmsh18R/rsV0/bZf8XUF/+G6d3PYObAi7B2GwAVAAAgAElEQVQeeQ3Wg3/EzP7fYnr3LzG17ReY+vz/El9njJv12Otw3S8RPaRoEQYnSmUMTpTk/PC7ZuGbsMDT1wBn/WU4ctdj5usXMfXFvyn6pT29+xnYL67DfFUO3F3V8E70PT5jxXsFiIgoTTE4USpjcKLU5/PC73HCP2+DzzYO32Q/vMMd8Dysg7ujAq77JXC13ITrvgnuB1XwPKyDZ7AV3pEu+CYs8M0Mw2efhH/OCr9rjpfYERERPQWDE6UyBiciIiIiigkGJ0plDE4UNG5/hAvm/cLveYqk5bccCfbD+s2fYPvuHdgvfILZq9sxV3oI83eNcDUXwd1VDc9QO3zTQ/C7flgfyeuB3zUL/9zM4zNS04/gneiDd6QLnkdt8Fga4e6tgburGq72cszfOYvZot2wn12FmYN/xNTWf1f0kkClm+3k27yPiSjA54Pz3gXMZL8k/HczndvM1y9iruIofJNPrgdIiY3BiVIZgxMRERERxQSDE6UyBiciIiIiigkGJ0plDE5EREREFBMMTpTKGJxIsum5cRR3nMPWm68Lv6dpcXN5nQAAd8ct4dfmJ1pzXN4M72i34NFDlHp89gk4a3NhP/9xQq2/lohtasv/A1vOe5i/fQresV7Rbx0piMGJUhmDExERERHFBINTYsjKyoJOp5O1jUajgdlsjvq1zWYzNBpN1M8TC1lZWVCpVMEW2j+tVrvkz5fD4EREREREMcHgJI1Wq4XRaIz580Yj1YKTTqeDVqsN/ttoNEKlUgX/fyBYGgwGZGVlSXpOBiciIiIiiol0D046nS54FkOn0wUP1kPPbISeBQkcsIee/QgEKoPBsGDbwIF+6GMDPwuEBJVKBYPBAJ1Ot+C/hasJCB+cQrcLBJLQGgNhaXFw0mg0wccYDAYAj88EBf6/0WhcsB8C/TCbzQv6KtdS/VkqsDI4kVAOlxXlXbn4quLDuNzfVNBy7IdX9gu/jj9ezXrsb3DWXIR/3ib0vSai6HhHu+FqKsTs9X2wnX4PM1//PmHWhpvetQK2E2/Ckf8F5qvPwN1ZyXWVKKx0Dk7hzrQEAg2w8AA+9MA99Dm0Wu2CUAM8DkGhB/mBgLH47EogOMmpKVxwWvzfzWbzgkATuDww9DVDLxkMffxywSn0EsOn1R54rtAWeL7lts3KynoiOIXu53AYnIiIiIgoJtI5OIUGgFBPO2sUOIAPPSMUenYl9OeB51184B846A89wxTYNnB2SWpNUoLTcv0NhLCnhb/Q51guOIX2L3BGS+oZocX1hjvjFFqHFAkVnJ5//nnk5eWJLoOIiIiIIpDOwWmpszs6nS54YL7cGaelJnJY6ozJ4oAUGrKWCk5yaorkjFPocwdCyOIzToHXCv15aL2hZ9yedu/X4sAo5YxTVlbWE8EutF6tVisrNAEMTkREREQUI+kcnIAn7ycKPcDXaDRP3He01D1OS90/tPhepMVh4WnBSU5NkdzjFPrcgZ8tDlShfQiEn8U1LBWcQl8v0skmQvdr6Nm8xftW6j1UDE6UMAanu1HRfRnn67/EvrL3sebKbyR9kHq8LgCAq71M+D0Bctr0zv8B+4VP4Kz5Ht7xh2J3PhERUQyke3CKpdCwEHqWiCIXCGyRzh7I4EREREREMcHgFDuhZ0viOb334jMxofdBpTsGJyIiIiKKCQYnSmUMTkREREQUEwxOlMoYnIiIiIgoJhicKJUxOBERERFRTDA4USpjcCIiIiKimGBwolTG4EREREREMcHgRKmMwYmIiIiIiCgMBiciIiIiIqIwGJyIiIiIiIjCYHAiIiIiIiIKg8GJiIiIiIgoDAYnIiIiIiKiMBiciIiIiChqnaNmRVvXeBM8Pnfw9fy2Mbh77sHdfVfxRgQkWHD6xS9+gbKyMtFlEBEREZFMFxq+Uqydb9iPvKZDmHPZg6/n6W+Eo2AbHPlb4Mj/QtFGBDA4ERERERERhcXgRERERERRG7b2KdpGbP3w+rzB1/PP2eAd7YF3tFvxRgQwOBERERFRDBy/u1mxduzu58ip3QmHyxp8PU9PDezn18B+7kPYz61WtBEBDE5ERERERERhMTgRERERUdTszmmF2wz8fl/w9fweJ3yOybg0IoDBiYiIiIhiIPvWx4q1r2+twZHqjbA7Z4Kv5+6qgu27v8N24g3YTrypaCMCGJyIiIiIiFJKVlYWdDqdrG00Gg3MZnPUr202m6HRaKJ+HiVeR6VSBZtWq13wXEv9/IntI65WAQxORERERMnJ6/Mo3gD/jy/o9wNed3xajGm1WhiNxpg/bzRSPThpNBoYDIbgv7OyspCVlRX8/4G+L/feMDgRERERUdS+LNMr1vaVvY+DlWthc04HX8/dcQvWo3+F9fCrsH6rU7RJpdPpgmcudDodjEbjgrMcZrMZWVlZwX8HDty1Wm3wZ4GDdoPBsGDbwBmk0McGfqbT6YI/NxgM0Ol0C/5buJqA8MEpdLvAWZnQGgMhZnGg0Wg0wccEgktWVlbw/xuNxgX7IdAPs9m8oK+LyQlORqPxiTNJT9uewYmIiIiISEHhDuQDgQZYeHBuMBiCwSH0ObRa7YJQAzwOQYHHAggGjEBwCggEJzk1hQtOi/974PK2gMDlgaGvGXrJYOjjlwtOoZcYhgtGgT6HhsOlglboayzuU6hAWHsaBiciIiIioig97eD8aWeNAsHpaQf9oT8PvaQs9GxIIFyFnmEKbBs4uyS1JinBabn+BkLY08Jf6HMsF5xC+xc4o7VUHwKPl0LqGaelzmwt+O+SXi1OGJyIiIiIklO6X6q31IG4TqcLBoTlzjgtNZHDUmdbFgek0JC1VHCSU1MkZ5xCnzsQhhafcQq8VujPQ+sNPeP2tMvkFgfGpfbLcmecACy4DDLwWkudDVsOgxMRERERRY2TQzx5P1HobG0ajeaJ+46WusdpqfuHFt+LtPieoacFJzk1RXKPU+hzB362OFCF9iEQXBbXsFRwCn29pUJk4L9LFfqay91jttwZLgYnIiIiIqIEExoWQs8SUewsvjcsHAYnIiIiIooaF8CNrdCzIPGY3jtg8VmZ0Pug0h2DExERERFFze6cVrjNwO/3BV/P73HC55iMSyMCEiw4/exnP0NDQ4PoMoiIiIiIiBZgcCJKQK2traJLIKI0wc8bsVJp/x+/u1mxduzu58ip3QmHyxp8PU9PDezn18B+7kPYz61WtJEykm38KxKcNm3atOT1keGaWq1mcCIiIiJKQsPWPkXbiK0fXp83+Hr+ORu8oz3wjnYr3ogAnnEiIiIiIiIKi8GJiIiIiKJ2oeErxdr5hv3IazqEOZc9+Hqe/kY4CrbBkb8FjvwvFG1EAIMTEREREcVA56hZ0dY13gSP78fFaP22Mbh77sHdfVfxRgQwOBEREREREYXF4ERERERERBQGgxMREREREVEYDE5ERERERERhMDgRERERERGFweBEREREREQUBoMTERERERFRGAxOREREREREYTA4ERERERERhcHgREREREREFAaDExERERGlrJUrVyIrKwsGgwF6vR5GoxEGg0F0WZSEEio4/fSnP8XDhw9Fl0FEREREMSYiwJhMJmg0Guh0Omg0GhgMBqjVamRmZmLlypWKvjalHgYnIiIiIlKUqABjNBqh1Wqf+r9EcjA4EREREZGiRAUYs9kcDGqZmZmwWCzQaDTIzMxkcCLZGJyIiIiISFEiA4xer4dWq4XJZArWYjAYeKkeycbgRERERESKY4ChZMfgREREREQpzWg0QqVSLWiZmZmiy6Ikw+BERERERHGRKAFGp9NBp9PF/XUpuTE4EREREZEQogKM0WjkGSeSjcGJiIiIiISId4AxmUwwGo2wWCxxe01KHQxORERERBRXIgJMZmYmNBoN1Go1NBpNcJIKIqkYnIiIiIgobkQEGJPJhIyMjOC6UdnZ2bxUj2RjcCIiIiKiuBAVYBYvuMvgRJFgcCIiIiKiuBAVYEJfl5fqUaQYnIiIiIgoLhIhwBiNxri+HqUOBiciIiIiirt4B5jADH5arZZrOFFEGJyIiIiIKG5EBBiLxQKNRgOdToeMjAxkZWUxPJFsDE5EREREFBeiAszie6sC/0skR0IFp5/85CeYnp4WXQYRERERKUBUgAl9PZ5xokgxOBERERFRXIgKMGazGQaDAWazGVqtFnq9XvHXpNTD4EREREREccEAQ8mMwYmIiIiIUprRaIRKpVrQuAAuycXgRERERERxkSgBhvc4USQYnIiIiIhICFEBJjs7m7PqkWwMTkREREQkRLwCjMlkglarDTa1Ws0zTiQbgxMRERERxYWoAGOxWGA0GoPNZDIp/pqUehiciIiIiCguGGAomTE4ERERERERhcHgRERElALcXhfszml4fR4AgB9+2Oan4PLMC66MiCg1MDgRERERUUozm83Q6XQLmsFgEF0WJRkGJyIiohSRnZ0NjUYDlUoFtVqNlStXwmKxiC6LaMngEs8As/j1OaseRYLBiYiIKAVkZ2c/sbCoSqXCypUrRZdGtCC4BEK9TqdDRkYGsrOz415Pdna2kIV3KbkxOBERESnIOj+J+v4yXDDvx9abr0Ofu0KR9r//n/8rVCoVfvXrXwIA3nv/XahUKvzP//I/KfaaGwv/hFM121DdW4hR24DgPU3JwGQyISMjI/jv7OxsZGVlKf66i2fzy8rKYnAi2RiciIiIUkDgDFPopXmBn5nNZoGVEf3IZDJBo9EEx6ler49LgFm8flRmZianQifZEio4qVQJVQ4REVHSCISkpX5mNBoFVUX0pMDleiqVChkZGQwwlDQSKqkwOBEREUWGwYloeUajEZmZmdBqtZwYgiKSUEmFwYmIiBKdx+dGTd9NHLr9qWL3DkXSAiGprq0aAOD2OoM/e/3wvwuvL9D2lr6Lsge5mJmfEPtGkjAiAozFYoFGowlOSJGVlcXwRLIlVFJhcCIiIopMRkYGVCoV9Ho9gMf3jqhUKmg0GsGVEf3IYrFArVYjOzsbRqMxbuEp8FqL/5dIjoRKKgxOREREkTEYDEtORx4IUkSJYHFgiVeACQ1MPONEkUqopMLgREREFLnQm+4DlyURJRKz2Qy1Wh33WfXMZjMMBgPMZjO0Wi3/oEARSaikwuBERESidY8349gdg/B7gQJtzeVfY5fpHXx3byuu3f8OFd2Xca/vBhoHb6F9pBa9E614NNOLCccwHC4r/PAH+zLrtmNqdhTD1j70TbajY7QezY+qUGMpRmVPPoo7zuFM3W7sK3sf6wp+J7yvgba//AOYB8oFjgJSksFggFqthkajgUajUXxWvezs7GBoMplMsFgsnKKfIpJQSYXBiYiIiIhiJXCGKzMzE2q1GitXrgyGNoPBILo8SjIJlVQYnIiIiJ7ODz88PjecnjnMumywzk9i3DGEIetDPJxsQ8doPZzuWQCAz+9D2w9npAZnejBmH8TM3DgcLivmPbPw+Fzw+X2Ce0TpJvSepsClpdnZ2Yq/HieHoFhIqKTC4ERERAR4fR7Y5qfQP/UAtRYTLjUexA7T25Iucxu29QF4PB25lMcbil7F2bo9qOotRM9EK6bnxuH2ugTvAUpVgcBisViQkZGheIAxmUwLXsdsNgfv/2NwIrkSKqkwOBERUTx0jjZgX9n7it+rs6P4LdxoP4tHM71PrcXjc2PY2ofyrks4Wv0ZVuc9G/HrFbWdXvDcPeMtUdV/oGI1Cu+fRN9kO5yeuaf2YcIxjNs9BThQsVrxfbrx2p9wr+9mzMYCxVdgPaXMzEwYDIa4nPkJXKYXOLOVnZ2NrKwsBieSLaGSCoMTERGlOq/PizH7IKp6C/FlmT6moQJ4HMQAwP/DZXhFbadj9vyGoldh6jyPgekuuL1OYfuQkpvZbIbRaBRdBpFsCZVUGJyIiCgVTc+NocZSjG8qP1HsTExgFjq7cxrA48v9gOjPOi3XdhS/hYquPHh87gWz+RE9jcVigdFoXNACM90pPbteRkYG1Gp18DVXrlyp6OtR6kmopMLgREREqWLO7UB9fyk2F72q+OVr+twVGLY+vrcpEJwCZ56GrX1xeX197gqUd12CdX5S2D6nxGcymaDVahe0lStXKh5kAgvfZmdnIzMzk5NDUEQSKqkwOBERUSw1Dlbi04IXYx4Q9pa+h7r+kidez+vzoHu8CYer1sctrCRScAq0bTffQNNgJeY9s0/so87RBhyt3qjI65Y+uKjgaCIlxONME4DgpBCBwJSdnc3gRLIlVFJhcCIiomQ0YrMgr+lQ3ANKogan0Hb8zufonbjPqc8pyGAwQKfTQafTISsrKy5rKplMJqjVaqhUKqhUKsWnQafUlFBJhcGJiIiSSe9EK7bdfENoMAm0nvEWAPG9x0luaxy8FayL0lMgwMQ7OBHFQsIklenpafzkJz8RXQYREdGy/H4/OkfN+Kzwj8KDSGg7fHs9gNBZ9R5P1nD4dvwvGwzXaizF8Pi4VlQ6MpvNC+5liuckDYHZ/IxGI/R6PTIyMuJymSClDgYnIiJKCQUtx2J2YL/UWkE+vw+tQ3ex5spvhAePp7XAzHoBsZyKXIlW1XsVLs/8gppjvcbWyXtfYM5tV3z8UWIzm81QqVTBCSkCM+xxZj2Sg8GJiIhoGT6/Fw0DFcJDRmhbm78Sm669jG0338De0vdwsPJjHK3ehJzaHcFZ7bw+D87U7cbxO5/jm8pPsK/sfWwvfhOGolewruB3wvsQ2soe5C45kQSlHqPRGLzPKNC0Wq3is9wFZvMLrYOTQ5BcDE5ERERPYZnqxNorvxUSJlZffg47TW/jxN0tKLx/EjWWYvRNtmM2RmdPPF4XHs30oGHwFm60n0VO7U7sLX0Pn+S/ICxANT26HZO+EREpgcGJiIhoEYfLijN1u+IaGrYXv4mLDQfQMHgLE44hof23zk+ifaQWBa3HY3rZnJS2y/R3jNkHhfaf4iOwplJmZqbiryVq/ShKLQxORESUdDpHzTE5M3KmbjdmXbbg8/r9ftRYiuMSELbc+AuM9XtRaynB9NyYwL0Z3rzbgZahauQ1Hcauknfisn8K75+Ey+tcUMf1GN2zVdV7VdCeJIvFEpxJLysrK25TglssluDEEIFmMpnito4UpQYGJyIiIgCPZnqxqejPioaBPaXvouzB9xi3PxLd3ajYndO413cTh26vUzxAtY3Uiu4uxZDJZIJKpYJer4fZbBZaB6dAJ7kYnIiIKK15fC583/i1Ygf+m679GfktR9A//UB0VxUxOTsCU4cRu0zKnYk6ULEatvkp0V2lGLFYLMHpwDMzM+N21slsNgdfNyMjgwvgkmwMTkRElLbG7IOKTC/+Yd6zyKndibbhGtFdjKu+yXbkNR1SbI2rB2MNortIMRavMz+JcqaLkhuDExERJbxYrEdU2ZO/4DmVmGL804IXcaP9DObdnFq7+uE17Ch+K+b7uKjtFHx+X/B12oZrsOnay1E958l7XwjcU+nHaDQiMzMTWq0WOp0uLq9psViwcuXK4L1VvK+JIsHgREREacXtdeFc/d6YHsxvuvYySh9chNfnEd29hFNrMWFP6bsx3d87it8KrldFycVisUCj0UCn0yEjIwNZWVlxC08B8ZzNj1ILgxOlvaysrOAifBqNRnQ5RKSgMfsgVuc9F7MD+C03/oJb3VdEdyspNA7ewlflq2IaoDpHeclVsgksPLv4f+PFZDLBaDTCYrHE7TUpdTA4UVrT6XQLwpJWq0VWVpbAiohIKeaBshieYfoz7jwsEt2lpNQ6fBdflulj9l4U3j+54NI9SmyhgSneZ5wyMzOh0WigVquh0Wh4uR7JxuBESadvsh2mDiMO3f4Uqy9H95fj/+3/+F/wH6/+a/C51+97//HNo1F+kX9ZpsfV1uNoH6mDx+cWuLeIklPvRCtW5/1nxL+D3zd8veD5itpOxexA/XLzYbi9LkF7JnWUd13Cmsu/jsl78k3lJwvek/KuS1E9H0OxcsxmMwwGA8xmM7RaLfR6fVxe12QyISMjIxjcApfrEcnB4ERpTaVSwWg0Bv9tNpuhUqk44w5RivD5fThf/2VMDs4PVn6Mvsl20V1KKTNzEzhbtzsm788XN/6KObdddJcoQS2+NJDBiSLB4ERpjcGJKHV5fC4crlof9QH5+qu/R3VvoejupLS24RrsKol+HajVec9y0ghaUmhw4qV6FCkGJ0prDE5EqWne7cC2m29EfSB+seEAZnkWI25MHcaYnH0asw+K7golsNDvfSI5EiY4PXz4ED/96U9Fl0ECzLpsMNbvVWQRynBN/V/+5Yl7nNT/5V/iXoc+dwWOVm9EfX+ZuDeCSLCc2p0R//6E/u7Y5qei/jxZffk51FiKxe2MNNY93hyT0Ns/9SD4nIMz3VhX8LuInmdXyTvw+/0C9wgRJQoGJ0prnFWPKLWM2x9FfcC9v3wVhq19oruS1lxeJ3Jqd0T9XnK6ciKKJQYnSntarTa4jlM815Igotiamh2L+kD7UtM3ortBISq68qJ+T7vGmkR3g4hSBIMTERElPYfLGtXB9UeXn0OthTeKJ6KeiVZsL47u0r3BmR7R3SCiFMDgRIozD5RH/aX3tLa39F1caT6C+8P34PTMCeujH370TLTiRvtZHKxci1WXfhXzvn6S/wJMneeF9ZFICWcinIr6XP3e4HO4PPP4rPCPEf9u7Sp5ByM2i8C9QOF4vC6cvPdFVJ+hE47h4POVPrgY0XPsKfmnwL1ARKIxOFHK8vo8sM1PwTLViRpLMS41HsTpmu34pvIT7DC9jfVXX4I+d+ENxACgz12BtfkvYNvNv+Hrio9w8u4X+L7hAG73FKBnvAVTs2Nwe52CekVEobw+D74s/yDig+nsWx9j1mUT3Q2S6IJ5f1ThyeacFt0FIkpiDE6UEubcDnSPN6O44xwOV63HqrxnJH2JFrWdXvA8Hp8b03PS75P4svwDXG09gZahO7DNTwHgzEtE8eKHH9/d2xrxQfSJu5vh5+9s0iloPR7xe772ym8x75kV3QUiSlIMTpSUnJ459E2249r9U1hX8ELEX6KLZ85yuGYAIKq/aF4w70fHSB0cLquIXUOUNvKaD0f8e2qs3ye6fIpCSeeFiN/7Xaa/w+Nzi+4CESUhBieKCev8JE7VbI8qcOhzV+Bg5VrU95fC5/ct+RoV3ZexuejVqF8n0Kbnxha8RiA4Hb69PibPvyrvGeS3HMGobWDJ/dYxUhfxPR6hbX/5KnSPN8f+jSVSwMWGAxGN8+ZHVcHniObAOb/liMDeU6xUP7wW8Rg4Wv0ZAlcIjNsfYW3+byP63CWi9MLgRAnN6ZlD06Pb2GF6O2ZhKZ7BKbStznsWt3sKeI09UZR6Jloj/j00dRhFl08x1DhYGfFYqOjKE10+ESUZBidKOD6/Dw8n23DybnQzKElpSlyqJ6XtKf0HWobuiNi9REnN7pyJ+PeuqO2U6PJJAeaB8ojHhGWqQ3T5RJREGJwoYXh9nqj+ehhJMw+UP1GHnMkhYtFKOi9gzu0QsMeJkovf78eXZfqIfs9yGw+KLp8UdLunIOLP4Dm3XXT5RJQkGJxItpahamwo/ENEX1D7y1c9sYq7x+dCjaU4rmEltI3bH4XU4hZWR1HbqScmlJicHYnq3rGyB9/HZUwQhWOdn8THV56XPYabHt0OPoep83xEvwc5tTsE9pzi5Wb72YjGxzeVnwSfY8w+GNE4bR+pE9hzIooXBicSxuWdR1Xv1biEkg8u/RLbbr6Bw1Xr8d29rTDW70Ne02EUtZ3C3b6iYE2WqU5cbzuNy83f4oJ5P07VbMeR6o3YXfKPiL5MI2mXm7/9YWpzIgronbgf0e/Tt1UbRJdOcXS5+duIxsmt7iuiSyeiJMDgRHHnhx8NAxWKBY/95atwvv5LlD64iNahO0+d0S4SU7Oj6Bw1o7InH5caD+LQ7XVYc/nXivTjRlsO3F5XzGonSlYOlzWi36Evy/T8HUpD5+r3RjReFi+GTkS0GIMTxdWIrR/bbr4R04Cxp/RdXGk+gtbhu3B65oT0q2e8BTfaz+Jg5cdYdelXMe1f56hZSJ+IEoEffnxVvkr2782WG3/BzPyE6PJJkGN3DBF93vJ+UyJaDoMTLWve7cDByrWyv3zO138J/w9rZACAyzOP/JajMQkSH+T+EqdqtqFxsDIhF5n1+b3oHDXjUuNBrL/6Ukz6/E3lJ5ieG1/wOpGsY7Pp2svom2wXtGcoHUUyTnMbs4PbmwfKIvyDQ4PAXpNoNucUNl17Wfa4uWDeH3yOOw+LZG9/qma7wF4TkdISJjg1NDTgZz/7megySAGtQ3djEh6+vrUG1b2FmHfPiu6SLM2PqnDyXmymVi97kAuvzyu6S0RxMee2R/R7UtJ5QXTplADahmsiGj8D012iSyeiBMXgRIpxe53Iqd0VVVDYdO1l3Gg/gzH7oOjuRG3WbcftngLsLX0vqn1iKHr1iYV7iVLRBfN+2b8fJ+9uEV02JZDrbTmyx9D6qy/B5/eJLp2IEhCDEylixGaJKhxsufGXlJ7lqOnRbRyoWB3VPro/fE90N4gUMzDdJft3YvP11zDLNXlokaPVG2WPpbsPr4sum4gSEIMTLTA1O4ot11+T9QVT0ZW34Dlq+0siDgM7it/CnTT6wmobrsGh2+si3l+Xm7+F1+cJPl/HSJ3sadNbh+8K3AOUqsoefC97PFumOgEAPr8vovsDO0brBfeaEpF1fhIbC/8kezzZnTMAHi/Obih6Rda2p2u4dhhRKmJwophxeedxOsLFWjdffw11/SWiuyBM11gjvr61JqJ9t/Hay5iaHRXdBaKYufvwuuzfA1OHUXTZlMBah+Xfa3uqZpvosokowTA4UUzMzE9gVe4zER34F7Qe5/XkP6jqvYpPC16MaD/2TtwXXT5R1OzOGdlj/0DFatFlUxK41HhQ9th6ONkmumwiSiAMToROHAAAACAASURBVBS1UftARAf6h2+v5+xFS5h12XDB/FVE+7R1iJfdUXKL5Kx170Sr6LIpCTg9c/is8I+yxtaHeb/iH/aIKIjBiWQdpG8vfgPDVktwW8tUp+yDnA1X/4B7fTcE9jg5dI014ssyvez9G7pv/fDj+J3PJW+7v3wVPD63wF5TspN7md2aK7/B/A+Ljk7Njsoe75caDwruMSWTSC4DDZ2IR+5izKFrkhFR8mNwooh1jNTJ/gL6tmrDEwu50vIuNX0jez+bOs+LLptINmP9Plnj/LPCP8LpmRNdNiWZQ7c/lR3uQxd0J6L0xeBEEanvL5V9MF/Udkp02Umr1mLCR5efk7W/85oO8cuekoZ1flL2ZwqnjKZI9E8/kD3WusYaRZdNRAmAwYlkMw+Uyf6rcOvQHdFlJ70RmwVfVXwoa99/3/i16LKJJMlrOiRrbB+6vU50yZTEClqOyRpvm4r+LLpkIkoADE5p6oiMBQFDQ0/HaL2sL5tvqzbAOj8psKepJ6/psKz34Gb72eC2k7Mj2Cxxna5N1/4cXMeEKByHyyr7r/iBafQdLvkz6fVPPxDcY0pmPr8Xm6/rZI25hxM/zrC3o/gtWdu2j9QJ7C0RxQqDE0kmdyKInFouAKiUm+1nZb0Xdx4WiS6Z6Kmu3T8lazyfrdstumRKAbe6L8sadztMb4sumYgEY3AiSeROOZ7Lma4Ud7unQNZ70vyoSnTJRE+Ycztkn20anOkWXTaliI2Ff5I19riEBlF6Y3CisOTetM1JIOLHPFAu673pHm8WXTLRAqbO87LG8Hf3tooumVJISecFWePvq/JVoksmIoEYnNLImdpdkr4YdpW8A7//8Wxsbq8Tq/KekfylUt51SXAv00/7SB0+vvK85PdozD4Y3PZs3R5J22wvflNgDynRXbv/nayDz5q+mwAAn98n+2xT32S74N5SKvH43FhX8DtZYzBw3+6wtU/WdodvrxfcWyKKFoMTLStHYthiaBKrc9Qs+X1anfcc3F6X6JKJ0D8lb1roY3cMokumFHS9LUfWOKzoviy6ZCISJGGCU1lZGX7xi1+ILoNCyFmr6dr970SXm/YaBm9Jfr+M9ftEl0sk6w8z+lyupUPKmHc7sObyr2WNRXCNPKK0xOBESxq1SZ8MIrcxW3S59IPq3kLJ71vDQIXocimNubxOWQeqXLeJlHS19bis8This4gumYgEYHBKcWP2QUlfAjtNf4fP7wMg776m0zWccjzRyLnZftz+KLjd2brdkrap7y8T1zlKOHLuD/m86NXgdq1Dd2UdqDLok5ImHEOyxmNe8+HgtifubpG17bC1T2BPiSgaDE70BKkTBhyu4o2uiaqg5Zik93DNld/A4+P9ThR/e0vfl3yguS7/BdHlUhr4pvITWQHI6/OILpmI4ozBiRZoG66R9IWx4eofMD03LrpcWsah2+skvZf5LUdEl0ppxu6ckXWAerHhgOiSKQ3cfXhd1rjk8g5E6YfBiYLk3HPQMlQtulwKY2p2FJ8WvCjp/eT1+hRPVTLuxeMBKsWLyzOPVZd+JXlcflv1meiSiSjOGJxSVH1/maQP/rIHucFtCltPSNrm2v2TAntGcjQOVkp6T7+48Vf4f5glqnu8WdI2eU2Hw7w6pbo1V34j+SAz9MzmuoIXJG+39ebfBPaQ0k1O7Q5Zod7lnQcgb1ZTfe4KDEx3Ce4pEUWCwYkASJ9Eggv4JR+ps0WZB8pFl0ppYM7tkHWAeb3ttOiSKY3cH74na3xapjpFl0xEccTgRACAHaa3w35BrL/6e0zPjYkulSIg9abnObdddKmU4qSe0Qy0UduA6JIpzWy69rLk8XmjLUd0uUQUR1EFJ7PZDIPBAJ1Ot6Dp9XrZz8XgJE6TxMu57jwsEl0qRWhwplvSe3yBN+GTwvKaD0s+KD1QsVp0uZSGLjd/K3mMbij8g+hyiSiOIg5OBoMBKpXqqU0uBqfYaB+plfRh3zfZDuDxmk1SHv9N5SeCe0bRknrJ3oitHwDghx8bCv8g4VIq/sU13fj8Xlk30V+7/11w21W50taI0+euQBEv0yMB5F6uN++ZBQC0DN2Rtd3DyTbBPSUiuSIOThqNBhkZGTCbzTEphMFJDKnTr/I67uTn9/ux5fprYd/ro9WbRJdKKcrhsso6sOwaaxJdMqUhl2de1jjtnWgVXTIRxUnEwUmlUsFoNMasEAan+PP6PJK+FK40c52fVGEeKJf0nk84hkWXSimoY6RO8sHo6rz/DM70SBRvX5WvkjxW81uOii6XiOIk4uCUkZEBnU4Xs0IYnOLPPBB+ynJD0StcHT3FHL/zedj3Padmh+gyKQVdMO+XfDB66PY60eVSGrt2/6Tksbrmym9El0tEcRJxcDIajVCr1TCZTDEphMEpeusKfhf2A759pBbA43sUpHwh3Ou7KbhXFGvDVouk9356bhwAMOuyYXXef4Z9vGWqQ3DPKF52md6RfFB5o/3sD1v5JW+jz12B4o7YXdFAJFfnqFnWeJ112QAA7TLOqupzV8DldQruKRHJEXFwUqvVnBwiiUm5iZULT6auM7W7wr7/33OGPYohufc38cZ5EknuBCi8z4koPUQcnPR6/RPTkHM68uTg9/uxOu/ZsF8Et3sKRJdKChmY7pJ0MGBzTosulVLEkPWh5IPQtfm/FV0uEQ5WrpU8Zqt6C0WXS0RxkDAL4Obl5eH5558XXUZa6J96EPZLwFD0iugySWEn724JOw7KH+SKLpNSRKPE9eL0uStwpOoz0eUS4Ub7Gclj9lz9XtHlElEcRL0AbuAsEwBYLJaIZ9pjcIrcre7LYT/Uz9TtDj7+bN2e8AfMXTxgTnW9E62SDggCM5tV9V4N+9hTNdsF94qUJuXzJtC23nw9uF1h6wnJ211uPiywh0SPNQxUSB6zm4teDW4n5VLoQMup5UQ8RMkk4uCUnZ0NlUoVvNcJeBycNBoNDAaD7OdjcIoPKQvebrj6B/j9nAY4HRyp3hh2PAxZH4ouk1KAnOmdq3nZEyWAwZluyWNWn7sCfr9PdMlEpLCopiPPzMyE0WhcMBmEXq9HRkaG7OdjcIqPtuGasB/+hfdPii6T4qR1+G7Y8ZDbmC26TEoBcg5AufAtJQK31yVr3M65HaJLJiKFRb0A7uLgtPjfUjE4xceXZXqeYaAFNl17OeyY8PjcosukJCb3ANQ6Pym6ZCIAwOdFr0oetyO2ftHlEpHCYh6cDAYDg1McfXdva9gP88HpbgCA3TkT9rH7y1cJ7hHF2+XmbyWcAWgMPn791ZeWfeymay8L7A0pyeWZlxWAusebAQDTc2OSt/kk/wXBvST60Te310keu61DdwEAHp9b5hnWxjBVEFGiiDg4ZWZmPnGpntlsDl7CJxeDk/KqH14L+wF+q/uy6DIpzvqnOsOOi28qPxFdJiWxHokTkehzV2Bf2fuiyyUKym08KHns/rjYMxGlqoiDk9lshlqtDk4OodFogpNFmEwm2c/H4KS8Haa3w37w250zosskAfaU/DPs2ODlehQpKTMyBlpO7U7R5RIF3eq+Inns8g9MRKkvqunILRYL9Ho9MjMzodVqodPpYDabI3ouBidlSbnH4Pidz0WXSYKUPrgYdnzw3jeK1M32s/yrPSWljtF6yWN3R/FbosslIoVxAdwkduyOIewH+cz8BABgcDr8tKr1/aWCe0SiTDiGw46P8q5Lwcdvvfm3ZR+7/upLAntDSmkZuiP5IPKLG38NbpfXfFjydrd7CgT2kGghKZcyL/W5l1O7Q/J2V1tPiOsgEckSVXAyGAzQarXQarUAflwQ12KxyH4uBidlmTrPhw9ZcxOiyySBtt58nX9NJUXkyFgQtMZSLLpcoqBR24DksavPXSG6XCJSWMTBSafTQaVSQavVLphFL3DJnlwMTsraHGZKVR4U0wXz/rAHBW6vU3SZlIQOV62XfODZ/KhKdLlEQTPzEzKDExePJ0plEQcnjUYDnU635HTkGo1G9vMxOClHyhTCXOSU6vvLwo6Tgeku0WVSEtpT+g/JB56do5HdJ0ukBKdnTlZw8vl9oksmIgVxAdwkld9yNOwHuMNlBQD0TXaEfWzjYKXgHpFo1vnJsOOkuONc8PHbi99c9rFcEyz1XLv/neQDyFM124LbbZSwyHKg9U22C+wh0ZPkBKfA7KPlXZckb3Po9jrBPSQiqSIOTmq1GtnZ2U8EJb1eD7VaLfv5GJyUU9F9WXLIovS2M8yU9XtLucYOybcq9xnJB5HDVvn3yBIp6eMrz0sevy7PvOhyiUhBEQenlStXIiMjAwaDASqVCmazGQaDAWq1GllZWbKfj8FJOd/VbFv2g35P6buiS6QEcUnCYo9Ecsn5i/303JjocokW2Fj4J8njd9ZlE10uESko4uBksViCE0OEtoyMjIhm1Ttx4gRee+21SMuhZay/+tKyH/Q5tTtEl0gJQspCpS5OEEEy+P0+WcFpzm0XXTLRAuFmHA1t1vlJ0eUSkYKiXsfJZDJBr9cHJ4qIFIOTdGP2wbAf3iWdFwEAPr837GO54CQFdI01hh0vk7MjAIDeifthH3uv74bgHlEsnbi7RfIB5I32MwAAn8zg5PTMCe4l0ULbbr4hefwG1k5sH6mTvM2ma38W3EMikiri4KTX66MKSosxOCnD4bKG/dBuGKgQXSYliJm58FPvdo01iS6TkopfVnAKHHgSJYpN1/4sefzyfmGi1BbVrHrZ2bGbwprBSRmPZnrDftA/mukRXSYlkLX5K5cdLxXdl0WXSElGTnAatQ2ILpdogU/yX+AZUyICEIN1nGKFwUkZjYOVYT/o3V6X6DIpgewtfXfZ8XK6ZrvoEinJhLvPMrT1T3WKLpdogVWXpM8K6fHx+5QolUUcnAKz6QXubVrc5GJwku5M3W7J10tfu39q2cduvq4T1xFKSDm1O5YdM58V/jH42FNhZmzccp2/06nE1Hle8gHk0epNwe12hJnmPrR1jTUK7CHRQi6vU9YZU5/fCwAo7jgneZtjdwyCe0lEUkV1qd5yTS4GJ2V833Bg2Q/sr299JLpESjDX7p9cdsysyn1GdImUZL6p/ETyQWTL0B3R5RIF2ZxTsoKTH37RJRORgiIOTiaTackzTUajESaTSfbzMTgp4+TdL5b9kD9SvVF0iZRgSjovhD04IJLjdM12yQee9f2losslChq3P5IVnIgotUUVnGKJwUkZX1d8tOyH/Cner0KL3O4pkHA5ik90mZREpCysHGhVvYWiyyUKGpzuljx21+a/ILpcIlJY1LPqGY1GmM3m4M9NJhPUajVUKhW0Wq3kxXAZnKTbXvym5Oulw60/ccG8X2BPKBHVWkxhDxC8Pg8AoOzB92EfO8sFTVNG56hZ8kHkxmt/Cm53ve205O1KH1wU2EOihbrHmyWP3S9u/DW43fE7n0ve7ibXUiRKGjG7xykwNXlmZiYyMjKQnZ0NtVqNrKwsSc/H4KSMdQXLT6N6pfmI6BIpwTQ/qgr7Re/yOkWXSUmkovuy5IPI8/Vfii6XKOjOwyLJY/dAxWrR5RKRwqIKTpmZmQB+DEsAoFargyHKYDBAo9FIej4GJ2WE+6C/3nZadImUYDpHG8KOmzmeRSIZOkbrefBJSSm/5YjksZvfclR0uUSksKiCU2DacaPRGJxJ72k/D4fBKfb88If9oC97kCu6TEowlqmOsOPGNj8lukxKIuOOIckHnxsK/yC6XKKgo9WbJI/dhoEK0eUSkcIiDk5qtRoGw+N7aQwGA9Rq9eMnDAlO2dnZDE4K+ODSL5f98L7aehyAtOBU3nVJcG8o0fRPdYYdN9b5SQBA23BN2Mf2TtwX3COKJTmL2dZaSgAATs+c5G30ubwvjhLH1pt/kzxuB2d6AABj9kFZ433cMSS4l0QkVcTBKSsrK3gPk1qthkajgV6vh0qlQkZGBoxG44JL+MJhcFJGuA/sG+1nRJdICaZrrJEHthRTUv6IE9r6JttFl0wEP/xh/1AZ2hwuq+iSiUhhEQcni8WCrKwsaLVaZGVlYeXKlcHQlJWV9cSkEeEwOClj7ZXfLvtBn9/CySFooZahO2EPEFyeedFlUpLZYXpb8gFojaVYdLlEGLX1ywr8Pr9XdMlEpLCIg1M4JpNJ1lpPDE7K+OLGX5f9oL9g/kp0iZRg6vtLwx4geHxu0WVSksmVsZZT4f2TosslkvRHpEDjGk5E6UGx4CTXvn37oNfrRZeRFPaWvrfsB/g3t9cFH/tV+YfLPjandofAnlAiquotlPCX1ccL4N5oP8OQlWZahqolH0x+dPm54HZS1gcLtBN3twjsIdFjpQ8uSh6zJ+9+EdzuQMVqydtdbT0hroNEJBuDU4oLtwjf0epNokukBCPlYAHwiy6TkoxFwqQjgbbp2suiyyXCsTsGyWO2nDPUEqUFBqcUd8G8f9kP++xbH4sukRJMUdspCcGJSB7b/JTkg1B97goMW/tEl0xpbl3B7ySP185Rs+hyiSgOGJxSXGHriWU/7LfefF10iZRgztXvXXbMrL/6kugSKQn5/D5ZwamyJ190yZTGpKxnF9oCSzQQUWqLODiZzWasXLky+O+VK1fCbI78Ly4MTtJdbDiw7Af46rz/DD62rr8k7Ad+4H4VIgDYX75q2fFy7I4h+NiDlR8v+9idprcF9oSUcrR6o+QDyuN3Pg9uJ+fSp5O8z4kEKumUfn+TPncF/D9cvmzqMEreZsNVLvZMlGwiDk5Go3HB4rahC99GgsFJGQPTXWE/vEdsFtFlUgJZf/X3y46Xks4LokukJNUwUCH5oHL91d+LLpfS2OGq9ZLH6tm6PaLLJaI4YXBKcXbndNgP/eZHVaLLpARhd86EHS8dI3Wiy6QkNTM3Luuv+APTXaJLpjS15spvJI/TtuEa0eUSUZwwOKU4r88T9kOfZxAooHeiNex4Gbc/El0mJSk//LKCUxlnKiMBesZbZI1Tu3NGdMlEFCcMTklIShi62HAg+Phwfzk7V79XYG8okdx9eD3s2HJ65gBIu3+ua6xRcI9IKeHWkwtth6vWB7fLqdkhebuj1RvFdZDS1o32s7KCU8D1ttOSt/kg95dc444oCTE4pYGj1ZuW/QD/qnyV6BIpQRS0HAv7he/nGk4Uhdahu7IOSh0uq+iSKc3sNP1d8vjMbTwoulwiiiMGpzRQ0nkh7Ie/y+sUXSYlgH1l7y87TnYUvyW6REpyctdzutV9RXTJlEb6Jttljc8HYw2iSyaiOIpqOvLMzMzgvzMzMzkdeYLqGmsK++HfNsKbW9PdnNsedpxcbT0hukxKAXIOTHlGnOLpUtM3ssbnrNsuumQiiiMugJukqnqvSg5DUg6I81uOCu4RidYyVB12nPRO3AcgbUzl1O4Q3CNS2lcVH0o+wDxY+XFwu6K2U7IOToesD8V1ktLKhqt/kDwut918I7jd1dbjkrdbffk5gT0komgwOKWJtVd+u+wH+d7S90SXSILlNR0K+4U/75kVXSalgHHHkKzgdO3+SdElUxqQ8sej0NY0WCm6ZCKKMwanNFHYeoKXHNCydpW8s+z4+Kzwj6JLpBSyruAFyQeoW278RXS5lAa+u7dVVnAKzDBKROmDwSlNPJxsC/slwIVw05fNGf6G/RttOaLLpBQiZer70NY5ypvwSTnzboes8Xji7mbRJRORAAxOSay4wyg5DDk9c2Efe7Zut+AekShVvYVhx0f/1AMAgN05HfaxR6o+E9wjipfjdz6XdcDZP9UJAHC4rLK2O8PPJ1JQRVeerPEYuN/TDz/W5q+UvJ2h6BXBPSWiaEQcnNRqNUwm0xM/NxgMyMjIkP18DE7K23jt5WU/0Fdffo4L8qWpr2+tCfuF7/LOiy6TUsyBitWyDlZHbBbRJVOK2nxdJ2ssev1e0SUTkQARB6enrduUnZ29YH0nqTZt2oRNmzZFWg5JYOo8H/bLoKbvpugyKc5GbQNhx8Uu099Fl0kpqGOkTtbB6gXzftElUwqqlnDGPbQVtBwTXTIRCSI74WRmZkKr1UKlUiEjIwNarXZBU6vV0Gg0sgthcFLe9NxY2C+Ew7fXiy6T4ux6W07YccH730gJbq9L1gGrPncFJhzDosumFLO9+A1ZY3DMPii6ZCISRHZwCgSkpwWnzMzMJS/hC4fBKTJlD3LDfsjfaD8bfPzmolfDPn5qdlRgjyjett0Mf9AQmD2qc7Qh7GOP3/lccI8o3rrHm2UdeIau8VVjKZa17aWmbwT2lFKN3PG3Nv+F4LblXZdkbVvelSuwp0QUCzG/VC9SDE7xUd9fGvbDvaTzgugyKU6kHPB+d2+r6DIphU3Nhj8THto+yP0lbPNTosumFLG75B+yxl/bcI3okolIIMnBSavVwmAwBP+dmZkJs9kcs0IYnOJjTsKUq1tv/k10mRQnZ2p3hR0PDyfbRJdJKe67mm2yDl4LWo+LLplSQMPgLVnjTp+7Aj6/T3TZRCSQ5OC0+AwTzzglr8NV68N+OdzjJBEpb9hqkXigwNmjSFnj9keyDl4/uvwc7M5p0WVTkttfvkrWuGsarBRdMhEJJjk4aTQaZGRkQKfTQafTQaVSISsrK/jvxU0uBqfITTiGwn7gf1rwYvDx3eNNYR+/y/SOwB5RPJw37w87DgpbTwQff6Tqs7CPr+svEdchEk7KtPahLfSyYCl/0Altxvp9AntKye5W9xXZZ5u8vsd/ROocNcva7uMrz8Pv9wvuMRHFguTgZDKZkJGRAZVKJanJxeAUP16fR9KHvXmgXHSppJAJx7CkMcAZzChehm19sg9kO0brRZdNScjunMba/N/KGmu1FvmTXhFR6uHkEGnq7sPrYb8ovizjgsSp6lLTN2Hf/6PV/H2k+PpK5qVTe0vfFV0yJSFj/T7ZIZ2LwxMREEVw0uv1sFhit4o7g1N8ub1OSV8WLUPVokulGLPOT0p670ds/aJLpTQzMN0l+4C29MFF0WVTEpG76LI+dwWqegtFl01ECSLi4AQAZrN5wT1NFosl4rNQDE7Ry6ndEfYL4FTNtuDjK7ovh338npJ/CuwRKUHKvU3Zt9YEHy9lrZIt118T2CNKJC7PvOzLoKofXgtuv6P4LVnbfpj3LNeeI8n2lr4rOzi5vE4AQP9Up+xteyZaBfeYiGIp4uCUnZ0NlUoFtVodvKfJYrFAo9EsmLZcKgan+HN65iR98Js6z4sulWJEygK2+twVGJzpEV0qpakRm7TZHkNb6IK6RE9T+uCi7LHVwHt9iShExMEpIyMDmZmZMBqNCyaD0Ov1yMjIkP18DE5imDrPh/3iWHXpV5wkIEXsK3s/7Pu9u+QfosukNJffclT2AS4ns6HlDFv78GHes7LG1Nabr8MPzoZHRD+KenKIxcFp8b+lYnASY85tl/QFEnqJHyWnsge5kt7rvskO0aVSmpN6Njy0rc1fiXH7I9GlU4KSu2aTPncFRmyxu4+biFJDzIOTwWBgcBJsl+mdsF8IFxsOBB9f2ZMv6Uuk+VGVwF5RNKbnxvHR5efCvseHqz4NblPTd1PSuJicHRHYM0pU03Pjsg9Uz9XvDW7fOnRX9vYHKz8W2GNKVFJmEV3c8luOBreXcj/w4tY6dEdgj4lIKREHp8zMzCcu1TObzcFL+ORicBLH5/fio8u/DvtFsL34TXh9HtHlUgRyandK+rKfmRsXXSpR0N7S8JeWLnfAS1RrMckeQ/rcFXB65kSXTkQJKOLgZDaboVarg5NDaDSa4GQRJpP8heIYnMTqm+yQ9GVytm636FJJpoquPEnvbXnXJdGlEi0w7hiK6KC3YfCW6NIpAYzYLFgj4Y+Ci1sLzxYR0VNENR25xWKBXq9HZmYmtFotdDodzGZzRM+l1+uxb9++aMqhKOXUhJ/OXJ+7ApU9+aJLJYl6JlolHyzwbCIlohttObIPfNflv8AJbQhfVXwoe+zsLX1fdNlElMCiCk6xxOAUe4aiV8J+SWy69jI8XhcAwOGySv5y6ZtsF9w7CsfjdWF78ZuS3s/eifvB7Y7dMUjaZnCmW2DvKFnMux3YcPUPsg5eP8x7Nhh83F5XRGedvqn8RHDPSaS8psMRjZtxx1DwOfaU/FP29t3jzQJ7TURKkxycAhNBSG1yMTglhnt9NyR9Oew0vc0zFAnuTO0uSe/lybtfiC6VaFnDtr6IDoLP1O4SXToJYOowRjReGgYqRJdORAlOcnBSqVSymlwMTonB7/fjy/IPJH3JhM6ARYlF6n1N+twVmHXZRJdLFFaNpTiig+G8pkOiS6c4quotjGicGOt5/EFE4UlOOCaTSfLZpkgmh2BwShwO14zkL5v8liOiy6VF5Mwi9XCyTXS5RJJ9d29rRAfF19tyRJdOcdAweCui8bE67zm4f7hknYhoObzHKQ3kNR2S9OVxtfVEcJteGZMKFHfIvzSTlNE6LH3tm7IHucHtpB5wfFXxocDeUbK70nxE9kHt3tJ3g9u7PPMRHRjrc1fgVvdlgT0npXWOmiMeG2P2weDznK3bI3t73k9HlD6iCk7Z2dnBGfW0Wm1wXadIMDglHlPneclfHFW9haLLTXu9E61YLWGRW33uCnxVvgp++EWXTCTbkPVhxAfItZYS0eWTAvqnH2Bt/sqIxoR5oEx0+USURCIOTjqdLrh+UyA4BdZ0ys7Olv18DE6Jx+/3y1qAkjfWijNis+Czwj9Kfq8cLqvokokiJnUSm6Vay1C16PIphoatFnxe9GpEY+Fs3R7R5RNRkok4OKnVamRmZj7x88zMTGg0GtnPx+CUmOxO6fc76XNXoHGwUnTJaWfYasG2m29Ifo8eTvC+Jkp+JZ0XIw5P9/puiC6fYqBnohUbCuVNdR9oa678Bm6vU3QXiCjJRBycVCrVkpflGY1GzqqXoB7N9GDVpV9J+lK5dv9kyHa9sr6Q7jwsEtjL9NIr88Chrv/HS5UaByslb1djAiP7MQAAGApJREFUKRbYS0o1o7YBfHzledkHu/vKflyc1OvzYG/puxGHp9B7/Cj5tA7dwYd5z0b8/lvnJ4PPZazfG9Fz8A+FROkn4uCk1Wqh0+me+LnBYOAZpxTUM94i6wulpPOi6JJTntwDh/KuS6JLJoopp2cO66++FPHBc+gfiCh5RDo1faCN2x+J7gIRJamIg5PJZIJarV4w9XjgZ1wANzU1P6qW9eV0tfW46JJTltwDh4KWY6JLJlKEnOUTlmrfN3wtugskg5w16pZqA9NdortAREksqnucYrkYLoNTcrj7sEjWl9QF837RJaec8q5Lst6DnNpdAGfQoxQ2OTsS1cH0qZrtortAEhS1nYrqfX4w1iC6C0SU5CIOTnq9HjqdLmzT6/WSn4/BKX4GZ7qx6tIzkr5sNl/XYcIxHNy2uOOcrC+rfWXv49FMr8DepgaX14mc2h2y9n32rTXw+b3B5zhSvVHytvf6bgrsLaWLEZsFay7/OqID4dBlEKKZplyfuwJ7S9/D4Ey3wD1BTzPvdkS8+HGgNQ7eCj5f93iz5Pt9l3seIko/XACXInK97bSsL5sP857lTFZR6B5vljVzXiA0cdYoSic9MhbuXqqtuvQM7jy8Lrob9P+3d2/BUd2HHcfPdNoZPTLZh850RjN+yIs646kf/NC8MftC0mlSGjqJ47pZ6iRtnfQiXGIbgh0pGOMYbHBkQYhJ5NhABFRcZEAIJEuAuAlpxUUIhBBC4iIkIQkJSaDL7q8PzlGOVrs6ez9nd7+fmf8MSKuz//PfPf/z/53L/1i097Xo7aPLE/pcT3VWOr0aALJEQsHJ7/fL5/PNPvy2sLBQ3d3dcS2L4JR5Tt86HPMObG9LidPVzjj1HRUxt/OOCxvmnGkCckXbgwsJDbILK5Zoj/9XTq8GFNtD2COV2vY9Tq8GgCyS8OQQhmEoPz9f+fn5MgxDeXl58vv9MS9v+fLlKisri7c6cMilGKa0NssHX/y3OvovOV111xscf6BPG9+NuX0PtZaJe5qQy24PXkt4wP3BF//FRAIOGZ8c1Sfn3k74M2zkcmMASRZ3cHr++eeVn58/JyT5/X7l5+fL6/XGvDyCk3NmAtP6Vf2rMQ0ohsb7Zv++o/9SXDu1vS0lGp967OCau1dt+564nlFyomP/nOXsvLAh6r9dVbmMgSIc1TvSHff04kVH/lm3B6/NLuvBaHfCA+8VFV/XGct9VEi9tt5GrU3w0rzCiiVqvX9udpljkyP66ORP415WC/c1AfijhB6AW1paOu/nxcXFysvLi3l5BKfMdnf4Zlw7pDWHvsPAxOLagya9H+dDPZt7vnC6+oCrDE8MJDwAL6xYoi2n3pgTypB8jyYealfTxqR8XrceXnV6dQBkqYSCU7jnNZWXl0c9BbkVwSnzPZoY0LrqlxmYxGFovC/up9cXVizJ6bYDFjI+Oariqu8nZUB+4PJvND0z6fQqZZ36jn167eA/JOUz6h297fTqAMhicQcnj8cjn8837+c+n08ejyfm5RGcskMgOKPDrWVx7/R+e7ZYHf0XnV6NtOkbvaO9LSVxt1fpydc0Pjnq9GoArjY181QlJ1YmZWBedOQlXeiusX9T2Orov6gP61ck5XMprFiiofF+p1cJQJZL6DlOhmHI6/WqtLRUpaWl8nq9MgwjbKCyQ3Byj6u952PeYR2/Pvfs4/W+5oR2gL9uWK22B40OtUDq3XvUqV1N7yfURvUd+xS0TALRcvekVlcui2kZNe27HWwFYGHxzChpLdXXds4uKxCc0f9d/Chpg/SPT7+lu8M89ykej548TOiAUWj54Iv/0djkyOzy/XfqE1re7ubNDrYOADdLaDpyn883O7OeWb797W/HtSyCU/YZeTKo9cd+mNAOrOTESjX31M0JCJmsvc+vTxvXJzxQ6B667vSqABnp8r0zSRuwF1Ys0e/Pv8M9NVF6OHZf+y5uSWr717TvVjCYHfsHAO6XlAfglpeXh73fKRYEp+wUCM6otn1PwjvHNyr/Ubv9H2bkZXz3R7p0+OonCT/EsbBiiXY0/pKZCIEEDY736s3DLyR1AL/9zM91o7/F6VVzpd6Rbu32f5jU9i6sWKLOh61OrxqAHJPQpXrhHnZbXl4edrY9OwSn7DY03q/Sk68lZWe5rvplHbn6e90f6XJ6tSIaGu/TyZsHknb9/sr939TtQc4yAckyE5hO+tmPwool2npqla72nnd69VyhZ/iGdlx4L+ltvLmuUGOTj5xePQA5iFn1YOvRxENtriuMeef227PF6hu9M2dZ1x80JXUH+vMjL+rTxnd15tZh9T++61ALSaNPh+S/U6+9LSVaf+xHSV3HU52VCgRnZt9remZSBy7/JublrKpcpvY+jogjc+1MwnTVdTcq5izzyv2zSR/Ym4P7EzcP6PHTYYdayxmBYEBNPbX6+PRbKWnX2vY9cy7Nu3zvtNYc+k5Cy/ywfoVGngw62GoAMkXMCaempmY2HBUWFs5epmcWc4KIWBGccsfUzFNVtX2akp3q2qM+7Wp6X1/c2Ksr98/OC27JMDTep/Y+v051VmrfxS3aUPPjlKzL9jNF7MyBNBga71NR1Usp2Y4LK748iNRy54TTq5lS7X1+lTdv0usHl6asHbmXDIDTYk441okgIpV4JoggOOWeofF+7W7enLKdrFlW7Pu61h/7kbafKdL+S9tU1fapatv36vStQ2rqqdWV+2fV0X9RNwcu62rvefnv1OtsV5XqOyp0tG2HDl7+WL8//4421v4kac8aWahsrl+hO8MdTn88QE4JBgNq7D6e0m17deUy7W0p0c2By06vblLM3r9Z/a8pbbfDVz/R5MxTp1cXAGIPTuaZpUhnnGpq4nu+BcEpd408GdT+y9tSHkgilc6BK7N1mZh67Fg9tp3+mXpHeHgj4KSxyRHtbNqQ8u39rcPf06eN63X61uGUnBlPhUdPHqq5p067/R/qnWM/SHkbbah5xdFLsAEgVNz3OD3//PPy+/1JqwjBKbPcenhVvzz+73HtDFfu/3sdbduhiZDZ4cYmR1J2CV+k4r9Tr86BK7P/ljT7/3SVT86tCzs4ONtVpXXVL8fXxge+qcbu42n5LgBOaeqpTco2WHrydXUNts1ZdvdQe1rOMJvlF1Xf166mjTp/+5gGxx841KJzjU+O6tK9BlVc3KL3av4jrf3ipbun5tRleKJfOy8kJ9BWtX3mUIsCyHRJmY48GQhOME1Mjen87WqtOfTdtO6ozZ1p78jttLzfsWu7NDTe53BrA4gkEJzR6VuH0toPmeXNQy+o5MRK7W7erC9u7FVriu7ZlL68x+t6X7NO3jyoiotbtLVhtX5R9X1H1nvfxS16Mj2ekvUEgEQRnOBqD8d6dbTts7TssM1L9hJ96vxCZVfT+7oz3KFgMOBwywKI1uiTobTcjxlNeXXfN7T+2I+0tWG1ys6t1a6mjaq4uEWHWstUc71cpzor1Xj7mC7da9CF7lo1dH6u2vY9OnL1E+27tFV/aP5An5xfp20Na7Sh9sdpPau2UCk5sdLVj5gAAInghAwRCAbUPdSuHY2/TMlOe1vDGkmpOdu0uX6F2nobNcXNzUBGG3kyGNejACiRy/Yzb+nB6PxnQgKAG7kmOC1dulT79+93uhpIUH1HhV478K2Ed6Yba3+i2vY9YS9lCwQDejjWq8bbx5LyUF0zNA1P9CdlILCu+mXV3ajQvUe3NB2YnFf/yZmnOn+7WlsbVifl/fZd2qqn0xMp/2yBTJDs+yQ/b/2dK+7HjLaY92qa0nXpcazls8Z3NTB2f97n19D5uVZVLkva++y8sEFTM/P7YQCIB8EJGW8mMK2+0Ts6feuQtp1eo1f3fyOmHauUWGjaXL9C1dd2qWfoBlPmAjlkYmpMte17HA8hZjEPApkT3KTj8uNYyx7/hxqe6HfyYwOAuBGckJVmAtMafTKk7qF2NXYfV8XFLfrdubXzJpywTkVuZX3NG5XLtP7YD7WzaYMaOj9X58AVDY33c+kdAEnS5PQTNXYf15uHX3A0lJgT3ITOFOqG4FTTvlujT4ac/JgAIGEEJ+SooALBgGYCU5qcfqLxqccamxzR0+kJTQemFAjOKKig05UEkGEGx3tV3bbDsYBiMp8J5+Sz6XY3b9bdR50KBulLAWQHghPSYnzqsaraPkvqteuhpbjqX7S1YbUqLpbq5M2Duv6gKSXTfT9+OqzOgSs623VUlVc+1vYzRXrn2A9TPgDh4bhAfFp7z+nnR15Myba5s2mjbg9em/eegWBAPUM30vIw3dBivScr3WebPjrxU13vaw57X9HA43uqvLJdKw98MyXvffLmwZR+jwCA4AQAQApNzjzV1d7zKju3NqWhxbzHyTzLZAaoVIenkhMrdf52tcYmR5xsZgBIOYITIMkwjNni9Xqdrg6ALBUMBjQ03qemnlptO/2zpAYY857Nqj8++y5Vj1nYWPsTnbx5UA9GuzUTmHayOQEgrQhOyHmGYai8vNzpagDIQYHgjAYe39O5riqVnFiZlOBknmEKnSwi3rKu+mXVtu/RvUedTO0NIKcRnOAafaM9qmr7TO8c+0FKLyuxlr9e/FfKf/YraXu/0LL683/S3paSiLP7AUid4Yl+7byQnnuQVlUu0/YzRarv2Ke7wzcj1imooJ5OT+jhWK/a+/yqv1GhsnNr9UaU94eGTvUdy9mmradWqfraLrXeP6cHoz2amBpTMBiIWNeBsfs623VUOy68p6IjL6WlHT86+Zq6BtuS9h0AgFgQnJDTvF7vnMv0OPsEwK1mgjMam3yk/sd3dXf4pjoftqqtt1H+O/U6feuwatp3q/LKx/pD8wfafuYt7biwQfsvb1P1tV061Vmppp5atd4/p5sDl9QzdEMPRns08mRQ04Epp1cNADICwQk5raCgYM49TT6fTx6Px8EaAQAAwI0ITshpBQUF8vl8s//3+/0yDNdsFgAAAHAJ14wQCU6IR//juzrbVaV9F7fo1w0/09qjvpiul89/9itz7nH6u1f/RoZhxLSMNw+/oJITK7W7ebN6hm6oZ6jd6WYBkASnbx1K+TPaklVeO/AtrTn0Xb19dLk21PxYvzrxv3q/9j+1rvplvXX4e3r94FLH6xhNWVW5TFVtn2nc8iwqAHALghNyWnFx8ZwzTF6vl+nIAWQUn883e49mqO7ubnm9XuXl5ckwDHk8HpWWljpQSwDIfAQn5DzrBBEFBQVOVwcAouL3+5Wfnz9ncptQob83DGPO5ckAgOgRnAAAyEDl5eXKz8+PeMbJPKPu8XhmZwv1+/3y+/1OVBcAMh7BCQCAOF2616BPzr3t6H1B5r2Zofdn5j/7FRmGoa+98FXH710qrFii0pOv60zXET2ZGnf6YwOAuBCcAADIYOXl5WHPOBUUFMxegsw9TgCQONcEp8WLF6uurs7pagAAkFHsglNoycvLc6imAJDZCE4AAGQwu+BUXFws6csZ9jwejwzDmL3nCQAQPYITAABp8vjpsFruntTelhK9e/zf0nKP01f/9i9VWLFEL278mv78L/5MhmHoxY1fi/v9io68pB0X3tPZrqMaGLvvdJMCQNoQnAAAyEDWM03hLsWL9HseuwAA8SE4AQCQgeyCk/TllOTm5Xl5eXnyer3q7u52sNYAkLkITgAAAABgg+AEAAAAADYITgAAAABgg+AEAAAAADYITgAAAABgg+AEAAAAADYITgAAAABgg+AEAAAAADYITgAAAABgg+AEAAAAADYITgAAAABgwzXB6bnnnlNLS4vT1QAAAACAeQhOAAAAAGCD4AQAAAAANghOAAAAAGCD4AQAAAAANghOAAAAAGCD4AQAAAAANghOAAAAAGCD4AQAAAAANghOAAAAAGCD4AQAAAAANghOAAAAAGCD4AQAAAAANghOAAAAAGCD4AQAAAAANghOAAAAAGCD4AQAAAAANlwTnJ555hl1dXU5XQ0AAAAAmIfgBAAAAAA2CE4AAAAAYIPgBAAAAAA2CE4AAAAAYIPgBAAAAAA2CE4AAAAAYIPgBAAAAAA2CE4AAAAAYIPgBAAAAAA2CE4AAAAAYIPgBAAAAAA2CE4AAAAAYIPgBAAAAAA2CE4AAAAAYIPgBAAAAAA2CE4AAAAAYMM1wWnRokUaHh52uhoAAAAAMA/BCQAAAABsEJwAAAAAwAbBCQAAAABsEJwAAAAAwAbBCQAAAABsEJwAAAAAwAbBCQAAAABsEJwAAAAAwAbBCQAAAABsEJwAAAAAwAbBCQAAAABsEJwAAAAAwAbBCQAAAABsEJwAAAAAwAbBCSkxPDzseOnq6nJFaWlpcUWpq6tzRdm/f78rSllZmSvKpk2bXFOKioocL4WFha4py5cvd7wsXbrU0bJ48WLXlOeee84V5ZlnnnFFWbRokStKXV2d00MOIG2SGpyKiopkGEbM5dlnn1VRUZE2bdpEB5aEEs9nkOzidBssWrTI8e+EWZzeyZvF6UGPWZweCJrF6QGxWZwOB9bidGgy9wNuKU6H6rKyMscPMDh9oMVanD74ZBanD8aZxemDk9YC5ArXnHEqKirS8PAwHRgdGACLoqIip6sAAPPQNyEXuSY4GYZrqgIArkHfCMCN6JuQi1zzrWcDBID56BsBuBF9E3KRa771bIAAMB99IwA3om9CLnLNt54NEADmo28E4Eb0TchFrvnWswECwHz0jQDciL4Jucg133o2QACYj74x/crLy2UYhsrLyxd8nWEY8vl86alUlikoKJDH43G6GkgAfRNykWu+9WyA2Y2BSHQMw5DX603a65D56BvTj/4q9QhOmY++CbnINd96NsDsxkAkOgQnhKJvTD/6q+SJti2ReeibkItc861nA8xuDETi4/P52DZyHJ9/+tFfJQ/BKXvRNyEXueZbzwaY3RiIxIfgBD7/9LP2Vx6PR4ZhhD3La+2v/H6/DMNQcXHxnNcUFBSooKBgzs/M7TrScpNVf7NOZgnXtxYUFMx5TWj9Q+sa+rrQ97B+X71e77zfmevq9XpnL9Wz/ju0bta2Ky4unrOs0HZFetE3IRe55lvPBpjdsmUgImnB+pv1W6gu5rLMYg2THo9n9vXW9wkdrIS+Llw9QgdKoYMYAmpmoG9MP+s2am6fZn9k3W7i6a/ChYSF+qxw4cMuOFjr7/f7Jf0pdETqb6x/Z66D+TfmMkIPgJnrvND6RjpoZm2HSK+x1iXcQSSPx0N4chB9E3KRa771bIDZLZsGIgvV3+PxhK2Ludxw62R9fehAJtIZJ+vrwr3GesRZmt9m4eoOd6JvTL9oBvtS7P2V+ZrQ5Sb7zPJCQcSsrxmKQlnr6/V65/WJHo9nwX7D5/PNaaNo2zK07wutX7i2DQ12SC/6JuQi13zrX3nlFaergBTK1oGItf6RduLWn0daJ1M8wSncMq0DntAQFa7ucC/6xvSLtL2Hbo+x9lehZ5sjXeKWqvqHO+Cy0AEkuzNOC62TXV1C+5/QwOX1euf1cZEKwckZ9E3IRa4JTshu2ToQsdY/UsgJ/VvrGa/QHX48wUn6sk2s//d4PPMutwlXCE7AfKnur2KZKCGRM+TRBKeFhOs7rOtn/t76s9DlRhucQg+ChTu7H+mAEwCkC8EJaZGtA5F4gpN1PULDS7zByXpZi/V+LOvvOCoLRCeeM+Th/i+FP0Oe6gAQTXCKpl8oKCiI6bI882fW/ifSVQHhznib72feC2sVrm0BIN0ITkiLbB2IxHqpnt1y7a7zN4WbEMJcjs/nC3vDN9MBA9EJd0+j+bOF+qfQh7qaB0esB2TMn1n7g+Li4qROaBNNcDLrHxpQvF7vbH8a6SCTudzQCSes7WaKdD9luOBUXFw8W8dwrw93mSCTQwBIJ4IT0iJbBiLR1D/cJAzWo7zhziiZdY8UnOwGQNKf7gnweDxhXx8awHw+H0dwgTCsZ22tgSF0e4n0M+vrw02wEBpIkj34jzY4mT+LtI4+n29e3UIPBIWuS7iDPdb7qczlR7rHMtJlzKHL4VJjAE4gOCEtsmkgslD9pYUHItL86coXmh449PWRzkxZ6xhpMGE3TToAmCKdzY906R0A5AKCExAFLncDkGvCHWAxD1IBQC6i9wOiQHACkGvCTQPO5XEAchnBCYgCwQkAACC3EZwAAAAAwAbBCQAAAABsEJwAAAAAwAbBCQAAAABsEJwAF2ptbXW6CgByBP2Ns2h/Z9H+zsq09v9//cxIcasPQoEAAAAASUVORK5CYII=)"
      ]
    }
  ]
}